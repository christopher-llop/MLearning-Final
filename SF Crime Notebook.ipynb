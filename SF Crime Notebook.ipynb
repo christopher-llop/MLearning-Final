{
 "cells": [
  {
   "cell_type": "markdown",
   "metadata": {},
   "source": [
    "UC Berkeley W207 - Machine Learning\n",
    "Miki Seltzer, Eric Freeman, Christopher Llop\n",
    "\n",
    "This Notebook contains our solution to the Kaggle SF Crime problem available at:\n",
    "https://www.kaggle.com/c/sf-crime\n",
    "\n",
    "The notebook covers the following methods and includes discussion of key decisions along the way (as of 2015-06-17). If you are not part of our W207 class, you are welcome to look through our methods and leverage our code to develop new solutions. We may also continue work after creating this report - just go by the \"last modified\" date on GitHub.\n",
    "\n",
    "Concepts Covered:\n",
    "1. Basic data exploration\n",
    "2. K-Nearest Neighbors\n",
    "3. Logistic Regression\n",
    "4. Bernoulli Naive Bayes\n",
    "5. Gradient Boosting\n",
    "6. Neural Networks\n"
   ]
  },
  {
   "cell_type": "code",
   "execution_count": 10,
   "metadata": {
    "collapsed": false
   },
   "outputs": [],
   "source": [
    "#This tells matplotlib not to try opening a new window for each plot.\n",
    "%matplotlib inline\n",
    "\n",
    "# General libraries.\n",
    "import numpy as np\n",
    "import matplotlib.pyplot as plt\n",
    "import pandas as pd\n",
    "\n",
    "import csv\n",
    "import datetime\n",
    "\n",
    "# SK-learn libraries for learning.\n",
    "from sklearn.pipeline import Pipeline\n",
    "from sklearn.neighbors import KNeighborsClassifier\n",
    "from sklearn.grid_search import GridSearchCV\n",
    "from sklearn.linear_model import LogisticRegression\n",
    "from sklearn.naive_bayes import BernoulliNB\n",
    "from sklearn.tree import DecisionTreeClassifier\n",
    "from sklearn.ensemble import RandomForestClassifier\n",
    "from sklearn.ensemble import BaggingClassifier\n",
    "from sklearn.ensemble import GradientBoostingClassifier\n",
    "from sklearn.decomposition import PCA\n",
    "\n",
    "# SK-learn libraries for evaluation.\n",
    "from sklearn.metrics import confusion_matrix\n",
    "from sklearn.metrics import accuracy_score\n",
    "from sklearn import metrics\n",
    "from sklearn.metrics import classification_report\n",
    "from sklearn.metrics import log_loss\n",
    "\n",
    "# Libraries for Neural Networks. The versions currently available via \"pip\" are not up to date, and do\n",
    "# not sync with each other. To use these packages, install directly from github using the instructions\n",
    "# here:\n",
    "# https://github.com/dnouri/nolearn\n",
    "from lasagne import layers\n",
    "from lasagne import nonlinearities\n",
    "from lasagne.updates import nesterov_momentum\n",
    "from nolearn.lasagne import NeuralNet\n"
   ]
  },
  {
   "cell_type": "markdown",
   "metadata": {},
   "source": [
    "#Data Explorations"
   ]
  },
  {
   "cell_type": "markdown",
   "metadata": {},
   "source": [
    "We started with a basic exploration of the data. For the purposes of this report only some of those checks are\n",
    "shown below. You can examine these searches further in the \"Load and Examine Data\" iPython notebook. \n",
    "\n",
    "Some tasks:    \n",
    "- Count unique values for each variable\n",
    "- View most common values\n",
    "- XY plot of lat/long w. circles to indicate number of crimes\n",
    "- Time series plots to see how category use changes over time\n",
    "\n",
    "Interesting Points:\n",
    "- Most crime on Friday, then Wednesday. Least on Sunday.\n",
    "- X and Y latitude have same number of distinct values. Seem to be somehow linked to locations\n",
    "  since, despite there being a lots of sig fig, they still can be frequency counted\n",
    "- 800 Block of BRYANT ST has 4x+ more data points than anyplace else. Seems to link w/ most freq X and Y\n",
    "- \"Other Offenses\" are common\n",
    "- The dates with the most crime are new years day. Also the first of months.\n",
    "- Note: Strange max value of Y = 90 for 67 values. These appear to be in Chicago, but the data has addresses in SF. We removed this data from our analysis."
   ]
  },
  {
   "cell_type": "code",
   "execution_count": 25,
   "metadata": {
    "collapsed": false,
    "scrolled": true
   },
   "outputs": [
    {
     "name": "stdout",
     "output_type": "stream",
     "text": [
      "There are a total of 878,049, values.\n",
      "There are a total of 389,257 Dates.\n",
      "There are a total of 39 Category.\n",
      "There are a total of 879 Descript.\n",
      "There are a total of 7 DayOfWeek.\n",
      "There are a total of 10 PdDistrict.\n",
      "There are a total of 17 Resolution.\n",
      "There are a total of 23,228 Address.\n",
      "There are a total of 34,243 X.\n",
      "There are a total of 34,243 Y.\n",
      "-------------------------------------------------------------------------\n",
      "There are a total of 39 distinct Category values, as follows: \n",
      "LARCENY/THEFT                  0.199192\n",
      "OTHER OFFENSES                 0.143707\n",
      "NON-CRIMINAL                   0.105124\n",
      "ASSAULT                        0.087553\n",
      "DRUG/NARCOTIC                  0.061467\n",
      "VEHICLE THEFT                  0.061251\n",
      "VANDALISM                      0.050937\n",
      "WARRANTS                       0.048077\n",
      "BURGLARY                       0.041860\n",
      "SUSPICIOUS OCC                 0.035777\n",
      "MISSING PERSON                 0.029599\n",
      "ROBBERY                        0.026194\n",
      "FRAUD                          0.018996\n",
      "FORGERY/COUNTERFEITING         0.012082\n",
      "SECONDARY CODES                0.011372\n",
      "WEAPON LAWS                    0.009743\n",
      "PROSTITUTION                   0.008523\n",
      "TRESPASS                       0.008343\n",
      "STOLEN PROPERTY                0.005171\n",
      "SEX OFFENSES FORCIBLE          0.004997\n",
      "DISORDERLY CONDUCT             0.004920\n",
      "DRUNKENNESS                    0.004874\n",
      "RECOVERED VEHICLE              0.003574\n",
      "KIDNAPPING                     0.002666\n",
      "DRIVING UNDER THE INFLUENCE    0.002583\n",
      "RUNAWAY                        0.002216\n",
      "LIQUOR LAWS                    0.002167\n",
      "ARSON                          0.001723\n",
      "LOITERING                      0.001395\n",
      "EMBEZZLEMENT                   0.001328\n",
      "SUICIDE                        0.000579\n",
      "FAMILY OFFENSES                0.000559\n",
      "BAD CHECKS                     0.000462\n",
      "BRIBERY                        0.000329\n",
      "EXTORTION                      0.000292\n",
      "SEX OFFENSES NON FORCIBLE      0.000169\n",
      "GAMBLING                       0.000166\n",
      "PORNOGRAPHY/OBSCENE MAT        0.000025\n",
      "TREA                           0.000007\n",
      "dtype: float64\n",
      "\n",
      "-------------------------------------------------------------------------\n",
      "There are a total of 10 distinct PdDistrict values, as follows: \n",
      "SOUTHERN      0.179013\n",
      "MISSION       0.136562\n",
      "NORTHERN      0.119920\n",
      "BAYVIEW       0.101852\n",
      "CENTRAL       0.097329\n",
      "TENDERLOIN    0.093171\n",
      "INGLESIDE     0.089796\n",
      "TARAVAL       0.074707\n",
      "PARK          0.056162\n",
      "RICHMOND      0.051488\n",
      "dtype: float64\n",
      "\n",
      "-------------------------------------------------------------------------\n",
      "There are a total of 17 distinct Resolution values, as follows: \n",
      "NONE                                      0.599955\n",
      "ARREST, BOOKED                            0.235070\n",
      "ARREST, CITED                             0.087699\n",
      "LOCATED                                   0.019476\n",
      "PSYCHOPATHIC CASE                         0.016553\n",
      "UNFOUNDED                                 0.010916\n",
      "JUVENILE BOOKED                           0.006337\n",
      "COMPLAINANT REFUSES TO PROSECUTE          0.004528\n",
      "DISTRICT ATTORNEY REFUSES TO PROSECUTE    0.004480\n",
      "NOT PROSECUTED                            0.004230\n",
      "JUVENILE CITED                            0.003795\n",
      "PROSECUTED BY OUTSIDE AGENCY              0.002852\n",
      "EXCEPTIONAL CLEARANCE                     0.001742\n",
      "JUVENILE ADMONISHED                       0.001657\n",
      "JUVENILE DIVERTED                         0.000404\n",
      "CLEARED-CONTACT JUVENILE FOR MORE INFO    0.000247\n",
      "PROSECUTED FOR LESSER OFFENSE             0.000058\n",
      "dtype: float64\n",
      "\n"
     ]
    }
   ],
   "source": [
    "data_orig = pd.read_csv(\"train.csv\")\n",
    "test_orig = pd.read_csv(\"test.csv\")\n",
    "\n",
    "# Count distinct for each variable:\n",
    "print \"There are a total of {:,}, values.\".format(len(data_orig))\n",
    "\n",
    "for var, series in data_orig.iteritems():\n",
    "    print \"There are a total of {:,} {}.\".format(len(series.value_counts()), var)\n",
    "# View All of Categories, PdDistrict, Resolution, DayOfWeek\n",
    "variables = [\"Category\", \"PdDistrict\", \"Resolution\"]\n",
    "x = data_orig[\"Category\"].value_counts()/len(data_orig)\n",
    "for col in variables:\n",
    "    print \"-------------------------------------------------------------------------\"\n",
    "    print \"There are a total of {:,} distinct {} values, as follows: \".format(len(data_orig[col].value_counts()), col)\n",
    "    print data_orig[col].value_counts()/len(data_orig)\n",
    "    print"
   ]
  },
  {
   "cell_type": "markdown",
   "metadata": {},
   "source": [
    "We added several new date related features to the dataset right away, which were used in data investigations."
   ]
  },
  {
   "cell_type": "code",
   "execution_count": 4,
   "metadata": {
    "collapsed": false
   },
   "outputs": [],
   "source": [
    "data_clean = data_orig[data_orig.Y != 90]\n",
    "\n",
    "def add_date_vars(data):\n",
    "    data['Dates'] = pd.to_datetime(data['Dates'])\n",
    "    data['Year'] = data.Dates.dt.year\n",
    "    data['Month'] = data.Dates.dt.month\n",
    "    data['Day'] = data.Dates.dt.day\n",
    "    data['Date'] = data.Dates.dt.date\n",
    "    data['Hour'] = data.Dates.dt.hour\n",
    "    data['DayOfYear'] = data.Dates.dt.dayofyear\n",
    "    data['WeekDay'] = data.Dates.dt.weekday\n",
    "    \n",
    "    datetime_vector = data['Dates']\n",
    "    date_vector = datetime_vector.dt.date\n",
    "    date_diff_vector = (date_vector - date_vector.min()) / np.timedelta64(1, 'D')\n",
    "    data['DateDiff'] = date_diff_vector\n",
    "\n",
    "\n",
    "add_date_vars(data_clean)\n",
    "add_date_vars(test_orig)"
   ]
  },
  {
   "cell_type": "markdown",
   "metadata": {},
   "source": [
    "We also created a standard \"output\" function that we used across sensitivites"
   ]
  },
  {
   "cell_type": "code",
   "execution_count": 5,
   "metadata": {
    "collapsed": true
   },
   "outputs": [],
   "source": [
    "# Create a function that will create a correctly formatted output file for submission to Kaggle.\n",
    "\n",
    "def create_submission(preds):\n",
    "    labels = [\"Id\",\"ARSON\",\"ASSAULT\",\"BAD CHECKS\",\"BRIBERY\",\"BURGLARY\",\"DISORDERLY CONDUCT\",\"DRIVING UNDER THE INFLUENCE\",\n",
    "              \"DRUG/NARCOTIC\",\"DRUNKENNESS\",\"EMBEZZLEMENT\",\"EXTORTION\",\"FAMILY OFFENSES\",\"FORGERY/COUNTERFEITING\",\n",
    "              \"FRAUD\",\"GAMBLING\",\"KIDNAPPING\",\"LARCENY/THEFT\",\"LIQUOR LAWS\",\"LOITERING\",\"MISSING PERSON\",\"NON-CRIMINAL\",\n",
    "              \"OTHER OFFENSES\",\"PORNOGRAPHY/OBSCENE MAT\",\"PROSTITUTION\",\"RECOVERED VEHICLE\",\"ROBBERY\",\"RUNAWAY\",\n",
    "              \"SECONDARY CODES\",\"SEX OFFENSES FORCIBLE\",\"SEX OFFENSES NON FORCIBLE\",\"STOLEN PROPERTY\",\"SUICIDE\",\n",
    "              \"SUSPICIOUS OCC\",\"TREA\",\"TRESPASS\",\"VANDALISM\",\"VEHICLE THEFT\",\"WARRANTS\",\"WEAPON LAWS\"]\n",
    "    head_str = ','.join(labels)\n",
    "\n",
    "    num_cats = len(labels)\n",
    "    \n",
    "    # Make a dummy row to append to\n",
    "    ids = np.arange(preds.shape[0])[np.newaxis].transpose()\n",
    "    \n",
    "    results = np.column_stack((ids, preds))\n",
    "\n",
    "    num_form = ['%6f'] * (num_cats - 1)\n",
    "    num_form.insert(0, '%d')\n",
    "    # Write results to csv\n",
    "    np.savetxt('sample.csv', results, fmt=num_form, delimiter=',', header=head_str, comments='')\n"
   ]
  },
  {
   "cell_type": "markdown",
   "metadata": {},
   "source": [
    "#K-Nearest Neighbors"
   ]
  },
  {
   "cell_type": "markdown",
   "metadata": {},
   "source": [
    "Our first model was a simple KNN model. We tried a variety of N's for neighbors and both normalized and regular data. We also looked at just including a subset of crimes for it to predict. We first submitted a model using N=1, normalized data, and only attempted to predict the top 4 crimes. \n",
    "\n",
    "KNN makes classification predictions based on the nearest neighbors - the predicted category is set to 1 and all others to 0. This resulted in a low score (27) because the ranking algorithm expected us to submit the likelihood of each potential classification, instead of just an absolute guess.\n",
    "\n",
    "For the final KNN submission, we replaced the 0's with average probability of the crime as observed in the entire dataset. This simple change improved submission score from 27 to 2.92.\n",
    "\n",
    "We then tried to optimize N, and found that N = 1000 made an improvement to accuracy, but only by about 2%."
   ]
  },
  {
   "cell_type": "code",
   "execution_count": 6,
   "metadata": {
    "collapsed": false
   },
   "outputs": [],
   "source": [
    "# Only look at top 4 crimes\n",
    "stk_list = ['LARCENY/THEFT','OTHER OFFENSES','NON-CRIMINAL','ASSAULT']\n",
    "data = data_clean[data_clean.Category.isin(stk_list)]\n",
    "\n",
    "# Create random dev sample so we can see how that accuracy compares to our Kaggle results\n",
    "np.random.seed(100)\n",
    "\n",
    "rows = np.random.choice(data.index, size = len(data) / 10, replace = False)\n",
    "\n",
    "dev = data.ix[rows]\n",
    "train = data.drop(rows)\n",
    "\n",
    "# Convert to Numpy Format with only DateDiff, X and Y features\n",
    "train_data = np.array(train[['DateDiff','X','Y']].values)\n",
    "train_labels = np.array(train[['Category']].values.ravel())\n",
    "\n",
    "dev_data = np.array(dev[['DateDiff','X','Y']].values)\n",
    "dev_labels = np.array(dev[['Category']].values.ravel())\n",
    "\n",
    "full_data = np.array(data[['DateDiff','X','Y']].values)\n",
    "full_labels = np.array(data[['Category']].values.ravel())\n",
    "\n",
    "test_data = np.array(test_orig[['DateDiff','X','Y']].values)\n",
    "\n",
    "# Normalize Data to Between 0-1\n",
    "#a + (x-A)*(b-a)/(B-A) \n",
    "\n",
    "def normalize(data):\n",
    "    return 0 + (np.abs(data) - np.abs(data).min(axis=0))*(1-0)/(np.abs(data).max(axis=0) - np.abs(data).min(axis=0))\n",
    "\n",
    "train_normed = normalize(train_data)\n",
    "dev_normed = normalize(dev_data)\n",
    "test_normed = normalize(test_data)\n",
    "full_normed = normalize(full_data)"
   ]
  },
  {
   "cell_type": "code",
   "execution_count": 7,
   "metadata": {
    "collapsed": false
   },
   "outputs": [
    {
     "name": "stdout",
     "output_type": "stream",
     "text": [
      "The scores for each k value was [mean: 0.22013, std: 0.03731, params: {'n_neighbors': 1}, mean: 0.22913, std: 0.04194, params: {'n_neighbors': 5}, mean: 0.23831, std: 0.04801, params: {'n_neighbors': 10}, mean: 0.26714, std: 0.06603, params: {'n_neighbors': 100}, mean: 0.30380, std: 0.05516, params: {'n_neighbors': 1000}] \n",
      "\n",
      "The best k value was {'n_neighbors': 1000} with accuracy 0.3038\n"
     ]
    }
   ],
   "source": [
    "# Use GridSearchCV to find a good number of neighbors.\n",
    "\n",
    "# ks = {'n_neighbors': [1,2,3,4,5,6,7,8,9,10]}\n",
    "ks = {'n_neighbors': [1, 5, 10, 100, 1000]}\n",
    "KNNGridSearch = GridSearchCV(KNeighborsClassifier(), ks, scoring='accuracy')\n",
    "KNNGridSearch.fit(train_normed, train_labels)\n",
    "\n",
    "# Report out on the accuracies    \n",
    "print \"The scores for each N value was %s \" % (KNNGridSearch.grid_scores_)\n",
    "print \"\\nThe best N value was %s with accuracy %.4f\" % (KNNGridSearch.best_params_, KNNGridSearch.best_score_)\n",
    "best_n = KNNGridSearch.best_params_['n_neighbors']"
   ]
  },
  {
   "cell_type": "code",
   "execution_count": 8,
   "metadata": {
    "collapsed": false
   },
   "outputs": [
    {
     "data": {
      "image/png": "[encoded data removed]",
      "text/plain": [
       "<matplotlib.figure.Figure at 0x1f944f60>"
      ]
     },
     "metadata": {},
     "output_type": "display_data"
    },
    {
     "name": "stdout",
     "output_type": "stream",
     "text": [
      "K-Nearest Neighbors\n",
      "\n",
      "model           neighbors accuracy  \n",
      "-----------------------------------\n",
      "baseline        5         0.4179    \n",
      "optimized n     1000      0.4397    \n"
     ]
    }
   ],
   "source": [
    "res = zip(*[(f1m, f1s.std(), p['n_neighbors']) \n",
    "            for p, f1m, f1s in KNNGridSearch.grid_scores_])\n",
    "\n",
    "plt.figure(figsize=(10, 5))\n",
    "plt.subplot(1,2,1)\n",
    "plt.plot(np.log10(res[2]),res[0],'-o')\n",
    "plt.xlabel(\"Log(N)\")\n",
    "plt.ylabel(\"Accuracy\")\n",
    "plt.subplot(1,2,2)\n",
    "plt.plot(np.log10(res[2]),res[1],'-o')\n",
    "plt.xlabel(\"Log(N)\")\n",
    "plt.ylabel(\"StDev of Accuracy\")\n",
    "plt.show()\n",
    "\n",
    "result_form = \"{:<16s}{:<10d}{:<10.4f}\".format\n",
    "print \"K-Nearest Neighbors\\n\"\n",
    "print \"{:<16s}{:<10s}{:<10s}\".format(\"model\", \"neighbors\", \"accuracy\")\n",
    "print \"-----------------------------------\"\n",
    "\n",
    "# Now that we've done this, let's run the KNN on the full train, apply to the test, then format.\n",
    "KNNmodel = KNeighborsClassifier()\n",
    "KNNmodel.fit(train_normed, train_labels)\n",
    "base_n = 5\n",
    "base_accuracy = KNNmodel.score(dev_normed, dev_labels)\n",
    "print result_form(\"baseline\", base_n, base_accuracy)\n",
    "\n",
    "# Use optimized N\n",
    "KNNmodel = KNeighborsClassifier(n_neighbors = best_n)\n",
    "KNNmodel.fit(train_normed, train_labels)\n",
    "accuracy = KNNmodel.score(dev_normed, dev_labels)\n",
    "print result_form(\"optimized n\", best_n, accuracy)\n",
    "# test_predict = KNNmodel.predict_proba(test_normed).astype(int)"
   ]
  },
  {
   "cell_type": "markdown",
   "metadata": {},
   "source": [
    "We should note that entering the other 35 categories with their average probability was done by hand in Excel. We looked at doing it in python, but realized we wanted to pursue other models instead. The create_submission function needs all categories to be input, so in this case we did not use the create_submission function. "
   ]
  },
  {
   "cell_type": "markdown",
   "metadata": {},
   "source": [
    "#Logistic Regression"
   ]
  },
  {
   "cell_type": "markdown",
   "metadata": {},
   "source": [
    "The second model was logistic regression. A logistic regression method (and all others examined in this notebook) allows output of predicted probabilites, removing the need to use the simple occurance averages.\n",
    "\n",
    "We tried several values of C, which determines the regularization strength, before settling on C=0.001. This improved our score from 2.92 to 2.69.\n",
    "\n",
    "After submitting this model, we tried averaging the KNN and LR in various ways, but that did not improve the performance."
   ]
  },
  {
   "cell_type": "code",
   "execution_count": 75,
   "metadata": {
    "collapsed": false
   },
   "outputs": [
    {
     "name": "stdout",
     "output_type": "stream",
     "text": [
      "39\n",
      "39\n"
     ]
    }
   ],
   "source": [
    "# Let's go back to using all crimes\n",
    "data = data_clean.copy()\n",
    "\n",
    "np.random.seed()\n",
    "rows = np.random.choice(data.index, size = len(data) / 10, replace = False)\n",
    "\n",
    "dev = data.ix[rows]\n",
    "train = data.drop(rows)\n",
    "\n",
    "# Convert to Numpy Format with only DateDiff, X and Y features\n",
    "train_data = np.array(train[['DateDiff','X','Y']].values)\n",
    "train_labels = np.array(train[['Category']].values.ravel())\n",
    "\n",
    "dev_data = np.array(dev[['DateDiff','X','Y']].values)\n",
    "dev_labels = np.array(dev[['Category']].values.ravel())\n",
    "\n",
    "full_data = np.array(data[['DateDiff','X','Y']].values)\n",
    "full_labels = np.array(data[['Category']].values.ravel())\n",
    "\n",
    "test_data = np.array(test_orig[['DateDiff','X','Y']].values)\n",
    "\n",
    "# We need to re-normalize the data sets containing all crimes, not just the top 4 crimes\n",
    "train_normed = normalize(train_data)\n",
    "dev_normed = normalize(dev_data)\n",
    "test_normed = normalize(test_data)\n",
    "full_normed = normalize(full_data)\n",
    "\n",
    "print len(dev['Category'].unique())\n",
    "print len(train['Category'].unique())"
   ]
  },
  {
   "cell_type": "code",
   "execution_count": 77,
   "metadata": {
    "collapsed": false
   },
   "outputs": [
    {
     "name": "stdout",
     "output_type": "stream",
     "text": [
      "{'C': 0.001}\n"
     ]
    }
   ],
   "source": [
    "param_grid = {'C': [0.001, 0.01, 0.1, 1, 10, 100, 1000] }\n",
    "clf = GridSearchCV(LogisticRegression(penalty='l2'), param_grid)\n",
    "clf.fit(train_data, train_labels)\n",
    "print clf.best_params_\n",
    "best_c = clf.best_params_['C']"
   ]
  },
  {
   "cell_type": "code",
   "execution_count": 78,
   "metadata": {
    "collapsed": false
   },
   "outputs": [
    {
     "data": {
      "image/png": "[encoded data removed]",
      "text/plain": [
       "<matplotlib.figure.Figure at 0x2e9966a0>"
      ]
     },
     "metadata": {},
     "output_type": "display_data"
    },
    {
     "name": "stdout",
     "output_type": "stream",
     "text": [
      "Logistic Regression\n",
      "\n",
      "model           C         accuracy  log-loss  \n",
      "---------------------------------------------\n",
      "baseline        1.0000    0.2156    2.6448    \n",
      "optimized C     0.0010    0.2148    2.6977    \n"
     ]
    }
   ],
   "source": [
    "res = zip(*[(f1m, f1s.std(), p['C']) \n",
    "            for p, f1m, f1s in clf.grid_scores_])\n",
    "\n",
    "plt.figure(figsize=(10, 5))\n",
    "plt.subplot(1,2,1)\n",
    "plt.plot(np.log10(res[2]),res[0],'-o')\n",
    "plt.xlabel(\"Log(C)\")\n",
    "plt.ylabel(\"Accuracy\")\n",
    "plt.subplot(1,2,2)\n",
    "plt.plot(np.log10(res[2]),res[1],'-o')\n",
    "plt.xlabel(\"Log(C)\")\n",
    "plt.ylabel(\"StDev of Accuracy\")\n",
    "plt.show()\n",
    "\n",
    "result_form = \"{:<16s}{:<10.4f}{:<10.4f}{:<10.4f}\".format\n",
    "print \"Logistic Regression\\n\"\n",
    "print \"{:<16s}{:<10s}{:<10s}{:<10s}\".format(\"model\", \"C\", \"accuracy\", \"log-loss\")\n",
    "print \"---------------------------------------------\"\n",
    "\n",
    "# Logistic Regression: baseline\n",
    "model = LogisticRegression()\n",
    "model.fit(train_normed, train_labels)\n",
    "base_c = 1.0\n",
    "base_accuracy = model.score(dev_normed, dev_labels)\n",
    "base_logloss = log_loss(dev_labels, model.predict_proba(dev_normed)) \n",
    "print result_form(\"baseline\", base_c, base_accuracy, base_logloss)\n",
    "\n",
    "# Logistic Regression: optimized C\n",
    "model.set_params(C=best_c)\n",
    "model.fit(train_normed, train_labels)\n",
    "test_predict = model.predict_proba(test_normed)\n",
    "accuracy = model.score(dev_normed, dev_labels)\n",
    "logloss = log_loss(dev_labels, model.predict_proba(dev_normed)) \n",
    "print result_form(\"optimized C\", best_c, accuracy, logloss)\n",
    "\n",
    "#results = create_submission(test_predict)"
   ]
  },
  {
   "cell_type": "markdown",
   "metadata": {},
   "source": [
    "#Bernoulli Naive Bayes\n",
    "##Feature Generation"
   ]
  },
  {
   "cell_type": "markdown",
   "metadata": {},
   "source": [
    "BernoulliNB requires binary data, so we created dummy variables for each variable in the data set (all date and district variables). We also left all variables in the data set so that we could include and exclude features in our models easily."
   ]
  },
  {
   "cell_type": "code",
   "execution_count": 12,
   "metadata": {
    "collapsed": false
   },
   "outputs": [
    {
     "name": "stdout",
     "output_type": "stream",
     "text": [
      "['Dates' 'Category' 'Descript' 'DayOfWeek' 'PdDistrict' 'Resolution'\n",
      " 'Address' 'X' 'Y' 'DateTime' 'Year' 'Month' 'Day' 'Hour' 'SecondsDelta'\n",
      " 'Weekend' 2003L 2004L 2005L 2006L 2007L 2008L 2009L 2010L 2011L 2012L\n",
      " 2013L 2014L 2015L 'Jan' 'Feb' 'Mar' 'Apr' 'May' 'Jun' 'Jul' 'Aug' 'Sep'\n",
      " 'Oct' 'Nov' 'Dec' 1L 2L 3L 4L 5L 6L 7L 8L 9L 10L 11L 12L 13L 14L 15L 16L\n",
      " 17L 18L 19L 20L 21L 22L 23L 24L 25L 26L 27L 28L 29L 30L 31L 'Friday'\n",
      " 'Monday' 'Saturday' 'Sunday' 'Thursday' 'Tuesday' 'Wednesday' '12AM' '1AM'\n",
      " '2AM' '3AM' '4AM' '5AM' '6AM' '7AM' '8AM' '9AM' '10AM' '11AM' '12PM' '1PM'\n",
      " '2PM' '3PM' '4PM' '5PM' '6PM' '7PM' '8PM' '9PM' '10PM' '11PM' 'BAYVIEW'\n",
      " 'CENTRAL' 'INGLESIDE' 'MISSION' 'NORTHERN' 'PARK' 'RICHMOND' 'SOUTHERN'\n",
      " 'TARAVAL' 'TENDERLOIN']\n"
     ]
    }
   ],
   "source": [
    "# Extract new features in Pandas\n",
    "def time_features(data):\n",
    "    data['DateTime'] = pd.to_datetime(data['Dates'])\n",
    "    data['Year'] = pd.DatetimeIndex(data['DateTime']).year\n",
    "    data['Month'] = pd.DatetimeIndex(data['DateTime']).month\n",
    "    data['Day'] = pd.DatetimeIndex(data['DateTime']).day\n",
    "    data['Hour'] = pd.DatetimeIndex(data['DateTime']).hour\n",
    "    data['SecondsDelta'] = (data.DateTime - pd.Timestamp('2013-01-01')) / np.timedelta64(1,'s')\n",
    "    data['Weekend'] = (data.DayOfWeek == \"Saturday\") | (data.DayOfWeek == \"Sunday\")\n",
    "    years = pd.get_dummies(data.Year)\n",
    "    months = pd.get_dummies(data.Month)\n",
    "    months.columns = ['Jan', 'Feb', 'Mar', 'Apr', 'May', 'Jun', 'Jul', 'Aug', 'Sep', 'Oct', 'Nov', 'Dec']\n",
    "    days = pd.get_dummies(data.Day)\n",
    "    daysofweek = pd.get_dummies(data.DayOfWeek)\n",
    "    hours = pd.get_dummies(data.Hour)\n",
    "    hours.columns = ['12AM', '1AM', '2AM', '3AM', '4AM', '5AM',\n",
    "                     '6AM', '7AM', '8AM', '9AM', '10AM', '11AM',\n",
    "                     '12PM', '1PM', '2PM', '3PM', '4PM', '5PM',\n",
    "                     '6PM', '7PM', '8PM', '9PM', '10PM', '11PM']\n",
    "    districts = pd.get_dummies(data.PdDistrict)\n",
    "    new_data = pd.concat([data, years, months, days, daysofweek, hours, districts], axis=1)\n",
    "    return new_data\n",
    "\n",
    "data = time_features(data_orig)\n",
    "test = time_features(test_orig)\n",
    "\n",
    "# Separate labels\n",
    "labels = data.Category\n",
    "\n",
    "# Drop Category, Descript and Resolution columns since we cannot use them to predict\n",
    "train_data = data.drop(['Category', 'Descript', 'Resolution'], axis=1)\n",
    "train_names = train_data.columns.values.tolist()\n",
    "test_names = test.columns.values.tolist()\n",
    "\n",
    "print data.columns.values"
   ]
  },
  {
   "cell_type": "code",
   "execution_count": 13,
   "metadata": {
    "collapsed": false
   },
   "outputs": [
    {
     "name": "stdout",
     "output_type": "stream",
     "text": [
      "Mini Train Data: (10000, 110)\n",
      "Mini Train Labels: (10000L,)\n",
      "Mini Train Unique Labels: 38\n",
      "\n",
      "Regular Train Data: (428991, 110)\n",
      "Regular Train Labels: (428991L,)\n",
      "Regular Train Unique Labels: 39\n",
      "\n",
      "Dev Data: (438991, 110)\n",
      "Dev Labels: (438991L,)\n",
      "Dev Train Unique Labels: 39\n",
      "\n",
      "Test Data: (884262, 111)\n",
      "\n",
      "Columns in use: ['Dates', 'DayOfWeek', 'PdDistrict', 'Address', 'X', 'Y', 'DateTime', 'Year', 'Month', 'Day', 'Hour', 'SecondsDelta', 'Weekend', 2003L, 2004L, 2005L, 2006L, 2007L, 2008L, 2009L, 2010L, 2011L, 2012L, 2013L, 2014L, 2015L, 'Jan', 'Feb', 'Mar', 'Apr', 'May', 'Jun', 'Jul', 'Aug', 'Sep', 'Oct', 'Nov', 'Dec', 1L, 2L, 3L, 4L, 5L, 6L, 7L, 8L, 9L, 10L, 11L, 12L, 13L, 14L, 15L, 16L, 17L, 18L, 19L, 20L, 21L, 22L, 23L, 24L, 25L, 26L, 27L, 28L, 29L, 30L, 31L, 'Friday', 'Monday', 'Saturday', 'Sunday', 'Thursday', 'Tuesday', 'Wednesday', '12AM', '1AM', '2AM', '3AM', '4AM', '5AM', '6AM', '7AM', '8AM', '9AM', '10AM', '11AM', '12PM', '1PM', '2PM', '3PM', '4PM', '5PM', '6PM', '7PM', '8PM', '9PM', '10PM', '11PM', 'BAYVIEW', 'CENTRAL', 'INGLESIDE', 'MISSION', 'NORTHERN', 'PARK', 'RICHMOND', 'SOUTHERN', 'TARAVAL', 'TENDERLOIN']\n"
     ]
    }
   ],
   "source": [
    "# Shuffle the input: create a random permutation of the integers between 0 and the number of data points and apply this\n",
    "# permutation to features.\n",
    "# NOTE: Each time you run this cell, you'll re-shuffle the data, resulting in a different ordering.\n",
    "\n",
    "shuffle = np.random.permutation(np.arange(train_data.shape[0]))\n",
    "train_data = train_data.reindex(shuffle)\n",
    "labels = labels.reindex(shuffle)\n",
    "\n",
    "# Remove records where Y == 90\n",
    "train_data_clean = train_data[train_data.Y != 90]\n",
    "labels_clean = labels[train_data.Y != 90]\n",
    "num_examples = train_data_clean.shape[0]\n",
    "\n",
    "# Split the feature and label sets into train and dev sets\n",
    "mini_train_data = train_data_clean[:10000]\n",
    "mini_train_labels = labels_clean[:10000]\n",
    "\n",
    "reg_train_data = train_data_clean[10000:num_examples/2]\n",
    "reg_train_labels = labels_clean[10000:num_examples/2]\n",
    "\n",
    "dev_data = train_data_clean[num_examples/2:]\n",
    "dev_labels = labels_clean[num_examples/2:]\n",
    "\n",
    "test_data = test.copy()\n",
    "\n",
    "print \"Mini Train Data:\", mini_train_data.shape\n",
    "print \"Mini Train Labels:\", mini_train_labels.shape\n",
    "print \"Mini Train Unique Labels:\", len(mini_train_labels.unique())\n",
    "print \"\\nRegular Train Data:\", reg_train_data.shape\n",
    "print \"Regular Train Labels:\", reg_train_labels.shape\n",
    "print \"Regular Train Unique Labels:\", len(reg_train_labels.unique())\n",
    "print \"\\nDev Data:\", dev_data.shape\n",
    "print \"Dev Labels:\", dev_labels.shape\n",
    "print \"Dev Train Unique Labels:\", len(dev_labels.unique())\n",
    "print \"\\nTest Data:\", test_data.shape\n",
    "print \"\\nColumns in use:\", train_names"
   ]
  },
  {
   "cell_type": "markdown",
   "metadata": {},
   "source": [
    "Note: Some of the category labels have very few examples. When randomizing we need to make sure that dev and regular train data both contain 39 unique category labels."
   ]
  },
  {
   "cell_type": "code",
   "execution_count": 14,
   "metadata": {
    "collapsed": false
   },
   "outputs": [
    {
     "name": "stdout",
     "output_type": "stream",
     "text": [
      "Number of features: 99\n"
     ]
    }
   ],
   "source": [
    "features_to_use = [2003L, 2004L, 2005L, 2006L, 2007L, 2008L, 2009L, 2010L, 2011L, 2012L, 2013L, 2014L, 2015L, \n",
    "                   'Jan', 'Feb', 'Mar', 'Apr', 'May', 'Jun', 'Jul', 'Aug', 'Sep', 'Oct', 'Nov', 'Dec', \n",
    "                   1L, 2L, 3L, 4L, 5L, 6L, 7L, 8L, 9L, 10L, 11L, 12L, 13L, 14L, 15L, \n",
    "                   16L, 17L, 18L, 19L, 20L, 21L, 22L, 23L, 24L, 25L, 26L, 27L, 28L, 29L, 30L, 31L, \n",
    "                   'Friday', 'Monday', 'Saturday', 'Sunday', 'Thursday', 'Tuesday', 'Wednesday', \n",
    "                   '12AM', '1AM', '2AM', '3AM', '4AM', '5AM', '6AM', '7AM', '8AM', '9AM', '10AM', '11AM', \n",
    "                   '12PM', '1PM', '2PM', '3PM', '4PM', '5PM', '6PM', '7PM', '8PM', '9PM', '10PM', '11PM', \n",
    "                   'BAYVIEW', 'CENTRAL', 'INGLESIDE', 'MISSION', 'NORTHERN', 'PARK', 'RICHMOND', \n",
    "                   'SOUTHERN', 'TARAVAL', 'TENDERLOIN', 'X', 'Y'\n",
    "                   ]\n",
    "\n",
    "print \"Number of features:\", len(features_to_use)"
   ]
  },
  {
   "cell_type": "markdown",
   "metadata": {},
   "source": [
    "##Bernoulli NB Model Creation"
   ]
  },
  {
   "cell_type": "markdown",
   "metadata": {},
   "source": [
    "The third model used Bernoulli Naive Bayes, which scored about the same as logistic regression.\n",
    "\n",
    "We tried using several variations of the Bernoulli NB model. After optimizing alpha, we tried bagging to determine if we could get a more robust model. We also tried using PCA to reduce dimensions and using those new features in the Bernoulli NB model. However, neither of these made any improvements to the original Bernoulli NB model!"
   ]
  },
  {
   "cell_type": "code",
   "execution_count": 21,
   "metadata": {
    "collapsed": false
   },
   "outputs": [
    {
     "name": "stdout",
     "output_type": "stream",
     "text": [
      "Best parameter:\n",
      "{'alpha': 1.0}\n",
      "\n",
      "Best score:\n",
      "2.56622149659\n"
     ]
    },
    {
     "data": {
      "image/png": "[encoded data removed]",
      "text/plain": [
       "<matplotlib.figure.Figure at 0x1fd97f28>"
      ]
     },
     "metadata": {},
     "output_type": "display_data"
    }
   ],
   "source": [
    "# Let's see what the optimal alpha is for a Bernoulli NB model\n",
    "\n",
    "params = {'alpha': [0.0001, 0.001, 0.01, 0.1, 1.0, 10.0, 100.0, 500.0, 1000.0]}\n",
    "\n",
    "clf = GridSearchCV(BernoulliNB(), [params], scoring='log_loss')\n",
    "clf.fit(reg_train_data[features_to_use], reg_train_labels)\n",
    "\n",
    "print \"Best parameter:\\n\", clf.best_params_\n",
    "print \"\\nBest score:\\n\", -1 * clf.best_score_\n",
    "\n",
    "best_alpha = clf.best_params_['alpha']\n",
    "\n",
    "scores = [clf.grid_scores_[i][1] * -1 for i in range(len(clf.grid_scores_))]\n",
    "\n",
    "plt.plot(np.log10(params['alpha']), scores, marker='o')\n",
    "plt.xlabel(\"Log(Alpha)\")\n",
    "plt.ylabel(\"Log-Loss\")\n",
    "plt.show()"
   ]
  },
  {
   "cell_type": "markdown",
   "metadata": {},
   "source": [
    "When we throw in 99 features (basically every feature we created), the log-loss is optimized when alpha = 1. However, the practical difference in log-loss up to alpha = 1 is very small. With alpha > 10, log-loss increases sharply."
   ]
  },
  {
   "cell_type": "code",
   "execution_count": 41,
   "metadata": {
    "collapsed": false,
    "scrolled": true
   },
   "outputs": [
    {
     "name": "stdout",
     "output_type": "stream",
     "text": [
      "Bernoulli NB\n",
      "\n",
      "model           alpha     accuracy  log-loss  \n",
      "---------------------------------------------\n",
      "baseline        1.0000    0.2277    2.5656    \n",
      "optimized alpha 1.0000    0.2277    2.5656    \n",
      "bagged          1.0000    0.2258    2.5674    \n",
      "pca (70 comp)   1.0000    0.1920    2.7547    \n"
     ]
    }
   ],
   "source": [
    "print \"Bernoulli NB\\n\"\n",
    "print \"{:<16s}{:<10s}{:<10s}{:<10s}\".format(\"model\", \"alpha\", \"accuracy\", \"log-loss\")\n",
    "print \"---------------------------------------------\"\n",
    "\n",
    "# Baseline Bernoulli NB model\n",
    "bnb = BernoulliNB()\n",
    "bnb.fit(reg_train_data[features_to_use], reg_train_labels)\n",
    "base_alpha = 1.0\n",
    "base_accuracy = bnb.score(dev_data[features_to_use], dev_labels)\n",
    "base_logloss = log_loss(dev_labels, bnb.predict_proba(dev_data[features_to_use])) \n",
    "print result_form(\"baseline\", base_alpha, base_accuracy, base_logloss)\n",
    "\n",
    "# How well does the Bernoulli NB model do with the selected alpha?\n",
    "bnb.set_params(alpha=best_alpha)\n",
    "bnb.fit(reg_train_data[features_to_use], reg_train_labels)\n",
    "bnb_probs = bnb.predict_proba(test_data[features_to_use])\n",
    "accuracy = bnb.score(dev_data[features_to_use], dev_labels)\n",
    "logloss = log_loss(dev_labels, bnb.predict_proba(dev_data[features_to_use]))\n",
    "print result_form(\"optimized alpha\", best_alpha, accuracy, logloss)\n",
    "\n",
    "# Maybe bagging the Bernoulli NB model does us some good\n",
    "bnb_bag = BaggingClassifier(BernoulliNB(alpha=best_alpha), max_features=0.8, max_samples = 0.8)\n",
    "bnb_bag.fit(reg_train_data[features_to_use], reg_train_labels)\n",
    "bnb_bag_probs = bnb_bag.predict_proba(test_data[features_to_use])\n",
    "accuracy = bnb_bag.score(dev_data[features_to_use], dev_labels)\n",
    "logloss = log_loss(dev_labels, bnb_bag.predict_proba(dev_data[features_to_use])) \n",
    "print result_form(\"bagged\", best_alpha, accuracy, logloss)\n",
    "\n",
    "# Perhaps doing some dimensionality reduction will help us\n",
    "pca = PCA(n_components = 70)\n",
    "pca_train_data = pca.fit_transform(reg_train_data[features_to_use])\n",
    "pca_dev_data = pca.transform(dev_data[features_to_use])\n",
    "pca_test_data = pca.transform(test_data[features_to_use])\n",
    "\n",
    "bnb2 = BernoulliNB(best_alpha)\n",
    "bnb2.fit(pca_train_data, reg_train_labels)\n",
    "bnb2_probs = bnb2.predict_proba(pca_test_data)\n",
    "accuracy = bnb2.score(pca_dev_data, dev_labels)\n",
    "logloss = log_loss(dev_labels, bnb2.predict_proba(pca_dev_data)) \n",
    "print result_form(\"pca (70 comp)\", best_alpha, accuracy, logloss)"
   ]
  },
  {
   "cell_type": "code",
   "execution_count": 104,
   "metadata": {
    "collapsed": false
   },
   "outputs": [
    {
     "name": "stdout",
     "output_type": "stream",
     "text": [
      "Correct class                  actual  predicted  correct\n",
      "ARSON                             732          0        0\n",
      "ASSAULT                         38487       7496     1281\n",
      "BAD CHECKS                        213          0        0\n",
      "BRIBERY                           145          0        0\n",
      "BURGLARY                        18563        251       41\n",
      "DISORDERLY CONDUCT               2152          0        0\n",
      "DRIVING UNDER THE INFLUENCE      1142          0        0\n",
      "DRUG/NARCOTIC                   26983      34607     8227\n",
      "DRUNKENNESS                      2161          0        0\n",
      "EMBEZZLEMENT                      577          0        0\n",
      "EXTORTION                         121          0        0\n",
      "FAMILY OFFENSES                   247          0        0\n",
      "FORGERY/COUNTERFEITING           5324         80       12\n",
      "FRAUD                            8406          0        0\n",
      "GAMBLING                           58          0        0\n",
      "KIDNAPPING                       1152          0        0\n",
      "LARCENY/THEFT                   87298     251864    63604\n",
      "LIQUOR LAWS                       926          0        0\n",
      "LOITERING                         610          1        0\n",
      "MISSING PERSON                  12971        628      105\n",
      "NON-CRIMINAL                    46174       3604      690\n",
      "OTHER OFFENSES                  63169     108852    20135\n",
      "PORNOGRAPHY/OBSCENE MAT            12          0        0\n",
      "PROSTITUTION                     3783       1848      161\n",
      "RECOVERED VEHICLE                1548          0        0\n",
      "ROBBERY                         11388          0        0\n",
      "RUNAWAY                           984          0        0\n",
      "SECONDARY CODES                  4998          0        0\n",
      "SEX OFFENSES FORCIBLE            2191          0        0\n",
      "SEX OFFENSES NON FORCIBLE          76          0        0\n",
      "STOLEN PROPERTY                  2310          0        0\n",
      "SUICIDE                           248          0        0\n",
      "SUSPICIOUS OCC                  15711          0        0\n",
      "TREA                                3          0        0\n",
      "TRESPASS                         3641          0        0\n",
      "VANDALISM                       22385        369       34\n",
      "VEHICLE THEFT                   26671      29391     5619\n",
      "WARRANTS                        21188          0        0\n",
      "WEAPON LAWS                      4243          0        0\n",
      "Confusion Matrix\n",
      "[[    0    28     0     0     0     0     0    16     0     0     0     0\n",
      "      0     0     0     0   336     0     0     0     5   271     0     2\n",
      "      0     0     0     0     0     0     0     0     0     0     0     2\n",
      "     72     0     0]\n",
      " [    0  1281     0     0    16     0     0  2958     0     0     0     0\n",
      "      6     0     0     0 20166     0     0    38   232 10887     0   165\n",
      "      0     0     0     0     0     0     0     0     0     0     0    58\n",
      "   2680     0     0]\n",
      " [    0     0     0     0     0     0     0    11     0     0     0     0\n",
      "      0     0     0     0   135     0     0     0     1    54     0     0\n",
      "      0     0     0     0     0     0     0     0     0     0     0     0\n",
      "     12     0     0]\n",
      " [    0     2     0     0     0     0     0     6     0     0     0     0\n",
      "      0     0     0     0    75     0     0     0     1    52     0     0\n",
      "      0     0     0     0     0     0     0     0     0     0     0     0\n",
      "      9     0     0]\n",
      " [    0   257     0     0    41     0     0   634     0     0     0     0\n",
      "      1     0     0     0 11381     0     0    61   218  4511     0    66\n",
      "      0     0     0     0     0     0     0     0     0     0     0    18\n",
      "   1375     0     0]\n",
      " [    0    45     0     0     2     0     0   350     0     0     0     0\n",
      "      0     0     0     0   959     0     0     1     7   652     0    32\n",
      "      0     0     0     0     0     0     0     0     0     0     0     3\n",
      "    101     0     0]\n",
      " [    0    74     0     0     0     0     0    38     0     0     0     0\n",
      "      0     0     0     0   643     0     0     0     5   300     0     9\n",
      "      0     0     0     0     0     0     0     0     0     0     0    10\n",
      "     63     0     0]\n",
      " [    0   226     0     0     2     0     0  8227     0     0     0     0\n",
      "      0     0     0     0 10881     0     1    25   126  6323     0    95\n",
      "      0     0     0     0     0     0     0     0     0     0     0     6\n",
      "   1071     0     0]\n",
      " [    0    93     0     0     1     0     0   164     0     0     0     0\n",
      "      0     0     0     0  1328     0     0     0    10   416     0    16\n",
      "      0     0     0     0     0     0     0     0     0     0     0     9\n",
      "    124     0     0]\n",
      " [    0     1     0     0     0     0     0    33     0     0     0     0\n",
      "      2     0     0     0   336     0     0     2     4   173     0     0\n",
      "      0     0     0     0     0     0     0     0     0     0     0     0\n",
      "     26     0     0]\n",
      " [    0     3     0     0     0     0     0     4     0     0     0     0\n",
      "      0     0     0     0    79     0     0     0     2    29     0     0\n",
      "      0     0     0     0     0     0     0     0     0     0     0     0\n",
      "      4     0     0]\n",
      " [    0     0     0     0     0     0     0    22     0     0     0     0\n",
      "      0     0     0     0   102     0     0     2     1    90     0     1\n",
      "      0     0     0     0     0     0     0     0     0     0     0     0\n",
      "     29     0     0]\n",
      " [    0    16     0     0     1     0     0   260     0     0     0     0\n",
      "     12     0     0     0  3161     0     0     1    30  1512     0     7\n",
      "      0     0     0     0     0     0     0     0     0     0     0     0\n",
      "    324     0     0]\n",
      " [    0    75     0     0     3     0     0   459     0     0     0     0\n",
      "      7     0     0     0  5419     0     0    14    97  1927     0    13\n",
      "      0     0     0     0     0     0     0     0     0     0     0     1\n",
      "    391     0     0]\n",
      " [    0     0     0     0     0     0     0     3     0     0     0     0\n",
      "      0     0     0     0    25     0     0     0     0    24     0     0\n",
      "      0     0     0     0     0     0     0     0     0     0     0     0\n",
      "      6     0     0]\n",
      " [    0    47     0     0     0     0     0    74     0     0     0     0\n",
      "      0     0     0     0   583     0     0     1    10   359     0     3\n",
      "      0     0     0     0     0     0     0     0     0     0     0     2\n",
      "     73     0     0]\n",
      " [    0   891     0     0    39     0     0  4061     0     0     0     0\n",
      "      6     0     0     0 63604     0     0    64   552 13681     0   260\n",
      "      0     0     0     0     0     0     0     0     0     0     0    46\n",
      "   4094     0     0]\n",
      " [    0    11     0     0     0     0     0    74     0     0     0     0\n",
      "      0     0     0     0   480     0     0     1     0   276     0     5\n",
      "      0     0     0     0     0     0     0     0     0     0     0     1\n",
      "     78     0     0]\n",
      " [    0     5     0     0     1     0     0    73     0     0     0     0\n",
      "      0     0     0     0   367     0     0     0     1   119     0     9\n",
      "      0     0     0     0     0     0     0     0     0     0     0     0\n",
      "     35     0     0]\n",
      " [    0   140     0     0    13     0     0   330     0     0     0     0\n",
      "      1     0     0     0  6407     0     0   105   210  4643     0    22\n",
      "      0     0     0     0     0     0     0     0     0     0     0     5\n",
      "   1095     0     0]\n",
      " [    0   596     0     0    26     0     0  3014     0     0     0     0\n",
      "     15     0     0     0 29516     0     0    70   690  9647     0   173\n",
      "      0     0     0     0     0     0     0     0     0     0     0    37\n",
      "   2390     0     0]\n",
      " [    0   993     0     0    34     0     0  6050     0     0     0     0\n",
      "      7     0     0     0 31418     0     0    77   495 20135     0   271\n",
      "      0     0     0     0     0     0     0     0     0     0     0    53\n",
      "   3636     0     0]\n",
      " [    0     0     0     0     0     0     0     0     0     0     0     0\n",
      "      0     0     0     0     7     0     0     0     0     5     0     0\n",
      "      0     0     0     0     0     0     0     0     0     0     0     0\n",
      "      0     0     0]\n",
      " [    0   105     0     0    10     0     0   433     0     0     0     0\n",
      "      0     0     0     0  1805     0     0     0     4  1142     0   161\n",
      "      0     0     0     0     0     0     0     0     0     0     0     0\n",
      "    123     0     0]\n",
      " [    0    31     0     0     0     0     0    58     0     0     0     0\n",
      "      0     0     0     0   683     0     0     0     5   751     0     7\n",
      "      0     0     0     0     0     0     0     0     0     0     0     3\n",
      "     10     0     0]\n",
      " [    0   476     0     0     7     0     0   784     0     0     0     0\n",
      "      1     0     0     0  6028     0     0     4    43  3156     0    70\n",
      "      0     0     0     0     0     0     0     0     0     0     0    12\n",
      "    807     0     0]\n",
      " [    0     7     0     0     2     0     0     1     0     0     0     0\n",
      "      0     0     0     0   456     0     0    15    24   304     0     4\n",
      "      0     0     0     0     0     0     0     0     0     0     0     1\n",
      "    170     0     0]\n",
      " [    0   146     0     0     4     0     0   245     0     0     0     0\n",
      "      1     0     0     0  2532     0     0     9    51  1686     0    17\n",
      "      0     0     0     0     0     0     0     0     0     0     0    15\n",
      "    292     0     0]\n",
      " [    0    82     0     0     1     0     0   106     0     0     0     0\n",
      "      2     0     0     0  1181     0     0     6    22   647     0     9\n",
      "      0     0     0     0     0     0     0     0     0     0     0     6\n",
      "    129     0     0]\n",
      " [    0     0     0     0     0     0     0     1     0     0     0     0\n",
      "      1     0     0     0    36     0     0     0     2    32     0     0\n",
      "      0     0     0     0     0     0     0     0     0     0     0     0\n",
      "      4     0     0]\n",
      " [    0    40     0     0     2     0     0   134     0     0     0     0\n",
      "      0     0     0     0  1493     0     0     1    18   515     0    11\n",
      "      0     0     0     0     0     0     0     0     0     0     0     1\n",
      "     95     0     0]\n",
      " [    0     6     0     0     1     0     0    15     0     0     0     0\n",
      "      0     0     0     0   138     0     0     0     3    70     0     1\n",
      "      0     0     0     0     0     0     0     0     0     0     0     1\n",
      "     13     0     0]\n",
      " [    0   275     0     0     8     0     0   970     0     0     0     0\n",
      "     10     0     0     0  8704     0     0    29   171  4491     0    56\n",
      "      0     0     0     0     0     0     0     0     0     0     0    12\n",
      "    985     0     0]\n",
      " [    0     0     0     0     0     0     0     0     0     0     0     0\n",
      "      0     0     0     0     0     0     0     0     0     3     0     0\n",
      "      0     0     0     0     0     0     0     0     0     0     0     0\n",
      "      0     0     0]\n",
      " [    0    44     0     0     4     0     0   504     0     0     0     0\n",
      "      0     0     0     0  1959     0     0     5    30   924     0    18\n",
      "      0     0     0     0     0     0     0     0     0     0     0     2\n",
      "    151     0     0]\n",
      " [    0   605     0     0    12     0     0   632     0     0     0     0\n",
      "      4     0     0     0 13100     0     0    32   180  5819     0   101\n",
      "      0     0     0     0     0     0     0     0     0     0     0    34\n",
      "   1866     0     0]\n",
      " [    0   473     0     0    10     0     0   423     0     0     0     0\n",
      "      3     0     0     0 13221     0     0    34   155  6595     0   121\n",
      "      0     0     0     0     0     0     0     0     0     0     0    17\n",
      "   5619     0     0]\n",
      " [    0   289     0     0    11     0     0  3113     0     0     0     0\n",
      "      1     0     0     0 11186     0     0    27   169  5160     0   109\n",
      "      0     0     0     0     0     0     0     0     0     0     0    11\n",
      "   1112     0     0]\n",
      " [    0   133     0     0     0     0     0   327     0     0     0     0\n",
      "      0     0     0     0  1934     0     0     4    30  1471     0    14\n",
      "      0     0     0     0     0     0     0     0     0     0     0     3\n",
      "    327     0     0]] \n",
      "\n"
     ]
    }
   ],
   "source": [
    "# Let's go back to the baseline model and see what errors we are making\n",
    "\n",
    "bnb = BernoulliNB()\n",
    "bnb.fit(reg_train_data[features_to_use], reg_train_labels)\n",
    "predicted = bnb.predict(dev_data[features_to_use])\n",
    "\n",
    "confusion = confusion_matrix(dev_labels, predicted)\n",
    "np.set_printoptions(threshold='nan')\n",
    "\n",
    "classes = reg_train_labels.unique()\n",
    "classes.sort()\n",
    "\n",
    "row_form = \"      {:28s}{:>7d}{:>9.4f}\".format\n",
    "index = 0\n",
    "\n",
    "print \"{:<28s}{:>9s}{:>11s}{:>9s}\".format(\"Correct class\", \"actual\", \"predicted\", \"correct\")\n",
    "for row in confusion:\n",
    "    count = dev_labels.value_counts()[classes[index]]\n",
    "    print \"{:<28s}{:>9d}{:>11d}{:>9d}\".format(classes[index], \n",
    "                                              count, \n",
    "                                              sum(predicted == classes[index]),\n",
    "                                              confusion[index,index])\n",
    "    index += 1\n",
    "\n",
    "print \"Confusion Matrix\"\n",
    "print confusion, \"\\n\""
   ]
  },
  {
   "cell_type": "markdown",
   "metadata": {},
   "source": [
    "We can see from the table above that the Naive Bayes model is mostly predicting \"LARCENY/THEFT\" or \"OTHER OFFENSES\". Because the distribution of crimes is very skewed, the model seems to most frequently choose the class where there are a plethora of examples. There are a large number of crimes that the model never predicts, particularly the ones where there are not very many examples.\n",
    "\n",
    "It is suprising that the model does not frequently predict \"NON-CRIMINAL\" crimes, even though there are many examples of these crimes."
   ]
  },
  {
   "cell_type": "markdown",
   "metadata": {},
   "source": [
    "#Gradient Boosting"
   ]
  },
  {
   "cell_type": "markdown",
   "metadata": {},
   "source": [
    "We then tried gradient boosting, which improved our score to 2.49. Given the computational intensity of gradient boosting (initial model took 6 hours to run), we were unable to do significant parameter optimization. Increasing the leraning parameter to 0.2 seemed to improve the accuracy slightly, even with only 30 estimators. However, when the learning rate was increased further to 0.5, the accuracy decreased significantly."
   ]
  },
  {
   "cell_type": "code",
   "execution_count": 60,
   "metadata": {
    "collapsed": false
   },
   "outputs": [
    {
     "name": "stdout",
     "output_type": "stream",
     "text": [
      "Gradient Boosting\n",
      "\n",
      "model           param     accuracy  log-loss  \n",
      "---------------------------------------------\n",
      "baseline                  0.2547    2.5018    \n"
     ]
    }
   ],
   "source": [
    "print \"Gradient Boosting\\n\"\n",
    "print \"{:<16s}{:<10s}{:<10s}{:<10s}\".format(\"model\", \"param\", \"accuracy\", \"log-loss\")\n",
    "print \"---------------------------------------------\"\n",
    "\n",
    "# Try Gradient Boosting\n",
    "grad_boost = GradientBoostingClassifier()\n",
    "grad_boost.fit(reg_train_data[features_to_use], reg_train_labels)\n",
    "accuracy = grad_boost.score(dev_data[features_to_use], dev_labels)\n",
    "logloss = log_loss(dev_labels, grad_boost.predict_proba(dev_data[features_to_use])) \n",
    "print \"{:<16s}{:<10s}{:<10.4f}{:<10.4f}\".format(\"baseline\", \"\", accuracy, logloss)"
   ]
  },
  {
   "cell_type": "code",
   "execution_count": 47,
   "metadata": {
    "collapsed": false
   },
   "outputs": [
    {
     "name": "stdout",
     "output_type": "stream",
     "text": [
      "Gradient Boosting\n",
      "\n",
      "iteration       param     accuracy  log-loss  \n",
      "---------------------------------------------\n",
      "n_estimators    30                            \n",
      "learning_rate   0.2       0.2537    2.4943    \n",
      "---------------------------------------------\n",
      "n_estimators    100                           \n",
      "learning_rate   0.5       0.0478    32.8866   \n"
     ]
    }
   ],
   "source": [
    "print \"Gradient Boosting\\n\"\n",
    "print \"{:<16s}{:<10s}{:<10s}{:<10s}\".format(\"iteration\", \"param\", \"accuracy\", \"log-loss\")\n",
    "print \"---------------------------------------------\"\n",
    "\n",
    "# Let's try tweaking some parameters on the smaller data set\n",
    "grad_boost = GradientBoostingClassifier(n_estimators = 30, learning_rate = 0.2)\n",
    "grad_boost.fit(reg_train_data[features_to_use], reg_train_labels)\n",
    "new_grad_boost_probs = grad_boost.predict_proba(test_data[features_to_use])\n",
    "create_submission(new_grad_boost_probs)\n",
    "new_accuracy = grad_boost.score(dev_data[features_to_use], dev_labels)\n",
    "# new_logloss = log_loss(dev_labels, grad_boost.predict_proba(dev_data[features_to_use])) \n",
    "print \"{:<16s}{:<10s}{:<10s}{:<10s}\".format(\"n_estimators\", \"30\", \"\", \"\")\n",
    "print \"{:<16s}{:<10s}{:<10.4f}{:<10.4f}\".format(\"learning_rate\", \"0.2\", new_accuracy, new_logloss)\n",
    "print \"---------------------------------------------\"\n",
    "\n",
    "# Let's try increasing the learning rate again\n",
    "grad_boost2 = GradientBoostingClassifier(n_estimators = 100, learning_rate = 0.5)\n",
    "grad_boost2.fit(reg_train_data[features_to_use], reg_train_labels)\n",
    "new_accuracy2 = grad_boost2.score(dev_data[features_to_use], dev_labels)\n",
    "new_logloss2 = log_loss(dev_labels, grad_boost2.predict_proba(dev_data[features_to_use])) \n",
    "print \"{:<16s}{:<10s}{:<10s}{:<10s}\".format(\"n_estimators\", \"100\", \"\", \"\")\n",
    "print \"{:<16s}{:<10s}{:<10.4f}{:<10.4f}\".format(\"learning_rate\", \"0.5\", new_accuracy2, new_logloss2)"
   ]
  },
  {
   "cell_type": "markdown",
   "metadata": {
    "collapsed": true
   },
   "source": [
    "#Neural Networks"
   ]
  },
  {
   "cell_type": "markdown",
   "metadata": {},
   "source": [
    "Finally, we used a neural net, which got our best score of 2.43. This was enough to enter the top 50 in the SF Learns competition (as of August 17th).\n",
    "\n",
    "We ran the Neural Network using a combination of NoLearn, Lasange, and Theano. NoLearn and Lasange are both under development, so to replicate this code please follow the installation instructions on NoLearn, below. NoLearn is built on top of Lasange and Theano, and thus its requirements are the ones to follow\n",
    "https://github.com/dnouri/nolearn\n",
    "\n",
    "\n"
   ]
  },
  {
   "cell_type": "markdown",
   "metadata": {},
   "source": [
    "We tried two differnet types of Neural Networks - a 1-hidden layer network, then a 2-hidden layer network with a dropout layer between. The 2-hidden layer network resulted in only minor improvements. While the NoLearn/Lasange/Theano pipeline allows Neural Nets to be trained on certain types of GPU, we were not using such a machine for our development. As such, each model run took roughly an hour and limited the amount of runs possible."
   ]
  },
  {
   "cell_type": "markdown",
   "metadata": {},
   "source": [
    "## Neural Net Feature Generation"
   ]
  },
  {
   "cell_type": "markdown",
   "metadata": {},
   "source": [
    "We tried many different features in the Neural Net model. Interestingly enough, the \"year\" and \"month\" dummy variables caused the model to diverge, leading to poor prediction. These were dropped from the final model in place of a few simple booleans flagging if a crime occured before 2008, before 2010, and before 2012.\n",
    "\n",
    "We also parsed the X-Y coorinates into a series of dummy variables by rounding each coordinate to the 3rd decimal place. An attempt was made to round to the 4th decimal place and generate more features, however the computers available to us were unable to do this task. If work continues, this could be attempted via the cloud such as on AWS.\n",
    "\n",
    "Note that NoLearn automatically splits the data into training and development sets (default of 80/20 split) each iteration, so we did not need to clean a development set for this run."
   ]
  },
  {
   "cell_type": "code",
   "execution_count": 3,
   "metadata": {
    "collapsed": false
   },
   "outputs": [
    {
     "name": "stdout",
     "output_type": "stream",
     "text": [
      "(878049, 147)\n",
      "(878049, 107)\n",
      "\n",
      "(884262, 147)\n",
      "(884262, 107)\n"
     ]
    }
   ],
   "source": [
    "# Generate location-based dummies\n",
    "XR3 = data['X'].round(decimals=3).apply(str)\n",
    "YR3 = data['Y'].round(decimals=3).apply(str)\n",
    "data_XR3s = pd.get_dummies(XR3)\n",
    "data_YR3s = pd.get_dummies(YR3)    \n",
    "XR3 = test['X'].round(decimals=3).apply(str)\n",
    "YR3 = test['Y'].round(decimals=3).apply(str)\n",
    "test_XR3s = pd.get_dummies(XR3)\n",
    "test_YR3s = pd.get_dummies(YR3)    \n",
    "\n",
    "#Subset the test to only include features that exist in training set\n",
    "test_XR3s = test_XR3s[list(data_XR3s)]\n",
    "test_YR3s = test_YR3s[list(data_YR3s)]\n",
    "\n",
    "print data_XR3s.shape\n",
    "print data_YR3s.shape\n",
    "print\n",
    "print test_XR3s.shape\n",
    "print test_YR3s.shape\n",
    "\n"
   ]
  },
  {
   "cell_type": "code",
   "execution_count": 4,
   "metadata": {
    "collapsed": false
   },
   "outputs": [],
   "source": [
    "# Separate labels\n",
    "train_labels = data.Category\n",
    "\n",
    "# Create integer labels\n",
    "panda_labels = pd.Categorical(data.Category).codes\n",
    "train_labels_int = np.array(panda_labels).astype(np.int32)\n",
    "\n",
    "# Drop Category, Descript and Resolution columns since they are not in the test set.\n",
    "# Drop non-numerics too - they are accounted for as dummy variables.\n",
    "train_data = data.drop(['Category', 'Descript', 'Resolution', 'DateTime', 'Dates', 'PdDistrict', 'Address', 'DayOfWeek'], axis=1)\n",
    "train_data.Weekend = train_data.Weekend * 1\n",
    "train_names = train_data.columns.values.tolist()\n",
    "\n",
    "test_data = test.drop(['DateTime', 'Dates', 'PdDistrict', 'Address', 'DayOfWeek'], axis=1)\n",
    "test_data.Weekend = test_data.Weekend * 1\n",
    "test_names = test_data.columns.values.tolist()\n"
   ]
  },
  {
   "cell_type": "markdown",
   "metadata": {},
   "source": [
    "We attempted many different combinations of features. Some worked better than others, and a few unexpectedly diverged. The features below were used in our final set"
   ]
  },
  {
   "cell_type": "code",
   "execution_count": 5,
   "metadata": {
    "collapsed": false
   },
   "outputs": [],
   "source": [
    "features = ['Jan','Friday', 'Monday', 'Saturday', 'Sunday', 'Thursday', 'Tuesday', 'Wednesday', '12AM', '1AM', '2AM', '3AM', '4AM', '5AM', '6AM', '7AM', '8AM', '9AM', '10AM', '11AM', '12PM', '1PM', '2PM', '3PM', '4PM', '5PM', '6PM', '7PM', '8PM', '9PM', '10PM', '11PM', 'BAYVIEW', 'CENTRAL', 'INGLESIDE', 'MISSION', 'NORTHERN', 'PARK', 'RICHMOND', 'SOUTHERN', 'TARAVAL', 'TENDERLOIN']\n",
    "np_train_data = np.array(pd.concat([train_data[features], (data.Year < 2006) * 1, (data.Year < 2008) * 1, (data.Year < 2010) * 1, data_XR3s, data_YR3s], axis=1))\n",
    "np_test_data = np.array(pd.concat([test_data[features], (test.Year < 2006) * 1, (test.Year < 2008) * 1, (test.Year < 2010) * 1, test_XR3s[list(data_XR3s)], test_YR3s[list(data_YR3s)]], axis=1))\n"
   ]
  },
  {
   "cell_type": "markdown",
   "metadata": {},
   "source": [
    "## Neural Net with 1 Hidden Layer"
   ]
  },
  {
   "cell_type": "markdown",
   "metadata": {},
   "source": [
    "NoLearn/Lasagne makes it easy to define a net in terms of layers. We tried a number of hidden units and learning rates before settling on these parameters. We stopped after 65 iterations (epochs) through network updating because we observed overfitting around this point (that is, our accuracy on the training dataset continued to improve but accuracy on the development dataset began to fall)."
   ]
  },
  {
   "cell_type": "code",
   "execution_count": 6,
   "metadata": {
    "collapsed": false
   },
   "outputs": [
    {
     "name": "stdout",
     "output_type": "stream",
     "text": [
      "(878049, 299)\n",
      "(878049,)\n",
      "# Neural Network with 169539 learnable parameters\n",
      "\n",
      "## Layer information\n",
      "\n",
      "  #  name      size\n",
      "---  ------  ------\n",
      "  0  input      299\n",
      "  1  hidden     500\n",
      "  2  output      39\n",
      "\n",
      "  epoch    train loss    valid loss    train/val    valid acc  dur\n",
      "-------  ------------  ------------  -----------  -----------  ------\n",
      "      1       \u001b[36m2.63157\u001b[0m       \u001b[32m2.63910\u001b[0m      0.99715      0.22339  29.22s\n",
      "      2       \u001b[36m2.52321\u001b[0m       \u001b[32m2.60649\u001b[0m      0.96805      0.22637  29.03s\n",
      "      3       \u001b[36m2.49771\u001b[0m       \u001b[32m2.58853\u001b[0m      0.96492      0.22857  29.44s\n",
      "      4       \u001b[36m2.48268\u001b[0m       \u001b[32m2.57886\u001b[0m      0.96270      0.23122  29.51s\n",
      "      5       \u001b[36m2.47280\u001b[0m       \u001b[32m2.57330\u001b[0m      0.96095      0.23314  29.57s\n",
      "      6       \u001b[36m2.46526\u001b[0m       \u001b[32m2.56965\u001b[0m      0.95938      0.23488  29.32s\n",
      "      7       \u001b[36m2.45889\u001b[0m       \u001b[32m2.56691\u001b[0m      0.95792      0.23767  28.03s\n",
      "      8       \u001b[36m2.45323\u001b[0m       \u001b[32m2.56476\u001b[0m      0.95651      0.23948  27.25s\n",
      "      9       \u001b[36m2.44806\u001b[0m       \u001b[32m2.56277\u001b[0m      0.95524      0.24086  27.55s\n",
      "     10       \u001b[36m2.44328\u001b[0m       \u001b[32m2.56095\u001b[0m      0.95405      0.24257  28.48s\n",
      "     11       \u001b[36m2.43880\u001b[0m       \u001b[32m2.55926\u001b[0m      0.95293      0.24412  28.76s\n",
      "     12       \u001b[36m2.43459\u001b[0m       \u001b[32m2.55748\u001b[0m      0.95195      0.24557  27.50s\n",
      "     13       \u001b[36m2.43062\u001b[0m       \u001b[32m2.55580\u001b[0m      0.95102      0.24673  27.49s\n",
      "     14       \u001b[36m2.42683\u001b[0m       \u001b[32m2.55410\u001b[0m      0.95017      0.24769  26.81s\n",
      "     15       \u001b[36m2.42320\u001b[0m       \u001b[32m2.55243\u001b[0m      0.94937      0.24912  32.95s\n",
      "     16       \u001b[36m2.41973\u001b[0m       \u001b[32m2.55074\u001b[0m      0.94864      0.24991  27.45s\n",
      "     17       \u001b[36m2.41640\u001b[0m       \u001b[32m2.54907\u001b[0m      0.94795      0.25073  27.19s\n",
      "     18       \u001b[36m2.41320\u001b[0m       \u001b[32m2.54746\u001b[0m      0.94729      0.25131  27.64s\n",
      "     19       \u001b[36m2.41011\u001b[0m       \u001b[32m2.54573\u001b[0m      0.94673      0.25212  27.59s\n",
      "     20       \u001b[36m2.40713\u001b[0m       \u001b[32m2.54417\u001b[0m      0.94613      0.25237  27.74s\n",
      "     21       \u001b[36m2.40423\u001b[0m       \u001b[32m2.54263\u001b[0m      0.94557      0.25312  27.98s\n",
      "     22       \u001b[36m2.40142\u001b[0m       \u001b[32m2.54115\u001b[0m      0.94502      0.25364  28.32s\n",
      "     23       \u001b[36m2.39870\u001b[0m       \u001b[32m2.53982\u001b[0m      0.94444      0.25414  27.67s\n",
      "     24       \u001b[36m2.39605\u001b[0m       \u001b[32m2.53845\u001b[0m      0.94390      0.25473  27.55s\n",
      "     25       \u001b[36m2.39348\u001b[0m       \u001b[32m2.53703\u001b[0m      0.94342      0.25527  27.16s\n",
      "     26       \u001b[36m2.39097\u001b[0m       \u001b[32m2.53557\u001b[0m      0.94297      0.25562  27.96s\n",
      "     27       \u001b[36m2.38854\u001b[0m       \u001b[32m2.53436\u001b[0m      0.94246      0.25572  27.31s\n",
      "     28       \u001b[36m2.38616\u001b[0m       \u001b[32m2.53310\u001b[0m      0.94199      0.25599  27.40s\n",
      "     29       \u001b[36m2.38385\u001b[0m       \u001b[32m2.53179\u001b[0m      0.94157      0.25613  27.95s\n",
      "     30       \u001b[36m2.38158\u001b[0m       \u001b[32m2.53061\u001b[0m      0.94111      0.25643  27.77s\n",
      "     31       \u001b[36m2.37936\u001b[0m       \u001b[32m2.52959\u001b[0m      0.94061      0.25691  27.46s\n",
      "     32       \u001b[36m2.37719\u001b[0m       \u001b[32m2.52853\u001b[0m      0.94015      0.25729  26.98s\n",
      "     33       \u001b[36m2.37508\u001b[0m       \u001b[32m2.52752\u001b[0m      0.93969      0.25735  27.32s\n",
      "     34       \u001b[36m2.37302\u001b[0m       \u001b[32m2.52649\u001b[0m      0.93925      0.25758  28.74s\n",
      "     35       \u001b[36m2.37100\u001b[0m       \u001b[32m2.52558\u001b[0m      0.93879      0.25814  28.95s\n",
      "     36       \u001b[36m2.36901\u001b[0m       \u001b[32m2.52459\u001b[0m      0.93837      0.25844  27.47s\n",
      "     37       \u001b[36m2.36707\u001b[0m       \u001b[32m2.52390\u001b[0m      0.93786      0.25843  26.49s\n",
      "     38       \u001b[36m2.36516\u001b[0m       \u001b[32m2.52310\u001b[0m      0.93740      0.25868  31.21s\n",
      "     39       \u001b[36m2.36329\u001b[0m       \u001b[32m2.52237\u001b[0m      0.93693      0.25899  30.32s\n",
      "     40       \u001b[36m2.36144\u001b[0m       \u001b[32m2.52165\u001b[0m      0.93647      0.25932  30.02s\n",
      "     41       \u001b[36m2.35962\u001b[0m       \u001b[32m2.52111\u001b[0m      0.93595      0.25952  28.41s\n",
      "     42       \u001b[36m2.35785\u001b[0m       \u001b[32m2.52053\u001b[0m      0.93545      0.25951  28.58s\n",
      "     43       \u001b[36m2.35609\u001b[0m       \u001b[32m2.51998\u001b[0m      0.93496      0.25988  28.93s\n",
      "     44       \u001b[36m2.35436\u001b[0m       \u001b[32m2.51950\u001b[0m      0.93446      0.26017  29.41s\n",
      "     45       \u001b[36m2.35267\u001b[0m       \u001b[32m2.51907\u001b[0m      0.93395      0.26038  28.50s\n",
      "     46       \u001b[36m2.35101\u001b[0m       \u001b[32m2.51854\u001b[0m      0.93348      0.26049  28.09s\n",
      "     47       \u001b[36m2.34937\u001b[0m       \u001b[32m2.51802\u001b[0m      0.93302      0.26053  29.95s\n",
      "     48       \u001b[36m2.34775\u001b[0m       \u001b[32m2.51764\u001b[0m      0.93252      0.26083  29.70s\n",
      "     49       \u001b[36m2.34616\u001b[0m       \u001b[32m2.51718\u001b[0m      0.93206      0.26089  28.02s\n",
      "     50       \u001b[36m2.34460\u001b[0m       \u001b[32m2.51684\u001b[0m      0.93156      0.26099  28.76s\n",
      "     51       \u001b[36m2.34306\u001b[0m       \u001b[32m2.51644\u001b[0m      0.93110      0.26102  28.55s\n",
      "     52       \u001b[36m2.34154\u001b[0m       \u001b[32m2.51603\u001b[0m      0.93065      0.26124  28.60s\n",
      "     53       \u001b[36m2.34004\u001b[0m       \u001b[32m2.51559\u001b[0m      0.93021      0.26120  31.44s\n",
      "     54       \u001b[36m2.33857\u001b[0m       \u001b[32m2.51535\u001b[0m      0.92972      0.26123  27.90s\n",
      "     55       \u001b[36m2.33711\u001b[0m       \u001b[32m2.51519\u001b[0m      0.92920      0.26128  28.31s\n",
      "     56       \u001b[36m2.33567\u001b[0m       \u001b[32m2.51498\u001b[0m      0.92870      0.26125  31.21s\n",
      "     57       \u001b[36m2.33424\u001b[0m       \u001b[32m2.51477\u001b[0m      0.92821      0.26127  29.63s\n",
      "     58       \u001b[36m2.33284\u001b[0m       \u001b[32m2.51456\u001b[0m      0.92773      0.26138  28.14s\n",
      "     59       \u001b[36m2.33145\u001b[0m       \u001b[32m2.51428\u001b[0m      0.92728      0.26139  27.94s\n",
      "     60       \u001b[36m2.33008\u001b[0m       \u001b[32m2.51412\u001b[0m      0.92680      0.26135  27.61s\n",
      "     61       \u001b[36m2.32873\u001b[0m       \u001b[32m2.51404\u001b[0m      0.92629      0.26127  30.21s\n",
      "     62       \u001b[36m2.32740\u001b[0m       \u001b[32m2.51395\u001b[0m      0.92580      0.26122  29.23s\n",
      "     63       \u001b[36m2.32609\u001b[0m       \u001b[32m2.51379\u001b[0m      0.92533      0.26118  29.51s\n",
      "     64       \u001b[36m2.32479\u001b[0m       \u001b[32m2.51377\u001b[0m      0.92482      0.26098  29.66s\n",
      "     65       \u001b[36m2.32350\u001b[0m       \u001b[32m2.51370\u001b[0m      0.92433      0.26108  31.46s\n"
     ]
    },
    {
     "data": {
      "text/plain": [
       "NeuralNet(X_tensor_type=None,\n",
       "     batch_iterator_test=<nolearn.lasagne.base.BatchIterator object at 0x10c8b9a10>,\n",
       "     batch_iterator_train=<nolearn.lasagne.base.BatchIterator object at 0x10c8b9990>,\n",
       "     custom_score=None, hidden_num_units=500, input_shape=(None, 299),\n",
       "     layers=[('input', <class 'lasagne.layers.input.InputLayer'>), ('hidden', <class 'lasagne.layers.dense.DenseLayer'>), ('output', <class 'lasagne.layers.dense.DenseLayer'>)],\n",
       "     loss=None, max_epochs=65, more_params={},\n",
       "     objective=<function objective at 0x10c8c4140>,\n",
       "     objective_loss_function=<function categorical_crossentropy at 0x10c6b4140>,\n",
       "     on_epoch_finished=[<nolearn.lasagne.handlers.PrintLog instance at 0x10448b758>],\n",
       "     on_training_finished=[],\n",
       "     on_training_started=[<nolearn.lasagne.handlers.PrintLayerInfo instance at 0x1148486c8>],\n",
       "     output_nonlinearity=<function softmax at 0x10c5607d0>,\n",
       "     output_num_units=39, regression=False,\n",
       "     train_split=<nolearn.lasagne.base.TrainSplit object at 0x10c8b9a50>,\n",
       "     update=<function nesterov_momentum at 0x10c6b4de8>,\n",
       "     update_learning_rate=0.002, update_momentum=0.9,\n",
       "     use_label_encoder=False, verbose=1,\n",
       "     y_tensor_type=TensorType(int32, vector))"
      ]
     },
     "execution_count": 6,
     "metadata": {},
     "output_type": "execute_result"
    }
   ],
   "source": [
    "# The accuracy was 0.293386815542 (train + dev) before stopping potential overfitting\n",
    "# However, we stopped early @ 65 epochs to prevent overfitting\n",
    "num_features = np_train_data.shape[1]\n",
    "\n",
    "net1 = NeuralNet(\n",
    "    layers=[  # three layers: one hidden layer\n",
    "        ('input', layers.InputLayer),\n",
    "        ('hidden', layers.DenseLayer),\n",
    "        ('output', layers.DenseLayer),\n",
    "        ],\n",
    "    # layer parameters:\n",
    "    input_shape=(None, num_features),  # automatically calculate the number of featrues\n",
    "    hidden_num_units=500,  # number of units in hidden layer\n",
    "    output_nonlinearity=nonlinearities.softmax,\n",
    "    output_num_units=39,  # 39 target values\n",
    "\n",
    "    # optimization method:\n",
    "    update=nesterov_momentum,\n",
    "    update_learning_rate=0.002,\n",
    "    update_momentum=0.9,\n",
    "\n",
    "    regression=False,  # flag to indicate we're not dealing with regression problem\n",
    "    max_epochs=65,  # we want to train this many epochs\n",
    "    verbose=1,\n",
    "    )\n",
    "\n",
    "print np_train_data.shape\n",
    "print train_labels.shape\n",
    "net1.fit(np_train_data, train_labels_int)"
   ]
  },
  {
   "cell_type": "code",
   "execution_count": 7,
   "metadata": {
    "collapsed": false
   },
   "outputs": [
    {
     "data": {
      "image/png": "[encoded data removed]",
      "text/plain": [
       "<matplotlib.figure.Figure at 0x1137b8650>"
      ]
     },
     "metadata": {},
     "output_type": "display_data"
    }
   ],
   "source": [
    "train_loss = np.array([i[\"train_loss\"] for i in net1.train_history_])\n",
    "valid_loss = np.array([i[\"valid_loss\"] for i in net1.train_history_])\n",
    "plt.plot(train_loss, linewidth=3, label=\"train\")\n",
    "plt.plot(valid_loss, linewidth=3, label=\"valid\")\n",
    "plt.grid()\n",
    "plt.legend()\n",
    "plt.xlabel(\"epoch\")\n",
    "plt.ylabel(\"loss\")\n",
    "plt.ylim(1e-0, 1e1)\n",
    "plt.yscale(\"log\")\n",
    "plt.show()\n"
   ]
  },
  {
   "cell_type": "code",
   "execution_count": 11,
   "metadata": {
    "collapsed": false
   },
   "outputs": [
    {
     "name": "stdout",
     "output_type": "stream",
     "text": [
      "             precision    recall  f1-score   support\n",
      "\n",
      "          0       0.00      0.00      0.00      1513\n",
      "          1       0.20      0.14      0.16     76876\n",
      "          2       0.00      0.00      0.00       406\n",
      "          3       0.00      0.00      0.00       289\n",
      "          4       0.22      0.02      0.04     36755\n",
      "          5       0.21      0.00      0.01      4320\n",
      "          6       0.00      0.00      0.00      2268\n",
      "          7       0.29      0.50      0.37     53971\n",
      "          8       0.00      0.00      0.00      4280\n",
      "          9       0.00      0.00      0.00      1166\n",
      "         10       0.00      0.00      0.00       256\n",
      "         11       0.00      0.00      0.00       491\n",
      "         12       0.19      0.01      0.01     10609\n",
      "         13       0.25      0.00      0.00     16679\n",
      "         14       0.00      0.00      0.00       146\n",
      "         15       0.00      0.00      0.00      2341\n",
      "         16       0.32      0.72      0.45    174900\n",
      "         17       0.00      0.00      0.00      1903\n",
      "         18       0.56      0.03      0.06      1225\n",
      "         19       0.51      0.33      0.40     25989\n",
      "         20       0.24      0.15      0.18     92304\n",
      "         21       0.23      0.41      0.29    126182\n",
      "         22       0.00      0.00      0.00        22\n",
      "         23       0.48      0.61      0.53      7484\n",
      "         24       0.00      0.00      0.00      3138\n",
      "         25       0.14      0.00      0.00     23000\n",
      "         26       0.49      0.17      0.25      1946\n",
      "         27       0.00      0.00      0.00      9985\n",
      "         28       0.00      0.00      0.00      4388\n",
      "         29       0.00      0.00      0.00       148\n",
      "         30       0.00      0.00      0.00      4540\n",
      "         31       0.00      0.00      0.00       508\n",
      "         32       0.00      0.00      0.00     31414\n",
      "         33       0.00      0.00      0.00         6\n",
      "         34       0.24      0.02      0.04      7326\n",
      "         35       0.18      0.02      0.03     44725\n",
      "         36       0.33      0.14      0.19     53781\n",
      "         37       0.16      0.01      0.01     42214\n",
      "         38       0.00      0.00      0.00      8555\n",
      "\n",
      "avg / total       0.24      0.29      0.22    878049\n",
      "\n",
      "The accuracy is: 0.285459011969\n"
     ]
    }
   ],
   "source": [
    "# View accuracy for each classification type. Note that this accuracy is measured on all training data, and thus\n",
    "# is higher than what we would expect on test data. This metric still was useful when comparing feature sets and model\n",
    "# hyperparamaters.\n",
    "\n",
    "train_pred = net1.predict(np_train_data)\n",
    "print(classification_report(train_labels_int, train_pred))\n",
    "print 'The accuracy is:', accuracy_score(train_labels_int, train_pred)\n",
    "\n",
    "# Get probabilities for submission to Kaggle\n",
    "test_proba = net1.predict_proba(np_test_data)\n"
   ]
  },
  {
   "cell_type": "markdown",
   "metadata": {},
   "source": [
    "##Neural Net with 2 Hidden Layers + 1 Dropout Layer"
   ]
  },
  {
   "cell_type": "markdown",
   "metadata": {},
   "source": [
    "We next tried adding an additional hidden layer, including a \"dropout layer\" to help prevent overfitting. The dropout layer randomly severs a certain percentage of the connections between the nodes.\n",
    "\n",
    "We iterated through many possible values and settled on the ones below. However, further iteration with a faster processing speed (via a GPU) would likely lead to improvements."
   ]
  },
  {
   "cell_type": "code",
   "execution_count": 12,
   "metadata": {
    "collapsed": false
   },
   "outputs": [
    {
     "name": "stdout",
     "output_type": "stream",
     "text": [
      "# Neural Network with 420039 learnable parameters\n",
      "\n",
      "## Layer information\n",
      "\n",
      "  #  name       size\n",
      "---  -------  ------\n",
      "  0  input       299\n",
      "  1  dense0      500\n",
      "  2  dropout     500\n",
      "  3  dense1      500\n",
      "  4  output       39\n",
      "\n",
      "  epoch    train loss    valid loss    train/val    valid acc  dur\n",
      "-------  ------------  ------------  -----------  -----------  ------\n",
      "      1       \u001b[36m2.49777\u001b[0m       \u001b[32m2.64343\u001b[0m      0.94490      0.22286  80.71s\n",
      "      2       \u001b[36m2.43491\u001b[0m       \u001b[32m2.59972\u001b[0m      0.93660      0.23403  80.35s\n",
      "      3       \u001b[36m2.41387\u001b[0m       \u001b[32m2.57477\u001b[0m      0.93751      0.24013  81.41s\n",
      "      4       \u001b[36m2.40082\u001b[0m       \u001b[32m2.55420\u001b[0m      0.93995      0.24428  82.20s\n",
      "      5       \u001b[36m2.39132\u001b[0m       \u001b[32m2.54141\u001b[0m      0.94094      0.24588  83.52s\n",
      "      6       \u001b[36m2.38321\u001b[0m       \u001b[32m2.53455\u001b[0m      0.94029      0.24774  82.93s\n",
      "      7       \u001b[36m2.37690\u001b[0m       \u001b[32m2.52936\u001b[0m      0.93972      0.24789  82.61s\n",
      "      8       \u001b[36m2.37140\u001b[0m       \u001b[32m2.51653\u001b[0m      0.94233      0.25034  82.85s\n",
      "      9       \u001b[36m2.36682\u001b[0m       \u001b[32m2.51053\u001b[0m      0.94276      0.25273  82.66s\n",
      "     10       \u001b[36m2.36227\u001b[0m       \u001b[32m2.50447\u001b[0m      0.94322      0.25404  82.91s\n",
      "     11       \u001b[36m2.35771\u001b[0m       2.50597      0.94084      0.25417  82.88s\n",
      "     12       \u001b[36m2.35414\u001b[0m       \u001b[32m2.50088\u001b[0m      0.94132      0.25493  82.83s\n",
      "     13       \u001b[36m2.35088\u001b[0m       \u001b[32m2.49870\u001b[0m      0.94084      0.25513  82.91s\n",
      "     14       \u001b[36m2.34852\u001b[0m       \u001b[32m2.49291\u001b[0m      0.94208      0.25671  82.91s\n",
      "     15       \u001b[36m2.34561\u001b[0m       \u001b[32m2.49078\u001b[0m      0.94172      0.25819  83.04s\n",
      "     16       \u001b[36m2.34285\u001b[0m       \u001b[32m2.48882\u001b[0m      0.94135      0.25744  83.02s\n",
      "     17       \u001b[36m2.33990\u001b[0m       \u001b[32m2.48666\u001b[0m      0.94098      0.25939  82.93s\n",
      "     18       \u001b[36m2.33734\u001b[0m       \u001b[32m2.48640\u001b[0m      0.94005      0.25912  82.86s\n",
      "     19       \u001b[36m2.33535\u001b[0m       \u001b[32m2.48623\u001b[0m      0.93931      0.25864  83.17s\n",
      "     20       \u001b[36m2.33354\u001b[0m       \u001b[32m2.48333\u001b[0m      0.93968      0.25974  82.75s\n",
      "     21       \u001b[36m2.33089\u001b[0m       \u001b[32m2.48254\u001b[0m      0.93891      0.25916  82.97s\n",
      "     22       \u001b[36m2.32917\u001b[0m       \u001b[32m2.47983\u001b[0m      0.93925      0.26040  85.38s\n",
      "     23       \u001b[36m2.32727\u001b[0m       2.48016      0.93835      0.26162  86.05s\n",
      "     24       \u001b[36m2.32594\u001b[0m       \u001b[32m2.47887\u001b[0m      0.93831      0.26149  84.90s\n",
      "     25       \u001b[36m2.32317\u001b[0m       2.47925      0.93704      0.26205  86.40s\n",
      "     26       \u001b[36m2.32193\u001b[0m       \u001b[32m2.47855\u001b[0m      0.93681      0.26148  84.95s\n",
      "     27       \u001b[36m2.32002\u001b[0m       \u001b[32m2.47825\u001b[0m      0.93615      0.26147  85.35s\n",
      "     28       \u001b[36m2.31859\u001b[0m       \u001b[32m2.47635\u001b[0m      0.93629      0.26187  85.21s\n",
      "     29       \u001b[36m2.31681\u001b[0m       \u001b[32m2.47531\u001b[0m      0.93597      0.26293  85.71s\n",
      "     30       \u001b[36m2.31531\u001b[0m       2.47668      0.93484      0.26159  85.68s\n",
      "     31       \u001b[36m2.31367\u001b[0m       2.47534      0.93469      0.26392  85.52s\n",
      "     32       \u001b[36m2.31300\u001b[0m       2.47536      0.93441      0.26268  84.69s\n",
      "     33       \u001b[36m2.31076\u001b[0m       2.47710      0.93285      0.26222  85.35s\n",
      "     34       \u001b[36m2.30927\u001b[0m       2.47605      0.93264      0.26238  86.49s\n",
      "     35       \u001b[36m2.30826\u001b[0m       2.47607      0.93223      0.26185  88.26s\n",
      "     36       \u001b[36m2.30710\u001b[0m       \u001b[32m2.47463\u001b[0m      0.93230      0.26294  86.80s\n",
      "     37       \u001b[36m2.30558\u001b[0m       \u001b[32m2.47318\u001b[0m      0.93223      0.26316  87.60s\n",
      "     38       \u001b[36m2.30439\u001b[0m       2.47323      0.93173      0.26298  88.59s\n",
      "     39       \u001b[36m2.30360\u001b[0m       2.47650      0.93019      0.26086  86.68s\n",
      "     40       \u001b[36m2.30285\u001b[0m       2.47457      0.93061      0.26186  87.29s\n"
     ]
    },
    {
     "data": {
      "text/plain": [
       "NeuralNet(X_tensor_type=None,\n",
       "     batch_iterator_test=<nolearn.lasagne.base.BatchIterator object at 0x10c8b9a10>,\n",
       "     batch_iterator_train=<nolearn.lasagne.base.BatchIterator object at 0x10c8b9990>,\n",
       "     custom_score=None, dense0_num_units=500, dense1_num_units=500,\n",
       "     dropout_p=0.5, input_shape=(None, 299),\n",
       "     layers=[('input', <class 'lasagne.layers.input.InputLayer'>), ('dense0', <class 'lasagne.layers.dense.DenseLayer'>), ('dropout', <class 'lasagne.layers.noise.DropoutLayer'>), ('dense1', <class 'lasagne.layers.dense.DenseLayer'>), ('output', <class 'lasagne.layers.dense.DenseLayer'>)],\n",
       "     loss=None, max_epochs=40, more_params={},\n",
       "     objective=<function objective at 0x10c8c4140>,\n",
       "     objective_loss_function=<function categorical_crossentropy at 0x10c6b4140>,\n",
       "     on_epoch_finished=[<nolearn.lasagne.handlers.PrintLog instance at 0x114d990e0>],\n",
       "     on_training_finished=[],\n",
       "     on_training_started=[<nolearn.lasagne.handlers.PrintLayerInfo instance at 0x114d99320>],\n",
       "     output_nonlinearity=<function softmax at 0x10c5607d0>,\n",
       "     output_num_units=39, regression=False,\n",
       "     train_split=<nolearn.lasagne.base.TrainSplit object at 0x10c8b9a50>,\n",
       "     update=<function nesterov_momentum at 0x10c6b4de8>,\n",
       "     update_learning_rate=0.02, update_momentum=0.9,\n",
       "     use_label_encoder=False, verbose=1,\n",
       "     y_tensor_type=TensorType(int32, vector))"
      ]
     },
     "execution_count": 12,
     "metadata": {},
     "output_type": "execute_result"
    }
   ],
   "source": [
    "num_features = np_train_data.shape[1]\n",
    "\n",
    "net2 = NeuralNet(\n",
    "    layers=[  # more layers\n",
    "        ('input', layers.InputLayer),\n",
    "        ('dense0', layers.DenseLayer),\n",
    "        ('dropout', layers.DropoutLayer),\n",
    "        ('dense1', layers.DenseLayer),\n",
    "        ('output', layers.DenseLayer)\n",
    "    ],\n",
    "    # layer parameters:\n",
    "    input_shape=(None, num_features),  # 3 input pixels per batch\n",
    "    dense0_num_units=500,  # number of units in hidden layer\n",
    "    dropout_p=0.5,  # randomly disconect a number of notes to help preven overfitting\n",
    "    dense1_num_units=500,  # number of units in hidden layer\n",
    "    output_num_units=39,  # 39 target values\n",
    "    output_nonlinearity=nonlinearities.softmax,\n",
    "\n",
    "    # optimization method:\n",
    "    update=nesterov_momentum,\n",
    "    update_learning_rate=0.02,\n",
    "    update_momentum=0.9,\n",
    "\n",
    "    regression=False,  # flag to indicate we're not dealing with regression problem\n",
    "    max_epochs=40,  # we want to train this many epochs\n",
    "    verbose=1,\n",
    "    )\n",
    "\n",
    "net2.fit(np_train_data, train_labels_int)\n"
   ]
  },
  {
   "cell_type": "code",
   "execution_count": 13,
   "metadata": {
    "collapsed": false
   },
   "outputs": [
    {
     "data": {
      "image/png": "[encoded data removed]",
      "text/plain": [
       "<matplotlib.figure.Figure at 0x11306fc50>"
      ]
     },
     "metadata": {},
     "output_type": "display_data"
    }
   ],
   "source": [
    "train_loss = np.array([i[\"train_loss\"] for i in net2.train_history_])\n",
    "valid_loss = np.array([i[\"valid_loss\"] for i in net2.train_history_])\n",
    "plt.plot(train_loss, linewidth=3, label=\"train\")\n",
    "plt.plot(valid_loss, linewidth=3, label=\"valid\")\n",
    "plt.grid()\n",
    "plt.legend()\n",
    "plt.xlabel(\"epoch\")\n",
    "plt.ylabel(\"loss\")\n",
    "plt.ylim(1e-0, 1e1)\n",
    "plt.yscale(\"log\")\n",
    "plt.show()\n"
   ]
  },
  {
   "cell_type": "code",
   "execution_count": 17,
   "metadata": {
    "collapsed": false
   },
   "outputs": [
    {
     "name": "stdout",
     "output_type": "stream",
     "text": [
      "             precision    recall  f1-score   support\n",
      "\n",
      "          0       0.00      0.00      0.00      1513\n",
      "          1       0.20      0.20      0.20     76876\n",
      "          2       0.00      0.00      0.00       406\n",
      "          3       0.00      0.00      0.00       289\n",
      "          4       0.24      0.06      0.09     36755\n",
      "          5       0.29      0.04      0.06      4320\n",
      "          6       0.00      0.00      0.00      2268\n",
      "          7       0.31      0.48      0.38     53971\n",
      "          8       0.00      0.00      0.00      4280\n",
      "          9       0.00      0.00      0.00      1166\n",
      "         10       0.00      0.00      0.00       256\n",
      "         11       0.00      0.00      0.00       491\n",
      "         12       0.18      0.03      0.06     10609\n",
      "         13       0.17      0.00      0.00     16679\n",
      "         14       0.00      0.00      0.00       146\n",
      "         15       0.00      0.00      0.00      2341\n",
      "         16       0.33      0.67      0.45    174900\n",
      "         17       0.35      0.02      0.04      1903\n",
      "         18       0.49      0.09      0.16      1225\n",
      "         19       0.60      0.34      0.43     25989\n",
      "         20       0.25      0.17      0.20     92304\n",
      "         21       0.24      0.40      0.30    126182\n",
      "         22       0.00      0.00      0.00        22\n",
      "         23       0.53      0.57      0.55      7484\n",
      "         24       0.00      0.00      0.00      3138\n",
      "         25       0.20      0.00      0.00     23000\n",
      "         26       0.48      0.22      0.30      1946\n",
      "         27       0.39      0.00      0.01      9985\n",
      "         28       0.00      0.00      0.00      4388\n",
      "         29       0.00      0.00      0.00       148\n",
      "         30       0.00      0.00      0.00      4540\n",
      "         31       0.00      0.00      0.00       508\n",
      "         32       0.00      0.00      0.00     31414\n",
      "         33       0.00      0.00      0.00         6\n",
      "         34       0.30      0.01      0.02      7326\n",
      "         35       0.42      0.01      0.02     44725\n",
      "         36       0.25      0.27      0.26     53781\n",
      "         37       0.20      0.01      0.03     42214\n",
      "         38       0.00      0.00      0.00      8555\n",
      "\n",
      "avg / total       0.27      0.29      0.24    878049\n",
      "\n",
      "The accuracy is: 0.292563399081\n"
     ]
    }
   ],
   "source": [
    "train_pred = net2.predict(np_train_data)\n",
    "print(classification_report(train_labels_int, train_pred))\n",
    "print 'The accuracy is:', accuracy_score(train_labels_int, train_pred)\n",
    "\n",
    "# Get probabilities for submission to Kaggle\n",
    "test_proba = net2.predict_proba(np_test_data)\n"
   ]
  },
  {
   "cell_type": "markdown",
   "metadata": {},
   "source": [
    "#Summary Table\n",
    "\n",
    "Overall, we improved our score on Kaggle from 31.0522 to 2.4282 using a variety of different methods. This landed us in the top 50. We believe that the neural net and gradient boosting algorithms were the most promising, and given more time and computing power, we could further improve these models."
   ]
  },
  {
   "cell_type": "code",
   "execution_count": 8,
   "metadata": {
    "collapsed": false
   },
   "outputs": [
    {
     "name": "stdout",
     "output_type": "stream",
     "text": [
      "Kaggle Submission                                           Score\n",
      "------------------------------------------------------------------\n",
      "Very first baseline model                                 31.0522\n",
      "KNN = 1, Normalized, top 4 crimes, category avg for 0s     2.9256\n",
      "Logistic regression, C = 0.001                             2.6973\n",
      "BernoulliNB, alpha = 1.0                                   2.5669\n",
      "Gradient boosting                                          2.4956\n",
      "Neural Net                                                 2.4282\n"
     ]
    }
   ],
   "source": [
    "table_form = \"{:55s}{:>10.4f}\".format\n",
    "print \"{:55s}{:>10s}\".format(\"Kaggle Submission\", \"Score\")\n",
    "print \"------------------------------------------------------------------\"\n",
    "print table_form(\"Very first baseline model\", 31.0522)\n",
    "print table_form(\"KNN = 1, Normalized, top 4 crimes, category avg for 0s\", 2.9256)\n",
    "print table_form(\"Logistic regression, C = 0.001\", 2.6973)\n",
    "print table_form(\"BernoulliNB, alpha = 1.0\", 2.5669)\n",
    "print table_form(\"Gradient boosting\", 2.4956)\n",
    "print table_form(\"Neural Net\", 2.4282)"
   ]
  },
  {
   "cell_type": "markdown",
   "metadata": {},
   "source": [
    "#Appendix - Decision Tree and Random Forest"
   ]
  },
  {
   "cell_type": "markdown",
   "metadata": {},
   "source": [
    "We also attempted a decision tree and random forest for fun."
   ]
  },
  {
   "cell_type": "code",
   "execution_count": 58,
   "metadata": {
    "collapsed": false
   },
   "outputs": [
    {
     "name": "stdout",
     "output_type": "stream",
     "text": [
      "model           accuracy  log-loss  \n",
      "-----------------------------------\n",
      "decision tree   0.2253    26.2909   \n",
      "random forest   0.2454    14.4204   \n"
     ]
    }
   ],
   "source": [
    "result_form = \"{:<16s}{:<10.4f}{:<10.4f}\".format\n",
    "\n",
    "print \"{:<16s}{:<10s}{:<10s}\".format(\"model\", \"accuracy\", \"log-loss\")\n",
    "print \"-----------------------------------\"\n",
    "\n",
    "# Let's try a decision tree\n",
    "\n",
    "dt = DecisionTreeClassifier()\n",
    "dt.fit(reg_train_data[features_to_use], reg_train_labels)\n",
    "dt_probs = dt.predict_proba(test_data[features_to_use])\n",
    "accuracy = dt.score(dev_data[features_to_use], dev_labels)\n",
    "logloss = log_loss(dev_labels, dt.predict_proba(dev_data[features_to_use])) \n",
    "print result_form(\"decision tree\", accuracy, logloss)\n",
    "\n",
    "# Let's try a random forest\n",
    "\n",
    "rf = RandomForestClassifier()\n",
    "rf.fit(reg_train_data[features_to_use], reg_train_labels)\n",
    "rf_probs = rf.predict_proba(test_data[features_to_use])\n",
    "accuracy = rf.score(dev_data[features_to_use], dev_labels)\n",
    "logloss = log_loss(dev_labels, rf.predict_proba(dev_data[features_to_use])) \n",
    "print result_form(\"random forest\", accuracy, logloss)"
   ]
  },
  {
   "cell_type": "code",
   "execution_count": null,
   "metadata": {
    "collapsed": true
   },
   "outputs": [],
   "source": []
  }
 ],
 "metadata": {
  "kernelspec": {
   "display_name": "Python 2",
   "language": "python",
   "name": "python2"
  },
  "language_info": {
   "codemirror_mode": {
    "name": "ipython",
    "version": 2
   },
   "file_extension": ".py",
   "mimetype": "text/x-python",
   "name": "python",
   "nbconvert_exporter": "python",
   "pygments_lexer": "ipython2",
   "version": "2.7.9"
  }
 },
 "nbformat": 4,
 "nbformat_minor": 0
}
