{
 "cells": [
  {
   "cell_type": "markdown",
   "metadata": {},
   "source": [
    "UC Berkeley W207 - Machine Learning\n",
    "Miki Seltzer, Eric Freeman, Christopher Llop\n",
    "\n",
    "This Notebook contains our solution to the Kaggle SF Crime problem available at:\n",
    "https://www.kaggle.com/c/sf-crime\n",
    "\n",
    "The notebook covers the following methods and includes discussion of key decisions along the way (as of 2015-06-17). If you are not part of our W207 class, you are welcome to look through our methods and leverage our code to develop new solutions. We may also continue work after creating this report - just go by the \"last modified\" date on GitHub.\n",
    "\n",
    "Concepts Covered:\n",
    "1. Basic data exploration\n",
    "2. K-Nearest Neighbors\n",
    "3. Logistic Regression\n",
    "4. Bernoulli Naive Bayes\n",
    "5. Gradient Boosting\n",
    "6. Neural Networks\n"
   ]
  },
  {
   "cell_type": "code",
   "execution_count": 7,
   "metadata": {
    "collapsed": true
   },
   "outputs": [],
   "source": [
    "#This tells matplotlib not to try opening a new window for each plot.\n",
    "%matplotlib inline\n",
    "\n",
    "# General libraries.\n",
    "import numpy as np\n",
    "import matplotlib.pyplot as plt\n",
    "import pandas as pd\n",
    "\n",
    "import csv\n",
    "import datetime\n",
    "\n",
    "# SK-learn libraries for learning.\n",
    "from sklearn.pipeline import Pipeline\n",
    "from sklearn.neighbors import KNeighborsClassifier\n",
    "from sklearn.grid_search import GridSearchCV\n",
    "from sklearn.linear_model import LogisticRegression\n",
    "from sklearn.naive_bayes import BernoulliNB\n",
    "from sklearn.tree import DecisionTreeClassifier\n",
    "from sklearn.ensemble import RandomForestClassifier\n",
    "from sklearn.ensemble import BaggingClassifier\n",
    "from sklearn.ensemble import GradientBoostingClassifier\n",
    "from sklearn.decomposition import PCA\n",
    "\n",
    "# SK-learn libraries for evaluation.\n",
    "from sklearn.metrics import confusion_matrix\n",
    "from sklearn import metrics\n",
    "from sklearn.metrics import classification_report\n",
    "from sklearn.metrics import log_loss\n",
    "\n",
    "# Libraries for Neural Networks. The versions currently available via \"pip\" are not up to date, and do\n",
    "# not sync with each other. To use these packages, install directly from github using the instructions\n",
    "# here:\n",
    "# https://github.com/dnouri/nolearn\n",
    "from lasagne import layers\n",
    "from lasagne import nonlinearities\n",
    "from lasagne.updates import nesterov_momentum\n",
    "from nolearn.lasagne import NeuralNet\n"
   ]
  },
  {
   "cell_type": "markdown",
   "metadata": {},
   "source": [
    "#Data Explorations"
   ]
  },
  {
   "cell_type": "markdown",
   "metadata": {},
   "source": [
    "We started with a basic exploration of the data. For the purposes of this report only some of those checks are\n",
    "shown below. You can examine these searches further in the \"Load and Examine Data\" iPython notebook. \n",
    "\n",
    "Some tasks:    \n",
    "- Count unique values for each variable\n",
    "- View most common values\n",
    "- XY plot of lat/long w. circles to indicate number of crimes\n",
    "- Time series plots to see how category use changes over time\n",
    "\n",
    "Interesting Points:\n",
    "- Most crime on Friday, then Wednesday. Least on Sunday.\n",
    "- X and Y latitude have same number of distinct values. Seem to be somehow linked to locations\n",
    "  since, despite there being a lots of sig fig, they still can be frequency counted\n",
    "- 800 Block of BRYANT ST has 4x+ more data points than anyplace else. Seems to link w/ most freq X and Y\n",
    "- \"Other Offenses\" are common\n",
    "- The dates with the most crime are new years day. Also the first of months.\n",
    "- Note: Strange max value of Y = 90 for 67 values. These appear to be in Chicago, but the data has addresses in SF. We removed this data from our analysis."
   ]
  },
  {
   "cell_type": "code",
   "execution_count": 2,
   "metadata": {
    "collapsed": false,
    "scrolled": true
   },
   "outputs": [
    {
     "name": "stdout",
     "output_type": "stream",
     "text": [
      "There are a total of 878,049, values.\n",
      "There are a total of 389,257 Dates.\n",
      "There are a total of 39 Category.\n",
      "There are a total of 879 Descript.\n",
      "There are a total of 7 DayOfWeek.\n",
      "There are a total of 10 PdDistrict.\n",
      "There are a total of 17 Resolution.\n",
      "There are a total of 23,228 Address.\n",
      "There are a total of 34,243 X.\n",
      "There are a total of 34,243 Y.\n",
      "-------------------------------------------------------------------------\n",
      "There are a total of 39 distinct Category values, as follows: \n",
      "LARCENY/THEFT                  0.199192\n",
      "OTHER OFFENSES                 0.143707\n",
      "NON-CRIMINAL                   0.105124\n",
      "ASSAULT                        0.087553\n",
      "DRUG/NARCOTIC                  0.061467\n",
      "VEHICLE THEFT                  0.061251\n",
      "VANDALISM                      0.050937\n",
      "WARRANTS                       0.048077\n",
      "BURGLARY                       0.041860\n",
      "SUSPICIOUS OCC                 0.035777\n",
      "MISSING PERSON                 0.029599\n",
      "ROBBERY                        0.026194\n",
      "FRAUD                          0.018996\n",
      "FORGERY/COUNTERFEITING         0.012082\n",
      "SECONDARY CODES                0.011372\n",
      "WEAPON LAWS                    0.009743\n",
      "PROSTITUTION                   0.008523\n",
      "TRESPASS                       0.008343\n",
      "STOLEN PROPERTY                0.005171\n",
      "SEX OFFENSES FORCIBLE          0.004997\n",
      "DISORDERLY CONDUCT             0.004920\n",
      "DRUNKENNESS                    0.004874\n",
      "RECOVERED VEHICLE              0.003574\n",
      "KIDNAPPING                     0.002666\n",
      "DRIVING UNDER THE INFLUENCE    0.002583\n",
      "RUNAWAY                        0.002216\n",
      "LIQUOR LAWS                    0.002167\n",
      "ARSON                          0.001723\n",
      "LOITERING                      0.001395\n",
      "EMBEZZLEMENT                   0.001328\n",
      "SUICIDE                        0.000579\n",
      "FAMILY OFFENSES                0.000559\n",
      "BAD CHECKS                     0.000462\n",
      "BRIBERY                        0.000329\n",
      "EXTORTION                      0.000292\n",
      "SEX OFFENSES NON FORCIBLE      0.000169\n",
      "GAMBLING                       0.000166\n",
      "PORNOGRAPHY/OBSCENE MAT        0.000025\n",
      "TREA                           0.000007\n",
      "dtype: float64\n",
      "\n",
      "-------------------------------------------------------------------------\n",
      "There are a total of 10 distinct PdDistrict values, as follows: \n",
      "SOUTHERN      0.179013\n",
      "MISSION       0.136562\n",
      "NORTHERN      0.119920\n",
      "BAYVIEW       0.101852\n",
      "CENTRAL       0.097329\n",
      "TENDERLOIN    0.093171\n",
      "INGLESIDE     0.089796\n",
      "TARAVAL       0.074707\n",
      "PARK          0.056162\n",
      "RICHMOND      0.051488\n",
      "dtype: float64\n",
      "\n",
      "-------------------------------------------------------------------------\n",
      "There are a total of 17 distinct Resolution values, as follows: \n",
      "NONE                                      0.599955\n",
      "ARREST, BOOKED                            0.235070\n",
      "ARREST, CITED                             0.087699\n",
      "LOCATED                                   0.019476\n",
      "PSYCHOPATHIC CASE                         0.016553\n",
      "UNFOUNDED                                 0.010916\n",
      "JUVENILE BOOKED                           0.006337\n",
      "COMPLAINANT REFUSES TO PROSECUTE          0.004528\n",
      "DISTRICT ATTORNEY REFUSES TO PROSECUTE    0.004480\n",
      "NOT PROSECUTED                            0.004230\n",
      "JUVENILE CITED                            0.003795\n",
      "PROSECUTED BY OUTSIDE AGENCY              0.002852\n",
      "EXCEPTIONAL CLEARANCE                     0.001742\n",
      "JUVENILE ADMONISHED                       0.001657\n",
      "JUVENILE DIVERTED                         0.000404\n",
      "CLEARED-CONTACT JUVENILE FOR MORE INFO    0.000247\n",
      "PROSECUTED FOR LESSER OFFENSE             0.000058\n",
      "dtype: float64\n",
      "\n"
     ]
    }
   ],
   "source": [
    "data_orig = pd.read_csv(\"train.csv\")\n",
    "test_orig = pd.read_csv(\"test.csv\")\n",
    "\n",
    "# Count distinct for each variable:\n",
    "print \"There are a total of {:,}, values.\".format(len(data_orig))\n",
    "\n",
    "for var, series in data_orig.iteritems():\n",
    "    print \"There are a total of {:,} {}.\".format(len(series.value_counts()), var)\n",
    "# View All of Categories, PdDistrict, Resolution, DayOfWeek\n",
    "variables = [\"Category\", \"PdDistrict\", \"Resolution\"]\n",
    "x = data_orig[\"Category\"].value_counts()/len(data_orig)\n",
    "for col in variables:\n",
    "    print \"-------------------------------------------------------------------------\"\n",
    "    print \"There are a total of {:,} distinct {} values, as follows: \".format(len(data_orig[col].value_counts()), col)\n",
    "    print data_orig[col].value_counts()/len(data_orig)\n",
    "    print"
   ]
  },
  {
   "cell_type": "markdown",
   "metadata": {},
   "source": [
    "We added several new date related features to the dataset right away, which were used in data investigations."
   ]
  },
  {
   "cell_type": "code",
   "execution_count": 69,
   "metadata": {
    "collapsed": false
   },
   "outputs": [],
   "source": [
    "data_clean = data_orig[data_orig.Y != 90]\n",
    "\n",
    "def add_date_vars(data):\n",
    "    data['Dates'] = pd.to_datetime(data['Dates'])\n",
    "    data['Year'] = data.Dates.dt.year\n",
    "    data['Month'] = data.Dates.dt.month\n",
    "    data['Day'] = data.Dates.dt.day\n",
    "    data['Date'] = data.Dates.dt.date\n",
    "    data['Hour'] = data.Dates.dt.hour\n",
    "    data['DayOfYear'] = data.Dates.dt.dayofyear\n",
    "    data['WeekDay'] = data.Dates.dt.weekday\n",
    "    \n",
    "    datetime_vector = data['Dates']\n",
    "    date_vector = datetime_vector.dt.date\n",
    "    date_diff_vector = (date_vector - date_vector.min()) / np.timedelta64(1, 'D')\n",
    "    data['DateDiff'] = date_diff_vector\n",
    "\n",
    "\n",
    "add_date_vars(data_clean)\n",
    "add_date_vars(test_orig)"
   ]
  },
  {
   "cell_type": "markdown",
   "metadata": {},
   "source": [
    "We also created a standard \"output\" function that we used across sensitivites"
   ]
  },
  {
   "cell_type": "code",
   "execution_count": 6,
   "metadata": {
    "collapsed": true
   },
   "outputs": [],
   "source": [
    "# Create a function that will create a correctly formatted output file for submission to Kaggle.\n",
    "\n",
    "def create_submission(preds):\n",
    "    labels = [\"Id\",\"ARSON\",\"ASSAULT\",\"BAD CHECKS\",\"BRIBERY\",\"BURGLARY\",\"DISORDERLY CONDUCT\",\"DRIVING UNDER THE INFLUENCE\",\n",
    "              \"DRUG/NARCOTIC\",\"DRUNKENNESS\",\"EMBEZZLEMENT\",\"EXTORTION\",\"FAMILY OFFENSES\",\"FORGERY/COUNTERFEITING\",\n",
    "              \"FRAUD\",\"GAMBLING\",\"KIDNAPPING\",\"LARCENY/THEFT\",\"LIQUOR LAWS\",\"LOITERING\",\"MISSING PERSON\",\"NON-CRIMINAL\",\n",
    "              \"OTHER OFFENSES\",\"PORNOGRAPHY/OBSCENE MAT\",\"PROSTITUTION\",\"RECOVERED VEHICLE\",\"ROBBERY\",\"RUNAWAY\",\n",
    "              \"SECONDARY CODES\",\"SEX OFFENSES FORCIBLE\",\"SEX OFFENSES NON FORCIBLE\",\"STOLEN PROPERTY\",\"SUICIDE\",\n",
    "              \"SUSPICIOUS OCC\",\"TREA\",\"TRESPASS\",\"VANDALISM\",\"VEHICLE THEFT\",\"WARRANTS\",\"WEAPON LAWS\"]\n",
    "    head_str = ','.join(labels)\n",
    "\n",
    "    num_cats = len(labels)\n",
    "    \n",
    "    # Make a dummy row to append to\n",
    "    ids = np.arange(preds.shape[0])[np.newaxis].transpose()\n",
    "    \n",
    "    results = np.column_stack((ids, preds))\n",
    "\n",
    "    num_form = ['%6f'] * (num_cats - 1)\n",
    "    num_form.insert(0, '%d')\n",
    "    # Write results to csv\n",
    "    np.savetxt('sample.csv', results, fmt=num_form, delimiter=',', header=head_str, comments='')\n"
   ]
  },
  {
   "cell_type": "markdown",
   "metadata": {},
   "source": [
    "#K-Nearest Neighbors"
   ]
  },
  {
   "cell_type": "markdown",
   "metadata": {},
   "source": [
    "Our first model was a simple KNN model. We tried a variety of N's for neighbors and both normalized and regular data. We also looked at just including a subset of crimes for it to predict. In the end, we chose N=1, normalized data, and only attempted to predict the top 4 crimes. \n",
    "\n",
    "KNN makes classification predictions based on the nearest neighbors - the predicted category is set to 1 and all others to 0. This resulted in a low score (27) because the ranking algorythem expected us to submit the likelihood of each potential classification, instead of just an absolute guess.\n",
    "\n",
    "For the final KNN submission, we replaced the 0's with average probability of the crime as observed in the entire dataset. This simple change improved submission score from 27 to 2.92."
   ]
  },
  {
   "cell_type": "code",
   "execution_count": 70,
   "metadata": {
    "collapsed": false
   },
   "outputs": [],
   "source": [
    "# Only look at top 4 crimes\n",
    "stk_list = ['LARCENY/THEFT','OTHER OFFENSES','NON-CRIMINAL','ASSAULT']\n",
    "data = data_clean[data_clean.Category.isin(stk_list)]\n",
    "\n",
    "# Create random dev sample so we can see how that accuracy compares to our Kaggle results\n",
    "np.random.seed(100)\n",
    "\n",
    "rows = np.random.choice(data.index, size = len(data) / 10, replace = False)\n",
    "\n",
    "dev = data.ix[rows]\n",
    "train = data.drop(rows)\n",
    "\n",
    "# Convert to Numpy Format with only DateDiff, X and Y features\n",
    "train_data = np.array(train[['DateDiff','X','Y']].values)\n",
    "train_labels = np.array(train[['Category']].values.ravel())\n",
    "\n",
    "dev_data = np.array(dev[['DateDiff','X','Y']].values)\n",
    "dev_labels = np.array(dev[['Category']].values.ravel())\n",
    "\n",
    "full_data = np.array(data[['DateDiff','X','Y']].values)\n",
    "full_labels = np.array(data[['Category']].values.ravel())\n",
    "\n",
    "test_data = np.array(test_orig[['DateDiff','X','Y']].values)\n",
    "\n",
    "# Normalize Data to Between 0-1\n",
    "#a + (x-A)*(b-a)/(B-A) \n",
    "\n",
    "def normalize(data):\n",
    "    return 0 + (np.abs(data) - np.abs(data).min(axis=0))*(1-0)/(np.abs(data).max(axis=0) - np.abs(data).min(axis=0))\n",
    "\n",
    "train_normed = normalize(train_data)\n",
    "dev_normed = normalize(dev_data)\n",
    "test_normed = normalize(test_data)\n",
    "full_normed = normalize(full_data)"
   ]
  },
  {
   "cell_type": "code",
   "execution_count": 21,
   "metadata": {
    "collapsed": false
   },
   "outputs": [
    {
     "name": "stdout",
     "output_type": "stream",
     "text": [
      "The scores for each k value was [mean: 0.22013, std: 0.03731, params: {'n_neighbors': 1}, mean: 0.23360, std: 0.04609, params: {'n_neighbors': 2}, mean: 0.22577, std: 0.04040, params: {'n_neighbors': 3}, mean: 0.23504, std: 0.04684, params: {'n_neighbors': 4}, mean: 0.22913, std: 0.04194, params: {'n_neighbors': 5}, mean: 0.23679, std: 0.04770, params: {'n_neighbors': 6}, mean: 0.23198, std: 0.04362, params: {'n_neighbors': 7}, mean: 0.23708, std: 0.04755, params: {'n_neighbors': 8}, mean: 0.23393, std: 0.04445, params: {'n_neighbors': 9}, mean: 0.23831, std: 0.04801, params: {'n_neighbors': 10}] \n",
      "\n",
      "The best k value was {'n_neighbors': 10} with accuracy 0.2383\n"
     ]
    }
   ],
   "source": [
    "# Use GridSearchCV to find a good number of neighbors.\n",
    "\n",
    "ks = {'n_neighbors': [1,2,3,4,5,6,7,8,9,10]}\n",
    "KNNGridSearch = GridSearchCV(KNeighborsClassifier(), ks, scoring='accuracy')\n",
    "KNNGridSearch.fit(train_normed, train_labels)\n",
    "\n",
    "# Report out on the accuracies    \n",
    "print \"The scores for each k value was %s \" % (KNNGridSearch.grid_scores_)\n",
    "print \"\\nThe best k value was %s with accuracy %.4f\" % (KNNGridSearch.best_params_, KNNGridSearch.best_score_)\n",
    "best_n = KNNGridSearch.best_score_['n_neighbors']"
   ]
  },
  {
   "cell_type": "code",
   "execution_count": 73,
   "metadata": {
    "collapsed": false
   },
   "outputs": [
    {
     "name": "stdout",
     "output_type": "stream",
     "text": [
      "K-Nearest Neighbors\n",
      "\n",
      "model           neighbors accuracy  log-loss  \n",
      "---------------------------------------------\n",
      "baseline        5.0000    0.4179    7.4622    \n",
      "optimized n     10.0000   0.4310    3.6500    \n"
     ]
    }
   ],
   "source": [
    "result_form = \"{:<16s}{:<10.4f}{:<10.4f}{:<10.4f}\".format\n",
    "print \"K-Nearest Neighbors\\n\"\n",
    "print \"{:<16s}{:<10s}{:<10s}{:<10s}\".format(\"model\", \"neighbors\", \"accuracy\", \"log-loss\")\n",
    "print \"---------------------------------------------\"\n",
    "\n",
    "# Now that we've done this, let's run the KNN on the full train, apply to the test, then format.\n",
    "KNNmodel = KNeighborsClassifier()\n",
    "KNNmodel.fit(train_normed, train_labels)\n",
    "base_n = 5\n",
    "base_accuracy = KNNmodel.score(dev_normed, dev_labels)\n",
    "base_logloss = log_loss(dev_labels, KNNmodel.predict_proba(dev_normed))\n",
    "print result_form(\"baseline\", base_n, base_accuracy, base_logloss)\n",
    "\n",
    "# Use optimized N\n",
    "KNNmodel = KNeighborsClassifier(n_neighbors = best_n)\n",
    "KNNmodel.fit(train_normed, train_labels)\n",
    "accuracy = KNNmodel.score(dev_normed, dev_labels)\n",
    "logloss = log_loss(dev_labels, KNNmodel.predict_proba(dev_normed))\n",
    "print result_form(\"optimized n\", best_n, accuracy, logloss)\n",
    "test_predict = KNNmodel.predict_proba(test_normed).astype(int)"
   ]
  },
  {
   "cell_type": "markdown",
   "metadata": {},
   "source": [
    "We should note that entering the other 35 categories with their average probability was done by hand in Excel. We looked at doing it in python, but realized we wanted to pursue other models instead. The create_submission function needs all categories to be input, so in this case we did not use the create_submission function. "
   ]
  },
  {
   "cell_type": "markdown",
   "metadata": {},
   "source": [
    "#Logistic Regression"
   ]
  },
  {
   "cell_type": "markdown",
   "metadata": {},
   "source": [
    "The second model was logistic regression. A logistic regression method (and all others examined in this notebook) allows output of predicted probabilites, removing the need to use the simple occurance averages.\n",
    "\n",
    "We tried several values of C, which determines the regularization strength, before settling on C=0.001. This improved our score from 2.92 to 2.69.\n",
    "\n",
    "After submitting this model, we tried averaging the KNN and LR in various ways, but that did not improve the performance."
   ]
  },
  {
   "cell_type": "code",
   "execution_count": 75,
   "metadata": {
    "collapsed": false
   },
   "outputs": [
    {
     "name": "stdout",
     "output_type": "stream",
     "text": [
      "39\n",
      "39\n"
     ]
    }
   ],
   "source": [
    "# Let's go back to using all crimes\n",
    "data = data_clean.copy()\n",
    "\n",
    "np.random.seed()\n",
    "rows = np.random.choice(data.index, size = len(data) / 10, replace = False)\n",
    "\n",
    "dev = data.ix[rows]\n",
    "train = data.drop(rows)\n",
    "\n",
    "# Convert to Numpy Format with only DateDiff, X and Y features\n",
    "train_data = np.array(train[['DateDiff','X','Y']].values)\n",
    "train_labels = np.array(train[['Category']].values.ravel())\n",
    "\n",
    "dev_data = np.array(dev[['DateDiff','X','Y']].values)\n",
    "dev_labels = np.array(dev[['Category']].values.ravel())\n",
    "\n",
    "full_data = np.array(data[['DateDiff','X','Y']].values)\n",
    "full_labels = np.array(data[['Category']].values.ravel())\n",
    "\n",
    "test_data = np.array(test_orig[['DateDiff','X','Y']].values)\n",
    "\n",
    "# We need to re-normalize the data sets containing all crimes, not just the top 4 crimes\n",
    "train_normed = normalize(train_data)\n",
    "dev_normed = normalize(dev_data)\n",
    "test_normed = normalize(test_data)\n",
    "full_normed = normalize(full_data)\n",
    "\n",
    "print len(dev['Category'].unique())\n",
    "print len(train['Category'].unique())"
   ]
  },
  {
   "cell_type": "code",
   "execution_count": 77,
   "metadata": {
    "collapsed": false
   },
   "outputs": [
    {
     "name": "stdout",
     "output_type": "stream",
     "text": [
      "{'C': 0.001}\n"
     ]
    }
   ],
   "source": [
    "param_grid = {'C': [0.001, 0.01, 0.1, 1, 10, 100, 1000] }\n",
    "clf = GridSearchCV(LogisticRegression(penalty='l2'), param_grid)\n",
    "clf.fit(train_data, train_labels)\n",
    "print clf.best_params_\n",
    "best_c = clf.best_params_['C']"
   ]
  },
  {
   "cell_type": "code",
   "execution_count": 78,
   "metadata": {
    "collapsed": false
   },
   "outputs": [
    {
     "data": {
      "image/png": "[encoded data removed]",
      "text/plain": [
       "<matplotlib.figure.Figure at 0x2e9966a0>"
      ]
     },
     "metadata": {},
     "output_type": "display_data"
    },
    {
     "name": "stdout",
     "output_type": "stream",
     "text": [
      "Logistic Regression\n",
      "\n",
      "model           C         accuracy  log-loss  \n",
      "---------------------------------------------\n",
      "baseline        1.0000    0.2156    2.6448    \n",
      "optimized C     0.0010    0.2148    2.6977    \n"
     ]
    }
   ],
   "source": [
    "res = zip(*[(f1m, f1s.std(), p['C']) \n",
    "            for p, f1m, f1s in clf.grid_scores_])\n",
    "\n",
    "plt.figure(figsize=(10, 5))\n",
    "plt.subplot(1,2,1)\n",
    "plt.plot(np.log10(res[2]),res[0],'-o')\n",
    "plt.xlabel(\"Log(C)\")\n",
    "plt.ylabel(\"Accuracy\")\n",
    "plt.subplot(1,2,2)\n",
    "plt.plot(np.log10(res[2]),res[1],'-o')\n",
    "plt.xlabel(\"Log(C)\")\n",
    "plt.ylabel(\"StDev of Accuracy\")\n",
    "plt.show()\n",
    "\n",
    "result_form = \"{:<16s}{:<10.4f}{:<10.4f}{:<10.4f}\".format\n",
    "print \"Logistic Regression\\n\"\n",
    "print \"{:<16s}{:<10s}{:<10s}{:<10s}\".format(\"model\", \"C\", \"accuracy\", \"log-loss\")\n",
    "print \"---------------------------------------------\"\n",
    "\n",
    "# Logistic Regression: baseline\n",
    "model = LogisticRegression()\n",
    "model.fit(train_normed, train_labels)\n",
    "base_c = 1.0\n",
    "base_accuracy = model.score(dev_normed, dev_labels)\n",
    "base_logloss = log_loss(dev_labels, model.predict_proba(dev_normed)) \n",
    "print result_form(\"baseline\", base_c, base_accuracy, base_logloss)\n",
    "\n",
    "# Logistic Regression: optimized C\n",
    "model.set_params(C=best_c)\n",
    "model.fit(train_normed, train_labels)\n",
    "test_predict = model.predict_proba(test_normed)\n",
    "accuracy = model.score(dev_normed, dev_labels)\n",
    "logloss = log_loss(dev_labels, model.predict_proba(dev_normed)) \n",
    "print result_form(\"optimized C\", best_c, accuracy, logloss)\n",
    "\n",
    "#results = create_submission(test_predict)"
   ]
  },
  {
   "cell_type": "markdown",
   "metadata": {},
   "source": [
    "#Bernoulli Naive Bayes\n",
    "##Feature Generation"
   ]
  },
  {
   "cell_type": "markdown",
   "metadata": {},
   "source": [
    "BernoulliNB requires binary data, so we created dummy variables for each variable in the data set (all date and district variables). We also left all variables in the data set so that we could include and exclude features in our models easily."
   ]
  },
  {
   "cell_type": "code",
   "execution_count": 3,
   "metadata": {
    "collapsed": false
   },
   "outputs": [
    {
     "name": "stdout",
     "output_type": "stream",
     "text": [
      "['Dates' 'Category' 'Descript' 'DayOfWeek' 'PdDistrict' 'Resolution'\n",
      " 'Address' 'X' 'Y' 'DateTime' 'Year' 'Month' 'Day' 'Hour' 'SecondsDelta'\n",
      " 'Weekend' 2003L 2004L 2005L 2006L 2007L 2008L 2009L 2010L 2011L 2012L\n",
      " 2013L 2014L 2015L 'Jan' 'Feb' 'Mar' 'Apr' 'May' 'Jun' 'Jul' 'Aug' 'Sep'\n",
      " 'Oct' 'Nov' 'Dec' 1L 2L 3L 4L 5L 6L 7L 8L 9L 10L 11L 12L 13L 14L 15L 16L\n",
      " 17L 18L 19L 20L 21L 22L 23L 24L 25L 26L 27L 28L 29L 30L 31L 'Friday'\n",
      " 'Monday' 'Saturday' 'Sunday' 'Thursday' 'Tuesday' 'Wednesday' '12AM' '1AM'\n",
      " '2AM' '3AM' '4AM' '5AM' '6AM' '7AM' '8AM' '9AM' '10AM' '11AM' '12PM' '1PM'\n",
      " '2PM' '3PM' '4PM' '5PM' '6PM' '7PM' '8PM' '9PM' '10PM' '11PM' 'BAYVIEW'\n",
      " 'CENTRAL' 'INGLESIDE' 'MISSION' 'NORTHERN' 'PARK' 'RICHMOND' 'SOUTHERN'\n",
      " 'TARAVAL' 'TENDERLOIN']\n"
     ]
    }
   ],
   "source": [
    "# Extract new features in Pandas\n",
    "def time_features(data):\n",
    "    data['DateTime'] = pd.to_datetime(data['Dates'])\n",
    "    data['Year'] = pd.DatetimeIndex(data['DateTime']).year\n",
    "    data['Month'] = pd.DatetimeIndex(data['DateTime']).month\n",
    "    data['Day'] = pd.DatetimeIndex(data['DateTime']).day\n",
    "    data['Hour'] = pd.DatetimeIndex(data['DateTime']).hour\n",
    "    data['SecondsDelta'] = (data.DateTime - pd.Timestamp('2013-01-01')) / np.timedelta64(1,'s')\n",
    "    data['Weekend'] = (data.DayOfWeek == \"Saturday\") | (data.DayOfWeek == \"Sunday\")\n",
    "    years = pd.get_dummies(data.Year)\n",
    "    months = pd.get_dummies(data.Month)\n",
    "    months.columns = ['Jan', 'Feb', 'Mar', 'Apr', 'May', 'Jun', 'Jul', 'Aug', 'Sep', 'Oct', 'Nov', 'Dec']\n",
    "    days = pd.get_dummies(data.Day)\n",
    "    daysofweek = pd.get_dummies(data.DayOfWeek)\n",
    "    hours = pd.get_dummies(data.Hour)\n",
    "    hours.columns = ['12AM', '1AM', '2AM', '3AM', '4AM', '5AM',\n",
    "                     '6AM', '7AM', '8AM', '9AM', '10AM', '11AM',\n",
    "                     '12PM', '1PM', '2PM', '3PM', '4PM', '5PM',\n",
    "                     '6PM', '7PM', '8PM', '9PM', '10PM', '11PM']\n",
    "    districts = pd.get_dummies(data.PdDistrict)\n",
    "    new_data = pd.concat([data, years, months, days, daysofweek, hours, districts], axis=1)\n",
    "    return new_data\n",
    "\n",
    "data = time_features(data_orig)\n",
    "test = time_features(test_orig)\n",
    "\n",
    "# Separate labels\n",
    "labels = data.Category\n",
    "\n",
    "# Drop Category, Descript and Resolution columns since we cannot use them to predict\n",
    "train_data = data.drop(['Category', 'Descript', 'Resolution'], axis=1)\n",
    "train_names = train_data.columns.values.tolist()\n",
    "test_names = test.columns.values.tolist()\n",
    "\n",
    "print data.columns.values"
   ]
  },
  {
   "cell_type": "code",
   "execution_count": 59,
   "metadata": {
    "collapsed": false
   },
   "outputs": [
    {
     "name": "stdout",
     "output_type": "stream",
     "text": [
      "Mini Train Data: (5000, 110)\n",
      "Mini Train Labels: (5000L,)\n",
      "Mini Train Unique Labels: 36\n",
      "\n",
      "Regular Train Data: (433991, 110)\n",
      "Regular Train Labels: (433991L,)\n",
      "Regular Train Unique Labels: 39\n",
      "\n",
      "Dev Data: (438991, 110)\n",
      "Dev Labels: (438991L,)\n",
      "Dev Train Unique Labels: 39\n",
      "\n",
      "Test Data: (884262, 111)\n",
      "\n",
      "Columns in use: ['Dates', 'DayOfWeek', 'PdDistrict', 'Address', 'X', 'Y', 'DateTime', 'Year', 'Month', 'Day', 'Hour', 'SecondsDelta', 'Weekend', 2003L, 2004L, 2005L, 2006L, 2007L, 2008L, 2009L, 2010L, 2011L, 2012L, 2013L, 2014L, 2015L, 'Jan', 'Feb', 'Mar', 'Apr', 'May', 'Jun', 'Jul', 'Aug', 'Sep', 'Oct', 'Nov', 'Dec', 1L, 2L, 3L, 4L, 5L, 6L, 7L, 8L, 9L, 10L, 11L, 12L, 13L, 14L, 15L, 16L, 17L, 18L, 19L, 20L, 21L, 22L, 23L, 24L, 25L, 26L, 27L, 28L, 29L, 30L, 31L, 'Friday', 'Monday', 'Saturday', 'Sunday', 'Thursday', 'Tuesday', 'Wednesday', '12AM', '1AM', '2AM', '3AM', '4AM', '5AM', '6AM', '7AM', '8AM', '9AM', '10AM', '11AM', '12PM', '1PM', '2PM', '3PM', '4PM', '5PM', '6PM', '7PM', '8PM', '9PM', '10PM', '11PM', 'BAYVIEW', 'CENTRAL', 'INGLESIDE', 'MISSION', 'NORTHERN', 'PARK', 'RICHMOND', 'SOUTHERN', 'TARAVAL', 'TENDERLOIN']\n"
     ]
    }
   ],
   "source": [
    "# Shuffle the input: create a random permutation of the integers between 0 and the number of data points and apply this\n",
    "# permutation to features.\n",
    "# NOTE: Each time you run this cell, you'll re-shuffle the data, resulting in a different ordering.\n",
    "\n",
    "shuffle = np.random.permutation(np.arange(train_data.shape[0]))\n",
    "train_data = train_data.reindex(shuffle)\n",
    "labels = labels.reindex(shuffle)\n",
    "\n",
    "# Remove records where Y == 90\n",
    "train_data_clean = train_data[train_data.Y != 90]\n",
    "labels_clean = labels[train_data.Y != 90]\n",
    "num_examples = train_data_clean.shape[0]\n",
    "\n",
    "# Split the feature and label sets into train and dev sets\n",
    "mini_train_data = train_data_clean[:5000]\n",
    "mini_train_labels = labels_clean[:5000]\n",
    "\n",
    "reg_train_data = train_data_clean[5000:num_examples/2]\n",
    "reg_train_labels = labels_clean[5000:num_examples/2]\n",
    "\n",
    "dev_data = train_data_clean[num_examples/2:]\n",
    "dev_labels = labels_clean[num_examples/2:]\n",
    "\n",
    "test_data = test.copy()\n",
    "\n",
    "print \"Mini Train Data:\", mini_train_data.shape\n",
    "print \"Mini Train Labels:\", mini_train_labels.shape\n",
    "print \"Mini Train Unique Labels:\", len(mini_train_labels.unique())\n",
    "print \"\\nRegular Train Data:\", reg_train_data.shape\n",
    "print \"Regular Train Labels:\", reg_train_labels.shape\n",
    "print \"Regular Train Unique Labels:\", len(reg_train_labels.unique())\n",
    "print \"\\nDev Data:\", dev_data.shape\n",
    "print \"Dev Labels:\", dev_labels.shape\n",
    "print \"Dev Train Unique Labels:\", len(dev_labels.unique())\n",
    "print \"\\nTest Data:\", test_data.shape\n",
    "print \"\\nColumns in use:\", train_names"
   ]
  },
  {
   "cell_type": "markdown",
   "metadata": {},
   "source": [
    "Note: Some of the category labels have very few examples. When randomizing we need to make sure that dev and regular train data both contain 39 unique category labels."
   ]
  },
  {
   "cell_type": "code",
   "execution_count": 9,
   "metadata": {
    "collapsed": false
   },
   "outputs": [
    {
     "name": "stdout",
     "output_type": "stream",
     "text": [
      "Number of features: 99\n"
     ]
    }
   ],
   "source": [
    "features_to_use = [2003L, 2004L, 2005L, 2006L, 2007L, 2008L, 2009L, 2010L, 2011L, 2012L, 2013L, 2014L, 2015L, \n",
    "                   'Jan', 'Feb', 'Mar', 'Apr', 'May', 'Jun', 'Jul', 'Aug', 'Sep', 'Oct', 'Nov', 'Dec', \n",
    "                   1L, 2L, 3L, 4L, 5L, 6L, 7L, 8L, 9L, 10L, 11L, 12L, 13L, 14L, 15L, \n",
    "                   16L, 17L, 18L, 19L, 20L, 21L, 22L, 23L, 24L, 25L, 26L, 27L, 28L, 29L, 30L, 31L, \n",
    "                   'Friday', 'Monday', 'Saturday', 'Sunday', 'Thursday', 'Tuesday', 'Wednesday', \n",
    "                   '12AM', '1AM', '2AM', '3AM', '4AM', '5AM', '6AM', '7AM', '8AM', '9AM', '10AM', '11AM', \n",
    "                   '12PM', '1PM', '2PM', '3PM', '4PM', '5PM', '6PM', '7PM', '8PM', '9PM', '10PM', '11PM', \n",
    "                   'BAYVIEW', 'CENTRAL', 'INGLESIDE', 'MISSION', 'NORTHERN', 'PARK', 'RICHMOND', \n",
    "                   'SOUTHERN', 'TARAVAL', 'TENDERLOIN', 'X', 'Y'\n",
    "                   ]\n",
    "\n",
    "print \"Number of features:\", len(features_to_use)"
   ]
  },
  {
   "cell_type": "markdown",
   "metadata": {},
   "source": [
    "##Bernoulli NB Model Creation"
   ]
  },
  {
   "cell_type": "markdown",
   "metadata": {},
   "source": [
    "The third model used Bernoulli Naive Bayes, which scored about the same as logistic regression.\n",
    "\n",
    "We tried using several variations of the Bernoulli NB model. After optimizing alpha, we tried bagging to determine if we could get a more robust model. We also tried using PCA to reduce dimensions and using those new features in the Bernoulli NB model. However, neither of these made any improvements to the original Bernoulli NB model!"
   ]
  },
  {
   "cell_type": "code",
   "execution_count": 21,
   "metadata": {
    "collapsed": false
   },
   "outputs": [
    {
     "name": "stdout",
     "output_type": "stream",
     "text": [
      "Best parameter:\n",
      "{'alpha': 1.0}\n",
      "\n",
      "Best score:\n",
      "2.56622149659\n"
     ]
    },
    {
     "data": {
      "image/png": "[encoded data removed]",
      "text/plain": [
       "<matplotlib.figure.Figure at 0x1fd97f28>"
      ]
     },
     "metadata": {},
     "output_type": "display_data"
    }
   ],
   "source": [
    "# Let's see what the optimal alpha is for a Bernoulli NB model\n",
    "\n",
    "params = {'alpha': [0.0001, 0.001, 0.01, 0.1, 1.0, 10.0, 100.0, 500.0, 1000.0]}\n",
    "\n",
    "clf = GridSearchCV(BernoulliNB(), [params], scoring='log_loss')\n",
    "clf.fit(reg_train_data[features_to_use], reg_train_labels)\n",
    "\n",
    "print \"Best parameter:\\n\", clf.best_params_\n",
    "print \"\\nBest score:\\n\", -1 * clf.best_score_\n",
    "\n",
    "best_alpha = clf.best_params_['alpha']\n",
    "\n",
    "scores = [clf.grid_scores_[i][1] * -1 for i in range(len(clf.grid_scores_))]\n",
    "\n",
    "plt.plot(np.log10(params['alpha']), scores, marker='o')\n",
    "plt.xlabel(\"Log(Alpha)\")\n",
    "plt.ylabel(\"Log-Loss\")\n",
    "plt.show()"
   ]
  },
  {
   "cell_type": "markdown",
   "metadata": {},
   "source": [
    "When we throw in 99 features (basically every feature we created), the log-loss is optimized when alpha = 1. However, the practical difference in log-loss up to alpha = 1 is very small. With alpha > 10, log-loss increases sharply."
   ]
  },
  {
   "cell_type": "code",
   "execution_count": 41,
   "metadata": {
    "collapsed": false
   },
   "outputs": [
    {
     "name": "stdout",
     "output_type": "stream",
     "text": [
      "Bernoulli NB\n",
      "\n",
      "model           alpha     accuracy  log-loss  \n",
      "---------------------------------------------\n",
      "baseline        1.0000    0.2277    2.5656    \n",
      "optimized alpha 1.0000    0.2277    2.5656    \n",
      "bagged          1.0000    0.2258    2.5674    \n",
      "pca (70 comp)   1.0000    0.1920    2.7547    \n"
     ]
    }
   ],
   "source": [
    "print \"Bernoulli NB\\n\"\n",
    "print \"{:<16s}{:<10s}{:<10s}{:<10s}\".format(\"model\", \"alpha\", \"accuracy\", \"log-loss\")\n",
    "print \"---------------------------------------------\"\n",
    "\n",
    "# Baseline Bernoulli NB model\n",
    "bnb = BernoulliNB()\n",
    "bnb.fit(reg_train_data[features_to_use], reg_train_labels)\n",
    "base_alpha = 1.0\n",
    "base_accuracy = bnb.score(dev_data[features_to_use], dev_labels)\n",
    "base_logloss = log_loss(dev_labels, bnb.predict_proba(dev_data[features_to_use])) \n",
    "print result_form(\"baseline\", base_alpha, base_accuracy, base_logloss)\n",
    "\n",
    "# How well does the Bernoulli NB model do with the selected alpha?\n",
    "bnb.set_params(alpha=best_alpha)\n",
    "bnb.fit(reg_train_data[features_to_use], reg_train_labels)\n",
    "bnb_probs = bnb.predict_proba(test_data[features_to_use])\n",
    "accuracy = bnb.score(dev_data[features_to_use], dev_labels)\n",
    "logloss = log_loss(dev_labels, bnb.predict_proba(dev_data[features_to_use]))\n",
    "print result_form(\"optimized alpha\", best_alpha, accuracy, logloss)\n",
    "\n",
    "# Maybe bagging the Bernoulli NB model does us some good\n",
    "bnb_bag = BaggingClassifier(BernoulliNB(alpha=best_alpha), max_features=0.8, max_samples = 0.8)\n",
    "bnb_bag.fit(reg_train_data[features_to_use], reg_train_labels)\n",
    "bnb_bag_probs = bnb_bag.predict_proba(test_data[features_to_use])\n",
    "accuracy = bnb_bag.score(dev_data[features_to_use], dev_labels)\n",
    "logloss = log_loss(dev_labels, bnb_bag.predict_proba(dev_data[features_to_use])) \n",
    "print result_form(\"bagged\", best_alpha, accuracy, logloss)\n",
    "\n",
    "# Perhaps doing some dimensionality reduction will help us\n",
    "pca = PCA(n_components = 70)\n",
    "pca_train_data = pca.fit_transform(reg_train_data[features_to_use])\n",
    "pca_dev_data = pca.transform(dev_data[features_to_use])\n",
    "pca_test_data = pca.transform(test_data[features_to_use])\n",
    "\n",
    "bnb2 = BernoulliNB(best_alpha)\n",
    "bnb2.fit(pca_train_data, reg_train_labels)\n",
    "bnb2_probs = bnb2.predict_proba(pca_test_data)\n",
    "accuracy = bnb2.score(pca_dev_data, dev_labels)\n",
    "logloss = log_loss(dev_labels, bnb2.predict_proba(pca_dev_data)) \n",
    "print result_form(\"pca (70 comp)\", best_alpha, accuracy, logloss)"
   ]
  },
  {
   "cell_type": "markdown",
   "metadata": {},
   "source": [
    "#Gradient Boosting"
   ]
  },
  {
   "cell_type": "markdown",
   "metadata": {},
   "source": [
    "We then tried gradient boosting, which improved our score to 2.49. Given the computational intensity of gradient boosting (initial model took 6 hours to run), we were unable to do further parameter optimization."
   ]
  },
  {
   "cell_type": "code",
   "execution_count": 60,
   "metadata": {
    "collapsed": false
   },
   "outputs": [
    {
     "name": "stdout",
     "output_type": "stream",
     "text": [
      "Gradient Boosting\n",
      "\n",
      "model           param     accuracy  log-loss  \n",
      "---------------------------------------------\n",
      "baseline                  0.2547    2.5018    \n"
     ]
    }
   ],
   "source": [
    "print \"Gradient Boosting\\n\"\n",
    "print \"{:<16s}{:<10s}{:<10s}{:<10s}\".format(\"model\", \"param\", \"accuracy\", \"log-loss\")\n",
    "print \"---------------------------------------------\"\n",
    "\n",
    "# Try Gradient Boosting\n",
    "grad_boost = GradientBoostingClassifier()\n",
    "grad_boost.fit(reg_train_data[features_to_use], reg_train_labels)\n",
    "accuracy = grad_boost.score(dev_data[features_to_use], dev_labels)\n",
    "logloss = log_loss(dev_labels, grad_boost.predict_proba(dev_data[features_to_use])) \n",
    "print \"{:<16s}{:<10s}{:<10.4f}{:<10.4f}\".format(\"baseline\", \"\", accuracy, logloss)"
   ]
  },
  {
   "cell_type": "markdown",
   "metadata": {
    "collapsed": true
   },
   "source": [
    "#Neural Networks"
   ]
  },
  {
   "cell_type": "markdown",
   "metadata": {},
   "source": [
    "Finally, we used a neural net, which got our best score of 2.43. This was enough to enter the top 50 in the SF Learns competition (as of August 17th).\n",
    "\n",
    "We ran the Neural Network using a combination of NoLearn, Lasange, and Theano. NoLearn and Lasange are both under development, so to replicate this code please follow the installation instructions on NoLearn, below. NoLearn is built on top of Lasange and Theano, and thus its requirements are the ones to follow\n",
    "https://github.com/dnouri/nolearn\n",
    "\n",
    "\n"
   ]
  },
  {
   "cell_type": "markdown",
   "metadata": {},
   "source": [
    "We tried two differnet types of Neural Networks - a 1-hidden layer network, then a 2-hidden layer network with a dropout layer between. The 2-hidden layer network resulted in only minor improvements. While the NoLearn/Lasange/Theano pipeline allows Neural Nets to be trained on certain types of GPU, we were not using such a machine for our development. As such, each model run took roughly an hour and limited the amount of runs possible."
   ]
  },
  {
   "cell_type": "markdown",
   "metadata": {},
   "source": [
    "## Neural Net Feature Generation"
   ]
  },
  {
   "cell_type": "markdown",
   "metadata": {},
   "source": [
    "We tried many different features in the Neural Net model. Interestingly enough, the \"year\" and \"month\" dummy variables caused the model to diverge, leading to poor prediction. These were dropped from the final model in place of a few simple booleans flagging if a crime occured before 2008, before 2010, and before 2012.\n",
    "\n",
    "We also parsed the X-Y coorinates into a series of dummy variables by rounding each coordinate to the 3rd decimal place. An attempt was made to round to the 4th decimal place and generate more features, however the computers available to us were unable to do this task. If work continues, this could be attempted via the cloud such as on AWS.\n",
    "\n",
    "Note that NoLearn automatically splits the data into training and development sets (default of 80/20 split) each iteration, so we did not need to clean a development set for this run."
   ]
  },
  {
   "cell_type": "code",
   "execution_count": 8,
   "metadata": {
    "collapsed": false
   },
   "outputs": [],
   "source": [
    "# Extract new features here because it's easier in Pandas than NumPy\n",
    "data_orig = pd.read_csv(\"train.csv\")\n",
    "test_orig = pd.read_csv(\"test.csv\")\n",
    "\n",
    "def build_features(data):\n",
    "    data['DateTime'] = pd.to_datetime(data['Dates'])\n",
    "    date_vector = data['DateTime'].dt.date\n",
    "    data['DateDiff'] = (date_vector - date_vector.min()) / np.timedelta64(1, 'D')\n",
    "    data['Year'] = pd.DatetimeIndex(data['DateTime']).year\n",
    "    data['Month'] = pd.DatetimeIndex(data['DateTime']).month\n",
    "    data['Day'] = pd.DatetimeIndex(data['DateTime']).day\n",
    "    data['Hour'] = pd.DatetimeIndex(data['DateTime']).hour\n",
    "    data['SecondsDelta'] = (data.DateTime - pd.Timestamp('2013-01-01')) / np.timedelta64(1,'s')\n",
    "    data['Weekend'] = (data.DayOfWeek == \"Saturday\") | (data.DayOfWeek == \"Sunday\")\n",
    "    years = pd.get_dummies(data.Year)\n",
    "    years.columns = ['2003', '2004', '2005', '2006', '2007', '2008', '2009', '2010', '2011', '2012', '2013', '2014', '2015']\n",
    "    months = pd.get_dummies(data.Month)\n",
    "    months.columns = ['Jan', 'Feb', 'Mar', 'Apr', 'May', 'Jun', 'Jul', 'Aug', 'Sep', 'Oct', 'Nov', 'Dec']\n",
    "    days = pd.get_dummies(data.Day)\n",
    "    days.columns = ['1', '2', '3', '4', '5', '6', '7', '8', '9', '10', '11', '12', '13', '14', '15', '16', '17', '18', '19', '20', '21', '22', '23', '24', '25', '26', '27', '28', '29', '30', '31']\n",
    "    daysofweek = pd.get_dummies(data.DayOfWeek)\n",
    "    hours = pd.get_dummies(data.Hour)\n",
    "    hours.columns = ['12AM', '1AM', '2AM', '3AM', '4AM', '5AM',\n",
    "                     '6AM', '7AM', '8AM', '9AM', '10AM', '11AM',\n",
    "                     '12PM', '1PM', '2PM', '3PM', '4PM', '5PM',\n",
    "                     '6PM', '7PM', '8PM', '9PM', '10PM', '11PM']\n",
    "    districts = pd.get_dummies(data.PdDistrict)\n",
    "    new_data = pd.concat([data, years, months, days, daysofweek, hours, districts], axis=1)\n",
    "    return new_data\n",
    "\n",
    "\n",
    "data = build_features(data_orig)\n",
    "test = build_features(test_orig)\n"
   ]
  },
  {
   "cell_type": "code",
   "execution_count": 9,
   "metadata": {
    "collapsed": false
   },
   "outputs": [
    {
     "name": "stdout",
     "output_type": "stream",
     "text": [
      "(878049, 147)\n",
      "(878049, 107)\n",
      "\n",
      "(884262, 147)\n",
      "(884262, 107)\n"
     ]
    }
   ],
   "source": [
    "# Generate location-based dummies\n",
    "XR3 = data['X'].round(decimals=3).apply(str)\n",
    "YR3 = data['Y'].round(decimals=3).apply(str)\n",
    "data_XR3s = pd.get_dummies(XR3)\n",
    "data_YR3s = pd.get_dummies(YR3)    \n",
    "XR3 = test['X'].round(decimals=3).apply(str)\n",
    "YR3 = test['Y'].round(decimals=3).apply(str)\n",
    "test_XR3s = pd.get_dummies(XR3)\n",
    "test_YR3s = pd.get_dummies(YR3)    \n",
    "\n",
    "#Subset the test to only include features that exist in training set\n",
    "test_XR3s = test_XR3s[list(data_XR3s)]\n",
    "test_YR3s = test_YR3s[list(data_YR3s)]\n",
    "\n",
    "print data_XR3s.shape\n",
    "print data_YR3s.shape\n",
    "print\n",
    "print test_XR3s.shape\n",
    "print test_YR3s.shape\n",
    "\n"
   ]
  },
  {
   "cell_type": "code",
   "execution_count": 10,
   "metadata": {
    "collapsed": true
   },
   "outputs": [],
   "source": [
    "# Separate labels\n",
    "train_labels = data.Category\n",
    "\n",
    "# Create integer labels\n",
    "panda_labels = pd.Categorical(data.Category).codes\n",
    "train_labels_int = np.array(panda_labels).astype(np.int32)\n",
    "\n",
    "# Drop Category, Descript and Resolution columns since they are not in the test set.\n",
    "# Drop non-numerics too - they are accounted for as dummy variables.\n",
    "train_data = data.drop(['Category', 'Descript', 'Resolution', 'DateTime', 'Dates', 'PdDistrict', 'Address', 'DayOfWeek'], axis=1)\n",
    "train_data.Weekend = train_data.Weekend * 1\n",
    "train_names = train_data.columns.values.tolist()\n",
    "\n",
    "test_data = test.drop(['DateTime', 'Dates', 'PdDistrict', 'Address', 'DayOfWeek'], axis=1)\n",
    "test_data.Weekend = test_data.Weekend * 1\n",
    "test_names = test_data.columns.values.tolist()\n"
   ]
  },
  {
   "cell_type": "markdown",
   "metadata": {},
   "source": [
    "We attempted many different combinations of features. Some worked better than others, and a few unexpectedly diverged. The features below were used in our final set"
   ]
  },
  {
   "cell_type": "code",
   "execution_count": 11,
   "metadata": {
    "collapsed": true
   },
   "outputs": [],
   "source": [
    "features = ['Jan','Friday', 'Monday', 'Saturday', 'Sunday', 'Thursday', 'Tuesday', 'Wednesday', '12AM', '1AM', '2AM', '3AM', '4AM', '5AM', '6AM', '7AM', '8AM', '9AM', '10AM', '11AM', '12PM', '1PM', '2PM', '3PM', '4PM', '5PM', '6PM', '7PM', '8PM', '9PM', '10PM', '11PM', 'BAYVIEW', 'CENTRAL', 'INGLESIDE', 'MISSION', 'NORTHERN', 'PARK', 'RICHMOND', 'SOUTHERN', 'TARAVAL', 'TENDERLOIN']\n",
    "np_train_data = np.array(pd.concat([train_data[features], (data.Year < 2006) * 1, (data.Year < 2008) * 1, (data.Year < 2010) * 1, data_XR3s, data_YR3s], axis=1))\n",
    "np_test_data = np.array(pd.concat([test_data[features], (test.Year < 2006) * 1, (test.Year < 2008) * 1, (test.Year < 2010) * 1, test_XR3s[list(data_XR3s)], test_YR3s[list(data_YR3s)]], axis=1))\n"
   ]
  },
  {
   "cell_type": "markdown",
   "metadata": {},
   "source": [
    "## Neural Net with 1 Hidden Layer"
   ]
  },
  {
   "cell_type": "markdown",
   "metadata": {},
   "source": [
    "NoLearn/Lasagne makes it easy to define a net in terms of layers. We tried a number of hidden units and learning rates before settling on these parameters. We stopped after 65 iterations (epochs) through network updating because we observed overfitting around this point (that is, our accuracy on the training dataset continued to improve but accuracy on the development dataset began to fall)."
   ]
  },
  {
   "cell_type": "code",
   "execution_count": null,
   "metadata": {
    "collapsed": true
   },
   "outputs": [],
   "source": [
    "# The accuracy was: 0.293386815542\n",
    "# Stopped early @ 65 to prevent overfitting\n",
    "num_features = np_train_data.shape[1]\n",
    "\n",
    "net1 = NeuralNet(\n",
    "    layers=[  # three layers: one hidden layer\n",
    "        ('input', layers.InputLayer),\n",
    "        ('hidden', layers.DenseLayer),\n",
    "        ('output', layers.DenseLayer),\n",
    "        ],\n",
    "    # layer parameters:\n",
    "    input_shape=(None, num_features),  # automatically calculate the number of featrues\n",
    "    hidden_num_units=500,  # number of units in hidden layer\n",
    "    output_nonlinearity=nonlinearities.softmax,\n",
    "    output_num_units=39,  # 39 target values\n",
    "\n",
    "    # optimization method:\n",
    "    update=nesterov_momentum,\n",
    "    update_learning_rate=0.002,\n",
    "    update_momentum=0.9,\n",
    "\n",
    "    regression=False,  # flag to indicate we're not dealing with regression problem\n",
    "    max_epochs=65,  # we want to train this many epochs\n",
    "    verbose=1,\n",
    "    )\n",
    "\n",
    "print np_train_data.shape\n",
    "print train_labels.shape\n",
    "net1.fit(np_train_data, train_labels_int)"
   ]
  },
  {
   "cell_type": "code",
   "execution_count": null,
   "metadata": {
    "collapsed": true
   },
   "outputs": [],
   "source": [
    "train_loss = np.array([i[\"train_loss\"] for i in net1.train_history_])\n",
    "valid_loss = np.array([i[\"valid_loss\"] for i in net1.train_history_])\n",
    "plt.plot(train_loss, linewidth=3, label=\"train\")\n",
    "plt.plot(valid_loss, linewidth=3, label=\"valid\")\n",
    "plt.grid()\n",
    "plt.legend()\n",
    "plt.xlabel(\"epoch\")\n",
    "plt.ylabel(\"loss\")\n",
    "plt.ylim(1e-0, 1e1)\n",
    "plt.yscale(\"log\")\n",
    "plt.show()\n"
   ]
  },
  {
   "cell_type": "code",
   "execution_count": null,
   "metadata": {
    "collapsed": true
   },
   "outputs": [],
   "source": [
    "# View accuracy for each classification type. Note that this accuracy is measured on all training data, and thus\n",
    "# is higher than what we would expect on test data. This metric still was useful when comparing feature sets and model\n",
    "# hyperparamaters.\n",
    "\n",
    "train_pred = net1.predict(np_train_data)\n",
    "print(classification_report(train_labels_int, train_pred))\n",
    "print 'The accuracy is:', accuracy_score(train_labels_int, train_pred)\n",
    "\n",
    "# Get probabilities for submission to Kaggle\n",
    "test_proba = net1.predict_proba(np_test_data)\n"
   ]
  },
  {
   "cell_type": "markdown",
   "metadata": {},
   "source": [
    "##Neural Net with 2 Hidden Layers + 1 Dropout Layer"
   ]
  },
  {
   "cell_type": "markdown",
   "metadata": {},
   "source": [
    "We next tried adding an additional hidden layer, including a \"dropout layer\" to help prevent overfitting. The dropout layer randomly severs a certain percentage of the connections between the nodes.\n",
    "\n",
    "We iterated through many possible values and settled on the ones below. However, further iteration with a faster processing speed (via a GPU) would likely lead to improvements."
   ]
  },
  {
   "cell_type": "code",
   "execution_count": null,
   "metadata": {
    "collapsed": true
   },
   "outputs": [],
   "source": [
    "num_features = np_train_data.shape[1]\n",
    "\n",
    "net2 = NeuralNet(\n",
    "    layers=[  # more layers\n",
    "        ('input', layers.InputLayer),\n",
    "        ('dense0', layers.DenseLayer),\n",
    "        ('dropout', layers.DropoutLayer),\n",
    "        ('dense1', layers.DenseLayer),\n",
    "        ('output', layers.DenseLayer)\n",
    "    ],\n",
    "    # layer parameters:\n",
    "    input_shape=(None, num_features),  # 3 input pixels per batch\n",
    "    dense0_num_units=500,  # number of units in hidden layer\n",
    "    dropout_p=0.5,  # randomly disconect a number of notes to help preven overfitting\n",
    "    dense1_num_units=500,  # number of units in hidden layer\n",
    "    output_num_units=39,  # 39 target values\n",
    "    output_nonlinearity=nonlinearities.softmax,\n",
    "\n",
    "    # optimization method:\n",
    "    update=nesterov_momentum,\n",
    "    update_learning_rate=0.02,\n",
    "    update_momentum=0.9,\n",
    "\n",
    "    regression=False,  # flag to indicate we're not dealing with regression problem\n",
    "    max_epochs=40,  # we want to train this many epochs\n",
    "    verbose=1,\n",
    "    )\n",
    "\n",
    "net2.fit(np_train_data, train_labels_int)\n"
   ]
  },
  {
   "cell_type": "code",
   "execution_count": null,
   "metadata": {
    "collapsed": true
   },
   "outputs": [],
   "source": [
    "train_loss = np.array([i[\"train_loss\"] for i in net2.train_history_])\n",
    "valid_loss = np.array([i[\"valid_loss\"] for i in net2.train_history_])\n",
    "plt.plot(train_loss, linewidth=3, label=\"train\")\n",
    "plt.plot(valid_loss, linewidth=3, label=\"valid\")\n",
    "plt.grid()\n",
    "plt.legend()\n",
    "plt.xlabel(\"epoch\")\n",
    "plt.ylabel(\"loss\")\n",
    "plt.ylim(1e-0, 1e1)\n",
    "plt.yscale(\"log\")\n",
    "plt.show()\n"
   ]
  },
  {
   "cell_type": "code",
   "execution_count": null,
   "metadata": {
    "collapsed": true
   },
   "outputs": [],
   "source": [
    "train_pred = net1.predict(np_train_data)\n",
    "print(classification_report(train_labels_int, train_pred))\n",
    "print 'The accuracy is:', accuracy_score(train_labels_int, train_pred)\n",
    "\n",
    "# Get probabilities for submission to Kaggle\n",
    "test_proba = net1.predict_proba(np_test_data)\n"
   ]
  },
  {
   "cell_type": "markdown",
   "metadata": {},
   "source": [
    "#Appendix - Decision Tree and Random Forest"
   ]
  },
  {
   "cell_type": "markdown",
   "metadata": {},
   "source": [
    "We also attempted a decision tree and random forest for fun."
   ]
  },
  {
   "cell_type": "code",
   "execution_count": 58,
   "metadata": {
    "collapsed": false
   },
   "outputs": [
    {
     "name": "stdout",
     "output_type": "stream",
     "text": [
      "model           accuracy  log-loss  \n",
      "-----------------------------------\n",
      "decision tree   0.2253    26.2909   \n",
      "random forest   0.2454    14.4204   \n"
     ]
    }
   ],
   "source": [
    "result_form = \"{:<16s}{:<10.4f}{:<10.4f}\".format\n",
    "\n",
    "print \"{:<16s}{:<10s}{:<10s}\".format(\"model\", \"accuracy\", \"log-loss\")\n",
    "print \"-----------------------------------\"\n",
    "\n",
    "# Let's try a decision tree\n",
    "\n",
    "dt = DecisionTreeClassifier()\n",
    "dt.fit(reg_train_data[features_to_use], reg_train_labels)\n",
    "dt_probs = dt.predict_proba(test_data[features_to_use])\n",
    "accuracy = dt.score(dev_data[features_to_use], dev_labels)\n",
    "logloss = log_loss(dev_labels, dt.predict_proba(dev_data[features_to_use])) \n",
    "print result_form(\"decision tree\", accuracy, logloss)\n",
    "\n",
    "# Let's try a random forest\n",
    "\n",
    "rf = RandomForestClassifier()\n",
    "rf.fit(reg_train_data[features_to_use], reg_train_labels)\n",
    "rf_probs = rf.predict_proba(test_data[features_to_use])\n",
    "accuracy = rf.score(dev_data[features_to_use], dev_labels)\n",
    "logloss = log_loss(dev_labels, rf.predict_proba(dev_data[features_to_use])) \n",
    "print result_form(\"random forest\", accuracy, logloss)"
   ]
  },
  {
   "cell_type": "code",
   "execution_count": null,
   "metadata": {
    "collapsed": true
   },
   "outputs": [],
   "source": []
  }
 ],
 "metadata": {
  "kernelspec": {
   "display_name": "Python 2",
   "language": "python",
   "name": "python2"
  },
  "language_info": {
   "codemirror_mode": {
    "name": "ipython",
    "version": 2
   },
   "file_extension": ".py",
   "mimetype": "text/x-python",
   "name": "python",
   "nbconvert_exporter": "python",
   "pygments_lexer": "ipython2",
   "version": "2.7.8"
  }
 },
 "nbformat": 4,
 "nbformat_minor": 0
}
