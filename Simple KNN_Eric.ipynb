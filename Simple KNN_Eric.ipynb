{
 "cells": [
  {
   "cell_type": "code",
   "execution_count": 68,
   "metadata": {
    "collapsed": true
   },
   "outputs": [],
   "source": [
    "# This tells matplotlib not to try opening a new window for each plot.\n",
    "%matplotlib inline\n",
    "\n",
    "# General libraries.\n",
    "import numpy as np\n",
    "import matplotlib.pyplot as plt\n",
    "import pandas as pd\n",
    "\n",
    "# SK-learn libraries for learning.\n",
    "from sklearn.pipeline import Pipeline\n",
    "from sklearn.neighbors import KNeighborsClassifier\n",
    "from sklearn.grid_search import GridSearchCV\n",
    "\n",
    "# SK-learn libraries for evaluation.\n",
    "from sklearn.metrics import confusion_matrix\n",
    "from sklearn import metrics\n",
    "from sklearn.metrics import classification_report\n"
   ]
  },
  {
   "cell_type": "code",
   "execution_count": 118,
   "metadata": {
    "collapsed": false
   },
   "outputs": [],
   "source": [
    "data = pd.read_csv(\"train.csv\")\n",
    "test = pd.read_csv(\"test.csv\")\n",
    "data = data[data.Y != 90]\n",
    "#data = data[data.Resolution != 'NONE']\n",
    "stk_list = ['LARCENY/THEFT','OTHER OFFENSES','NON-CRIMINAL','ASSAULT','DRUG/NARCOTIC']\n",
    "data = data[data.Category.isin(stk_list)]\n",
    "#test = test[data.PdDistrict == 'MISSION']\n",
    "data['Dates'] = pd.to_datetime(data['Dates'])\n",
    "data['Year'] = data.Dates.dt.year\n",
    "data['Month'] = data.Dates.dt.month\n",
    "data['Day'] = data.Dates.dt.day\n",
    "data['Date'] = data.Dates.dt.date\n",
    "data['Hour'] = data.Dates.dt.hour\n",
    "data['DayOfYear'] = data.Dates.dt.dayofyear\n",
    "data['WeekDay'] = data.Dates.dt.weekday\n",
    "#\n",
    "test['Dates'] = pd.to_datetime(test['Dates'])\n",
    "test['Year'] = test.Dates.dt.year\n",
    "test['Month'] = test.Dates.dt.month\n",
    "test['Day'] = test.Dates.dt.day\n",
    "test['Date'] = test.Dates.dt.date\n",
    "test['Hour'] = test.Dates.dt.hour\n",
    "test['DayOfYear'] = test.Dates.dt.dayofyear\n",
    "test['WeekDay'] = test.Dates.dt.weekday\n"
   ]
  },
  {
   "cell_type": "code",
   "execution_count": 119,
   "metadata": {
    "collapsed": false
   },
   "outputs": [],
   "source": [
    "data['PdCode'] = data['PdDistrict'].replace('SOUTHERN',1)\n",
    "data['PdCode'] = data['PdCode'].replace('MISSION',2)\n",
    "data['PdCode'] = data['PdCode'].replace('NORTHERN',3)\n",
    "data['PdCode'] = data['PdCode'].replace('BAYVIEW',4)\n",
    "data['PdCode'] = data['PdCode'].replace('CENTRAL',5)\n",
    "data['PdCode'] = data['PdCode'].replace('TENDERLOIN',6)\n",
    "data['PdCode'] = data['PdCode'].replace('INGLESIDE',7)\n",
    "data['PdCode'] = data['PdCode'].replace('TARAVAL',8)\n",
    "data['PdCode'] = data['PdCode'].replace('PARK',9)\n",
    "data['PdCode'] = data['PdCode'].replace('RICHMOND',10)\n",
    "test['PdCode'] = test['PdDistrict'].replace('SOUTHERN',1)\n",
    "test['PdCode'] = test['PdCode'].replace('MISSION',2)\n",
    "test['PdCode'] = test['PdCode'].replace('NORTHERN',3)\n",
    "test['PdCode'] = test['PdCode'].replace('BAYVIEW',4)\n",
    "test['PdCode'] = test['PdCode'].replace('CENTRAL',5)\n",
    "test['PdCode'] = test['PdCode'].replace('TENDERLOIN',6)\n",
    "test['PdCode'] = test['PdCode'].replace('INGLESIDE',7)\n",
    "test['PdCode'] = test['PdCode'].replace('TARAVAL',8)\n",
    "test['PdCode'] = test['PdCode'].replace('PARK',9)\n",
    "test['PdCode'] = test['PdCode'].replace('RICHMOND',10)"
   ]
  },
  {
   "cell_type": "code",
   "execution_count": 120,
   "metadata": {
    "collapsed": false
   },
   "outputs": [
    {
     "data": {
      "text/plain": [
       "1      3\n",
       "2      3\n",
       "3      3\n",
       "4      9\n",
       "5      7\n",
       "8     10\n",
       "9      5\n",
       "10     5\n",
       "11     8\n",
       "13     3\n",
       "14     4\n",
       "15     4\n",
       "17     7\n",
       "18     4\n",
       "19     6\n",
       "...\n",
       "878024     9\n",
       "878025     4\n",
       "878028     1\n",
       "878029     6\n",
       "878031     4\n",
       "878032     3\n",
       "878035     3\n",
       "878036     3\n",
       "878039     3\n",
       "878040     2\n",
       "878041    10\n",
       "878042     4\n",
       "878043     4\n",
       "878045     7\n",
       "878046     1\n",
       "Name: PdCode, Length: 524193, dtype: int64"
      ]
     },
     "execution_count": 120,
     "metadata": {},
     "output_type": "execute_result"
    }
   ],
   "source": [
    "data['PdCode']"
   ]
  },
  {
   "cell_type": "code",
   "execution_count": 110,
   "metadata": {
    "collapsed": false
   },
   "outputs": [
    {
     "name": "stdout",
     "output_type": "stream",
     "text": [
      "Train Data:\n",
      "(877982, 17)\n",
      "['Dates' 'Category' 'Descript' 'DayOfWeek' 'PdDistrict' 'Resolution'\n",
      " 'Address' 'X' 'Y' 'Year' 'Month' 'Day' 'Date' 'Hour' 'DayOfYear' 'WeekDay'\n",
      " 'PdCode']\n",
      "Test Data:\n",
      "(884262, 15)\n",
      "['Id' 'Dates' 'DayOfWeek' 'PdDistrict' 'Address' 'X' 'Y' 'Year' 'Month'\n",
      " 'Day' 'Date' 'Hour' 'DayOfYear' 'WeekDay' 'PdCode']\n"
     ]
    }
   ],
   "source": [
    "# Big Picture of Data\n",
    "print \"Train Data:\"\n",
    "print data.shape\n",
    "print data.columns.values\n",
    "print \"Test Data:\"\n",
    "print test.shape\n",
    "print test.columns.values\n"
   ]
  },
  {
   "cell_type": "code",
   "execution_count": 121,
   "metadata": {
    "collapsed": false
   },
   "outputs": [
    {
     "name": "stdout",
     "output_type": "stream",
     "text": [
      "count    524193.000000\n",
      "mean       2320.083996\n",
      "std        1321.972685\n",
      "min           0.000000\n",
      "25%        1184.000000\n",
      "50%        2333.000000\n",
      "75%        3504.000000\n",
      "max        4510.000000\n",
      "Name: DateDiff, dtype: float64\n",
      "count    884262.000000\n",
      "mean       2259.105934\n",
      "std        1327.543529\n",
      "min           0.000000\n",
      "25%        1088.000000\n",
      "50%        2250.000000\n",
      "75%        3444.000000\n",
      "max        4512.000000\n",
      "Name: DateDiff, dtype: float64\n"
     ]
    }
   ],
   "source": [
    "# Add a column counting days since the min date in the dataset\n",
    "def add_date_diff(df):\n",
    "    datetime_vector = pd.to_datetime(df['Dates'])\n",
    "    date_vector = datetime_vector.dt.date\n",
    "    date_diff_vector = (date_vector - date_vector.min()) / np.timedelta64(1, 'D')\n",
    "    df['DateDiff'] = date_diff_vector\n",
    "\n",
    "add_date_diff(data)\n",
    "add_date_diff(test)\n",
    "print data.DateDiff.describe()\n",
    "print test.DateDiff.describe()\n"
   ]
  },
  {
   "cell_type": "code",
   "execution_count": 122,
   "metadata": {
    "collapsed": false
   },
   "outputs": [
    {
     "name": "stdout",
     "output_type": "stream",
     "text": [
      "(471774, 18)\n",
      "(52419, 18)\n",
      "(884262, 16)\n"
     ]
    }
   ],
   "source": [
    "# Create random dev sample so we can see how that accuracy compares to our Kaggle results\n",
    "np.random.seed(100)\n",
    "\n",
    "rows = np.random.choice(data.index, size = len(data) / 10, replace = False)\n",
    "\n",
    "dev = data.ix[rows]\n",
    "train = data.drop(rows)\n",
    "\n",
    "print train.shape\n",
    "print dev.shape\n",
    "print test.shape\n"
   ]
  },
  {
   "cell_type": "code",
   "execution_count": 125,
   "metadata": {
    "collapsed": false
   },
   "outputs": [
    {
     "name": "stdout",
     "output_type": "stream",
     "text": [
      "[ 0.  0.  0.]\n",
      "[ 1.  1.  1.]\n"
     ]
    }
   ],
   "source": [
    "# Convert to Numpy Format\n",
    "train_data = np.array(train[['DateDiff','X','Y']].values)\n",
    "train_labels = np.array(train[['Category']].values.ravel())\n",
    "\n",
    "dev_data = np.array(dev[['DateDiff','X','Y']].values)\n",
    "dev_labels = np.array(dev[['Category']].values.ravel())\n",
    "\n",
    "full_data = np.array(data[['DateDiff','X','Y']].values)\n",
    "full_labels = np.array(data[['Category']].values.ravel())\n",
    "\n",
    "test_data = np.array(test[['DateDiff','X','Y']].values)\n",
    "\n",
    "# Normalize Data to Between 0-1\n",
    "#a + (x-A)*(b-a)/(B-A) \n",
    "train_normed = 0 + (np.abs(train_data) - np.abs(train_data).min(axis=0))*(1-0)/(np.abs(train_data).max(axis=0) - np.abs(train_data).min(axis=0)) \n",
    "dev_normed = 0 + (np.abs(dev_data) - np.abs(dev_data).min(axis=0))*(1-0)/(np.abs(dev_data).max(axis=0) - np.abs(dev_data).min(axis=0)) \n",
    "\n",
    "print train_normed.min(axis=0)\n",
    "print train_normed.max(axis=0)"
   ]
  },
  {
   "cell_type": "code",
   "execution_count": 128,
   "metadata": {
    "collapsed": false,
    "scrolled": false
   },
   "outputs": [
    {
     "name": "stdout",
     "output_type": "stream",
     "text": [
      "The KNN with DateDiff, X and Y (k=1) scores: 0.367664\n",
      "The KNN with normalized DateDiff, X and Y (k=1) scores: 0.394827\n"
     ]
    }
   ],
   "source": [
    "\n",
    "# Fit a basic KNN with DateDiff, X, and Y\n",
    "KNNmodel = KNeighborsClassifier(n_neighbors=1)\n",
    "KNNmodel.fit(train_data, train_labels)\n",
    "dev_predict = KNNmodel.predict(dev_data)\n",
    "print \"The KNN with DateDiff, X and Y (k=1) scores: {:.6f}\".format(metrics.f1_score(dev_labels, dev_predict, average='weighted'))\n",
    "\n",
    "# Fit a basic KNN with Normalized Data\n",
    "KNNmodel = KNeighborsClassifier(n_neighbors=1)\n",
    "KNNmodel.fit(train_normed, train_labels)\n",
    "dev_predict = KNNmodel.predict(dev_normed)\n",
    "print \"The KNN with normalized DateDiff, X and Y (k=1) scores: {:.6f}\".format(metrics.f1_score(dev_labels, dev_predict, average='weighted'))\n"
   ]
  },
  {
   "cell_type": "code",
   "execution_count": 102,
   "metadata": {
    "collapsed": false
   },
   "outputs": [
    {
     "data": {
      "text/plain": [
       "KMeans(copy_x=True, init='k-means++', max_iter=300, n_clusters=4, n_init=10,\n",
       "    n_jobs=1, precompute_distances=True, random_state=None, tol=0.0001,\n",
       "    verbose=0)"
      ]
     },
     "execution_count": 102,
     "metadata": {},
     "output_type": "execute_result"
    }
   ],
   "source": []
  },
  {
   "cell_type": "code",
   "execution_count": 104,
   "metadata": {
    "collapsed": false
   },
   "outputs": [],
   "source": []
  },
  {
   "cell_type": "code",
   "execution_count": 106,
   "metadata": {
    "collapsed": false
   },
   "outputs": [
    {
     "data": {
      "text/plain": [
       "(5685,)"
      ]
     },
     "execution_count": 106,
     "metadata": {},
     "output_type": "execute_result"
    }
   ],
   "source": []
  },
  {
   "cell_type": "code",
   "execution_count": 9,
   "metadata": {
    "collapsed": false,
    "scrolled": true
   },
   "outputs": [
    {
     "name": "stdout",
     "output_type": "stream",
     "text": [
      "The scores for each k value was [mean: 0.00303, std: 0.00382, params: {'n_neighbors': 1}, mean: 0.00314, std: 0.00389, params: {'n_neighbors': 2}, mean: 0.00300, std: 0.00380, params: {'n_neighbors': 3}, mean: 0.00302, std: 0.00378, params: {'n_neighbors': 4}, mean: 0.00299, std: 0.00371, params: {'n_neighbors': 5}, mean: 0.00300, std: 0.00373, params: {'n_neighbors': 6}, mean: 0.00297, std: 0.00372, params: {'n_neighbors': 7}, mean: 0.00297, std: 0.00371, params: {'n_neighbors': 8}, mean: 0.00295, std: 0.00369, params: {'n_neighbors': 9}, mean: 0.00295, std: 0.00368, params: {'n_neighbors': 10}] \n",
      "The best k value was {'n_neighbors': 2} with accuracy 0.0031\n"
     ]
    }
   ],
   "source": [
    "# Use GridSearchCV to find a good number of neighbors.\n",
    "#ks = {'n_neighbors': range(1,4)}\n",
    "ks = {'n_neighbors': [1,2,3,4,5,6,7,8,9,10]}\n",
    "KNNGridSearch = GridSearchCV(KNeighborsClassifier(), ks, scoring='f1_weighted')\n",
    "KNNGridSearch.fit(train_data, train_labels)\n",
    "\n",
    "# Report out on the accuracies    \n",
    "print \"The scores for each k value was %s \" % (KNNGridSearch.grid_scores_)\n",
    "print \"The best k value was %s with accuracy %.4f\" % (KNNGridSearch.best_params_, KNNGridSearch.best_score_)\n"
   ]
  },
  {
   "cell_type": "code",
   "execution_count": 127,
   "metadata": {
    "collapsed": false
   },
   "outputs": [
    {
     "name": "stdout",
     "output_type": "stream",
     "text": [
      "The KNN with DateDiff, X and Y (k=2) scores: 0.367664\n"
     ]
    }
   ],
   "source": [
    "# Try k = 2\n",
    "KNNmodel = KNeighborsClassifier(n_neighbors=1)\n",
    "KNNmodel.fit(train_data, train_labels)\n",
    "dev_predict = KNNmodel.predict(dev_data)\n",
    "print \"The KNN with DateDiff, X and Y (k=2) scores: {:.6f}\".format(metrics.f1_score(dev_labels, dev_predict, average='weighted'))\n",
    "\n",
    "\n",
    "# Tried a few tests (including the above). So far k=1 seems best."
   ]
  },
  {
   "cell_type": "markdown",
   "metadata": {},
   "source": [
    "Great, now we've sorted out a naive alg to run. Let's train on all train, then predict on test"
   ]
  },
  {
   "cell_type": "code",
   "execution_count": 129,
   "metadata": {
    "collapsed": true
   },
   "outputs": [],
   "source": [
    "def create_submission(preds):\n",
    "    labels = [\"Id\",\n",
    "                \"ARSON\",\n",
    "                \"ASSAULT\",\n",
    "                \"BAD CHECKS\",\n",
    "                \"BRIBERY\",\n",
    "                \"BURGLARY\",\n",
    "                \"DISORDERLY CONDUCT\",\n",
    "                \"DRIVING UNDER THE INFLUENCE\",\n",
    "                \"DRUG/NARCOTIC\",\n",
    "                \"DRUNKENNESS\",\n",
    "                \"EMBEZZLEMENT\",\n",
    "                \"EXTORTION\",\n",
    "                \"FAMILY OFFENSES\",\n",
    "                \"FORGERY/COUNTERFEITING\",\n",
    "                \"FRAUD\",\n",
    "                \"GAMBLING\",\n",
    "                \"KIDNAPPING\",\n",
    "                \"LARCENY/THEFT\",\n",
    "                \"LIQUOR LAWS\",\n",
    "                \"LOITERING\",\n",
    "                \"MISSING PERSON\",\n",
    "                \"NON-CRIMINAL\",\n",
    "                \"OTHER OFFENSES\",\n",
    "                \"PORNOGRAPHY/OBSCENE MAT\",\n",
    "                \"PROSTITUTION\",\n",
    "                \"RECOVERED VEHICLE\",\n",
    "                \"ROBBERY\",\n",
    "                \"RUNAWAY\",\n",
    "                \"SECONDARY CODES\",\n",
    "                \"SEX OFFENSES FORCIBLE\",\n",
    "                \"SEX OFFENSES NON FORCIBLE\",\n",
    "                \"STOLEN PROPERTY\",\n",
    "                \"SUICIDE\",\n",
    "                \"SUSPICIOUS OCC\",\n",
    "                \"TREA\",\n",
    "                \"TRESPASS\",\n",
    "                \"VANDALISM\",\n",
    "                \"VEHICLE THEFT\",\n",
    "                \"WARRANTS\",\n",
    "                \"WEAPON LAWS\"\n",
    "              ]\n",
    "    head_str = ','.join(labels)\n",
    "\n",
    "    num_cats = len(labels)\n",
    "    \n",
    "    # Make a dummy row to append to\n",
    "    ids = np.arange(preds.shape[0])[np.newaxis].transpose()\n",
    "    \n",
    "    results = np.column_stack((ids, preds))\n",
    "\n",
    "    # Write results to csv\n",
    "    np.savetxt('sample.csv', results, fmt='%d', delimiter=',', header=head_str, comments='')\n",
    "\n",
    "    return results"
   ]
  },
  {
   "cell_type": "code",
   "execution_count": 130,
   "metadata": {
    "collapsed": true
   },
   "outputs": [],
   "source": [
    "# Now that we've done this, let's run the KNN on the full train, apply to the test, then format.\n",
    "KNNmodel = KNeighborsClassifier(n_neighbors=1)\n",
    "KNNmodel.fit(full_data, full_labels)\n",
    "dev_predict = KNNmodel.predict_proba(test_data).astype(int)"
   ]
  },
  {
   "cell_type": "code",
   "execution_count": 131,
   "metadata": {
    "collapsed": false
   },
   "outputs": [],
   "source": [
    "results = create_submission(dev_predict)"
   ]
  },
  {
   "cell_type": "code",
   "execution_count": 132,
   "metadata": {
    "collapsed": false
   },
   "outputs": [
    {
     "name": "stdout",
     "output_type": "stream",
     "text": [
      "(884262, 6)\n"
     ]
    }
   ],
   "source": [
    "print results.shape"
   ]
  },
  {
   "cell_type": "code",
   "execution_count": 135,
   "metadata": {
    "collapsed": false
   },
   "outputs": [
    {
     "data": {
      "text/plain": [
       "KNeighborsClassifier(algorithm='auto', leaf_size=30, metric='minkowski',\n",
       "           metric_params=None, n_neighbors=1, p=2, weights='uniform')"
      ]
     },
     "execution_count": 135,
     "metadata": {},
     "output_type": "execute_result"
    }
   ],
   "source": [
    "KNNmodel"
   ]
  }
 ],
 "metadata": {
  "kernelspec": {
   "display_name": "Python 2",
   "language": "python",
   "name": "python2"
  },
  "language_info": {
   "codemirror_mode": {
    "name": "ipython",
    "version": 2
   },
   "file_extension": ".py",
   "mimetype": "text/x-python",
   "name": "python",
   "nbconvert_exporter": "python",
   "pygments_lexer": "ipython2",
   "version": "2.7.9"
  }
 },
 "nbformat": 4,
 "nbformat_minor": 0
}
