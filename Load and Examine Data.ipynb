{
 "cells": [
  {
   "cell_type": "markdown",
   "metadata": {},
   "source": [
    "This Notebook imports and explores the training dataset for the Kaggle SF Crime problem\n",
    "https://www.kaggle.com/c/sf-crime\n",
    "\n",
    "Current Exploration:\n",
    "- Count unique values for each variable\n",
    "- View most common values\n",
    "\n",
    "Future Exploration:\n",
    "- XY plot of lat/long w. circles to indicate number of crimes (and colors to show category?)\n",
    "- Time series plots to see how category use changes over time\n",
    "\n",
    "\n",
    "\n",
    "Interesting Points:\n",
    "- Most crime on Friday, then Wednesday. Least on Sunday.\n",
    "- X and Y latitude have same number of distinct values. Seem to be somehow linked to locations\n",
    "  since, despite there being a lots of sig fig, they still can be frequency counted\n",
    "- 800 Block of BRYANT ST has 4x+ more data points than anyplace else. Seems to link w/ most freq X and Y\n",
    "- \"Other Offenses\" are common\n",
    "- The dates with the most crime are new years day. Also the first of months.\n",
    "- Note: Strange max value of Y = 90 degrees\n"
   ]
  },
  {
   "cell_type": "code",
   "execution_count": 1,
   "metadata": {
    "collapsed": true
   },
   "outputs": [],
   "source": [
    "# This tells matplotlib not to try opening a new window for each plot.\n",
    "%matplotlib inline\n",
    "\n",
    "# General libraries.\n",
    "import numpy as np\n",
    "import matplotlib.pyplot as plt\n",
    "import pandas as pd\n",
    "\n",
    "import csv\n",
    "import datetime\n",
    "\n",
    "# SK-learn libraries for learning.\n",
    "from sklearn.pipeline import Pipeline\n",
    "from sklearn.neighbors import KNeighborsClassifier\n",
    "from sklearn.grid_search import GridSearchCV\n",
    "\n",
    "# SK-learn libraries for evaluation.\n",
    "from sklearn.metrics import confusion_matrix\n",
    "from sklearn import metrics\n",
    "from sklearn.metrics import classification_report\n"
   ]
  },
  {
   "cell_type": "code",
   "execution_count": 2,
   "metadata": {
    "collapsed": false
   },
   "outputs": [],
   "source": [
    "data = pd.read_csv(\"/Users/cjllop/Code/MIDS/MLearning/Final/Data/train.csv\")\n",
    "\n"
   ]
  },
  {
   "cell_type": "code",
   "execution_count": 4,
   "metadata": {
    "collapsed": false
   },
   "outputs": [
    {
     "name": "stdout",
     "output_type": "stream",
     "text": [
      "878049\n",
      "Index([u'Dates', u'Category', u'Descript', u'DayOfWeek', u'PdDistrict', u'Resolution', u'Address', u'X', u'Y'], dtype='object')\n"
     ]
    }
   ],
   "source": [
    "#print data length and column names\n",
    "print len(data)\n",
    "print data.columns\n"
   ]
  },
  {
   "cell_type": "code",
   "execution_count": 17,
   "metadata": {
    "collapsed": false
   },
   "outputs": [
    {
     "name": "stdout",
     "output_type": "stream",
     "text": [
      "There are a total of 878049, values.\n",
      "There are a total of 389257, Dates.\n",
      "There are a total of 39, Category.\n",
      "There are a total of 879, Descript.\n",
      "There are a total of 7, DayOfWeek.\n",
      "There are a total of 10, PdDistrict.\n",
      "There are a total of 17, Resolution.\n",
      "There are a total of 23228, Address.\n",
      "There are a total of 34243, X.\n",
      "There are a total of 34243, Y.\n"
     ]
    }
   ],
   "source": [
    "# Count distinct for each variable:\n",
    "print \"There are a total of %d, values.\" %len(data)\n",
    "\n",
    "for var, series in data.iteritems():\n",
    "    print \"There are a total of %d, %s.\" % (len(series.value_counts()), var)\n"
   ]
  },
  {
   "cell_type": "code",
   "execution_count": 22,
   "metadata": {
    "collapsed": false
   },
   "outputs": [
    {
     "name": "stdout",
     "output_type": "stream",
     "text": [
      "-------------------------------------------------------------------------\n",
      "There are a total of 39 distinct Category values, as follows: \n",
      "LARCENY/THEFT                  174900\n",
      "OTHER OFFENSES                 126182\n",
      "NON-CRIMINAL                    92304\n",
      "ASSAULT                         76876\n",
      "DRUG/NARCOTIC                   53971\n",
      "VEHICLE THEFT                   53781\n",
      "VANDALISM                       44725\n",
      "WARRANTS                        42214\n",
      "BURGLARY                        36755\n",
      "SUSPICIOUS OCC                  31414\n",
      "MISSING PERSON                  25989\n",
      "ROBBERY                         23000\n",
      "FRAUD                           16679\n",
      "FORGERY/COUNTERFEITING          10609\n",
      "SECONDARY CODES                  9985\n",
      "WEAPON LAWS                      8555\n",
      "PROSTITUTION                     7484\n",
      "TRESPASS                         7326\n",
      "STOLEN PROPERTY                  4540\n",
      "SEX OFFENSES FORCIBLE            4388\n",
      "DISORDERLY CONDUCT               4320\n",
      "DRUNKENNESS                      4280\n",
      "RECOVERED VEHICLE                3138\n",
      "KIDNAPPING                       2341\n",
      "DRIVING UNDER THE INFLUENCE      2268\n",
      "RUNAWAY                          1946\n",
      "LIQUOR LAWS                      1903\n",
      "ARSON                            1513\n",
      "LOITERING                        1225\n",
      "EMBEZZLEMENT                     1166\n",
      "SUICIDE                           508\n",
      "FAMILY OFFENSES                   491\n",
      "BAD CHECKS                        406\n",
      "BRIBERY                           289\n",
      "EXTORTION                         256\n",
      "SEX OFFENSES NON FORCIBLE         148\n",
      "GAMBLING                          146\n",
      "PORNOGRAPHY/OBSCENE MAT            22\n",
      "TREA                                6\n",
      "dtype: int64\n",
      "\n",
      "-------------------------------------------------------------------------\n",
      "There are a total of 10 distinct PdDistrict values, as follows: \n",
      "SOUTHERN      157182\n",
      "MISSION       119908\n",
      "NORTHERN      105296\n",
      "BAYVIEW        89431\n",
      "CENTRAL        85460\n",
      "TENDERLOIN     81809\n",
      "INGLESIDE      78845\n",
      "TARAVAL        65596\n",
      "PARK           49313\n",
      "RICHMOND       45209\n",
      "dtype: int64\n",
      "\n",
      "-------------------------------------------------------------------------\n",
      "There are a total of 17 distinct Resolution values, as follows: \n",
      "NONE                                      526790\n",
      "ARREST, BOOKED                            206403\n",
      "ARREST, CITED                              77004\n",
      "LOCATED                                    17101\n",
      "PSYCHOPATHIC CASE                          14534\n",
      "UNFOUNDED                                   9585\n",
      "JUVENILE BOOKED                             5564\n",
      "COMPLAINANT REFUSES TO PROSECUTE            3976\n",
      "DISTRICT ATTORNEY REFUSES TO PROSECUTE      3934\n",
      "NOT PROSECUTED                              3714\n",
      "JUVENILE CITED                              3332\n",
      "PROSECUTED BY OUTSIDE AGENCY                2504\n",
      "EXCEPTIONAL CLEARANCE                       1530\n",
      "JUVENILE ADMONISHED                         1455\n",
      "JUVENILE DIVERTED                            355\n",
      "CLEARED-CONTACT JUVENILE FOR MORE INFO       217\n",
      "PROSECUTED FOR LESSER OFFENSE                 51\n",
      "dtype: int64\n",
      "\n",
      "-------------------------------------------------------------------------\n",
      "There are a total of 7 distinct DayOfWeek values, as follows: \n",
      "Friday       133734\n",
      "Wednesday    129211\n",
      "Saturday     126810\n",
      "Thursday     125038\n",
      "Tuesday      124965\n",
      "Monday       121584\n",
      "Sunday       116707\n",
      "dtype: int64\n",
      "\n"
     ]
    }
   ],
   "source": [
    "# View All of Categories, PdDistrict, Resolution, DayOfWeek\n",
    "variables = [\"Category\", \"PdDistrict\", \"Resolution\", \"DayOfWeek\"]\n",
    "for col in variables:\n",
    "    print \"-------------------------------------------------------------------------\"\n",
    "    print \"There are a total of %d distinct %s values, as follows: \" % (len(data[col].value_counts()), col)\n",
    "    print data[col].value_counts()\n",
    "    print"
   ]
  },
  {
   "cell_type": "code",
   "execution_count": 23,
   "metadata": {
    "collapsed": false
   },
   "outputs": [
    {
     "name": "stdout",
     "output_type": "stream",
     "text": [
      "-------------------------------------------------------------------------\n",
      "There are a total of 389257 distinct Dates values. The top 15 are: \n",
      "2011-01-01 00:01:00    185\n",
      "2006-01-01 00:01:00    136\n",
      "2012-01-01 00:01:00     94\n",
      "2006-01-01 12:00:00     63\n",
      "2007-06-01 00:01:00     61\n",
      "2006-06-01 00:01:00     58\n",
      "2010-06-01 00:01:00     56\n",
      "2010-08-01 00:01:00     55\n",
      "2008-04-01 00:01:00     53\n",
      "2013-11-01 00:01:00     52\n",
      "2008-11-01 00:01:00     51\n",
      "2013-05-01 00:01:00     51\n",
      "2006-07-01 00:01:00     51\n",
      "2010-11-01 00:01:00     51\n",
      "2005-06-01 00:01:00     50\n",
      "dtype: int64\n",
      "\n",
      "-------------------------------------------------------------------------\n",
      "There are a total of 879 distinct Descript values. The top 15 are: \n",
      "GRAND THEFT FROM LOCKED AUTO                 60022\n",
      "LOST PROPERTY                                31729\n",
      "BATTERY                                      27441\n",
      "STOLEN AUTOMOBILE                            26897\n",
      "DRIVERS LICENSE, SUSPENDED OR REVOKED        26839\n",
      "WARRANT ARREST                               23754\n",
      "SUSPICIOUS OCCURRENCE                        21891\n",
      "AIDED CASE, MENTAL DISTURBED                 21497\n",
      "PETTY THEFT FROM LOCKED AUTO                 19771\n",
      "MALICIOUS MISCHIEF, VANDALISM OF VEHICLES    17789\n",
      "TRAFFIC VIOLATION                            16471\n",
      "PETTY THEFT OF PROPERTY                      16196\n",
      "MALICIOUS MISCHIEF, VANDALISM                15957\n",
      "THREATS AGAINST LIFE                         14716\n",
      "FOUND PROPERTY                               12146\n",
      "dtype: int64\n",
      "\n",
      "-------------------------------------------------------------------------\n",
      "There are a total of 23228 distinct Address values. The top 15 are: \n",
      "800 Block of BRYANT ST      26533\n",
      "800 Block of MARKET ST       6581\n",
      "2000 Block of MISSION ST     5097\n",
      "1000 Block of POTRERO AV     4063\n",
      "900 Block of MARKET ST       3251\n",
      "0 Block of TURK ST           3228\n",
      "0 Block of 6TH ST            2884\n",
      "300 Block of ELLIS ST        2703\n",
      "400 Block of ELLIS ST        2590\n",
      "16TH ST / MISSION ST         2504\n",
      "1000 Block of MARKET ST      2489\n",
      "1100 Block of MARKET ST      2319\n",
      "2000 Block of MARKET ST      2168\n",
      "100 Block of OFARRELL ST     2140\n",
      "700 Block of MARKET ST       2081\n",
      "dtype: int64\n",
      "\n",
      "-------------------------------------------------------------------------\n",
      "There are a total of 34243 distinct X values. The top 15 are: \n",
      "-122.403405    26354\n",
      "-122.419658     4449\n",
      "-122.406539     3891\n",
      "-122.407634     3170\n",
      "-122.419672     3006\n",
      "-122.409854     2533\n",
      "-122.406521     2329\n",
      "-122.466205     2182\n",
      "-122.475647     2019\n",
      "-122.426956     1991\n",
      "-122.407244     1954\n",
      "-122.452290     1696\n",
      "-122.413564     1658\n",
      "-122.410769     1626\n",
      "-122.394439     1622\n",
      "dtype: int64\n",
      "\n",
      "-------------------------------------------------------------------------\n",
      "There are a total of 34243 distinct Y values. The top 15 are: \n",
      "37.775421    26354\n",
      "37.764221     4449\n",
      "37.756486     3891\n",
      "37.784189     3170\n",
      "37.765050     3006\n",
      "37.783386     2533\n",
      "37.785063     2329\n",
      "37.772541     2182\n",
      "37.728528     2019\n",
      "37.769247     1991\n",
      "37.786565     1954\n",
      "37.725693     1696\n",
      "37.779514     1658\n",
      "37.783215     1626\n",
      "37.736444     1622\n",
      "dtype: int64\n",
      "\n"
     ]
    }
   ],
   "source": [
    "# View Top 15 of Dates, Descript, Address, X, Y\n",
    "variables = [\"Dates\", \"Descript\", \"Address\", \"X\", \"Y\"]\n",
    "for col in variables:\n",
    "    print \"-------------------------------------------------------------------------\"\n",
    "    print \"There are a total of %d distinct %s values. The top 15 are: \" % (len(data[col].value_counts()), col)\n",
    "    print data[col].value_counts().head(15)\n",
    "    print\n"
   ]
  },
  {
   "cell_type": "code",
   "execution_count": 5,
   "metadata": {
    "collapsed": false
   },
   "outputs": [
    {
     "name": "stdout",
     "output_type": "stream",
     "text": [
      "                   X              Y\n",
      "count  878049.000000  878049.000000\n",
      "mean     -122.422616      37.771020\n",
      "std         0.030354       0.456893\n",
      "min      -122.513642      37.707879\n",
      "25%      -122.432952      37.752427\n",
      "50%      -122.416420      37.775421\n",
      "75%      -122.406959      37.784369\n",
      "max      -120.500000      90.000000\n"
     ]
    }
   ],
   "source": [
    "# Describe floats\n",
    "print data.describe()\n",
    "\n",
    "# Note - strange max value of Y = 90 degrees"
   ]
  },
  {
   "cell_type": "code",
   "execution_count": null,
   "metadata": {
    "collapsed": false
   },
   "outputs": [],
   "source": []
  },
  {
   "cell_type": "code",
   "execution_count": null,
   "metadata": {
    "collapsed": true
   },
   "outputs": [],
   "source": []
  }
 ],
 "metadata": {
  "kernelspec": {
   "display_name": "Python 2",
   "language": "python",
   "name": "python2"
  },
  "language_info": {
   "codemirror_mode": {
    "name": "ipython",
    "version": 2
   },
   "file_extension": ".py",
   "mimetype": "text/x-python",
   "name": "python",
   "nbconvert_exporter": "python",
   "pygments_lexer": "ipython2",
   "version": "2.7.8"
  }
 },
 "nbformat": 4,
 "nbformat_minor": 0
}
