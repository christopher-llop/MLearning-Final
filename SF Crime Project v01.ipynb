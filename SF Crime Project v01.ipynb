{
 "cells": [
  {
   "cell_type": "markdown",
   "metadata": {},
   "source": [
    "Import appropriate libraries"
   ]
  },
  {
   "cell_type": "code",
   "execution_count": 1,
   "metadata": {
    "collapsed": true
   },
   "outputs": [],
   "source": [
    "# This tells matplotlib not to try opening a new window for each plot.\n",
    "%matplotlib inline\n",
    "\n",
    "# General libraries.\n",
    "import numpy as np\n",
    "import matplotlib.pyplot as plt\n",
    "import pandas as pd\n",
    "\n",
    "import csv\n",
    "import datetime\n",
    "\n",
    "# SK-learn libraries for learning.\n",
    "from sklearn.pipeline import Pipeline\n",
    "from sklearn.neighbors import KNeighborsClassifier\n",
    "from sklearn.grid_search import GridSearchCV\n",
    "\n",
    "# SK-learn libraries for evaluation.\n",
    "from sklearn.metrics import confusion_matrix\n",
    "from sklearn import metrics\n",
    "from sklearn.metrics import classification_report\n",
    "\n",
    "# Set Numpy to print all lines of arrays\n",
    "np.set_printoptions(threshold='nan')"
   ]
  },
  {
   "cell_type": "markdown",
   "metadata": {},
   "source": [
    "Read data into Pandas dataframe for ease of use"
   ]
  },
  {
   "cell_type": "code",
   "execution_count": 14,
   "metadata": {
    "collapsed": false
   },
   "outputs": [],
   "source": [
    "data = pd.read_csv(\"train.csv\")\n",
    "test = pd.read_csv(\"test.csv\")\n",
    "\n",
    "# Convert Pandas dataframe into Numpy array\n",
    "data_np = np.array(data.values)\n",
    "test_np = np.array(test.values)\n"
   ]
  },
  {
   "cell_type": "code",
   "execution_count": 15,
   "metadata": {
    "collapsed": false
   },
   "outputs": [
    {
     "name": "stdout",
     "output_type": "stream",
     "text": [
      "['Id', 'Dates', 'DayOfWeek', 'PdDistrict', 'Address', 'X', 'Y']\n",
      "[0 '2015-05-13 23:53:00' 'Wednesday' 'NORTHERN' 'OAK ST / LAGUNA ST'\n",
      " -122.425891675136 37.7745985956747] \n",
      "\n",
      "['Id', 'Dates', 'DayOfWeek', 'PdDistrict', 'Address', 'X', 'Y']\n",
      "[0L '2015-05-10 23:59:00' 'Sunday' 'BAYVIEW' '2000 Block of THOMAS AV'\n",
      " -122.39958770418998 37.7350510103906]\n"
     ]
    }
   ],
   "source": [
    "# Preserve column names since I had a hard time figuring out how to name Numpy columns\n",
    "col_names_train = data.columns.values.tolist()\n",
    "col_names_test = test.columns.values.tolist()\n",
    "\n",
    "# Separate labels\n",
    "labels = data_np[:, 1]\n",
    "\n",
    "# Add index number and remove unusable columns from train data to keep consistent with test data\n",
    "data_np = np.column_stack((np.arange(data.shape[0]), data_np))\n",
    "col_names_train.insert(0, \"Id\")\n",
    "\n",
    "train_cols_keep = [0, 1, 4, 5, 7, 8, 9]\n",
    "\n",
    "train_data = data_np[:, train_cols_keep]\n",
    "train_names = [col_names_train[i] for i in range(len(col_names_train)) if i in train_cols_keep]\n",
    "\n",
    "test_names = col_names_test[:]\n",
    "\n",
    "print train_names\n",
    "print train_data[0], \"\\n\"\n",
    "print test_names\n",
    "print test_np[0]"
   ]
  },
  {
   "cell_type": "code",
   "execution_count": 21,
   "metadata": {
    "collapsed": false
   },
   "outputs": [
    {
     "name": "stdout",
     "output_type": "stream",
     "text": [
      "Base Mini Train Data: (5000L, 2L)\n",
      "Base Mini Train Labels: (5000L,)\n",
      "Base Train Data: (434023L, 2L)\n",
      "Base Train Labels: (434023L,)\n",
      "Base Dev Data: (439024L, 2L)\n",
      "Base Dev Labels: (439024L,)\n",
      "Base Test Data: (884262L, 2L)\n",
      "Columns in use: ['X', 'Y']\n"
     ]
    }
   ],
   "source": [
    "# Shuffle the input: create a random permutation of the integers between 0 and the number of data points and apply this\n",
    "# permutation to features.\n",
    "# NOTE: Each time you run this cell, you'll re-shuffle the data, resulting in a different ordering.\n",
    "\n",
    "shuffle = np.random.permutation(np.arange(train_data.shape[0]))\n",
    "train_data = train_data[shuffle]\n",
    "num_examples = train_data.shape[0]\n",
    "\n",
    "# Which columns are we going to use for the model?\n",
    "# For the basleine, let's only use the X and Y coordinates\n",
    "base_features = [5, 6]\n",
    "\n",
    "features = train_data[:, base_features]\n",
    "\n",
    "# Split the feature and label sets into train and dev sets\n",
    "base_mini_train_data = features[:5000]\n",
    "base_mini_train_labels = labels[:5000]\n",
    "\n",
    "base_train_data = features[5001:num_examples/2]\n",
    "base_train_labels = labels[5001:num_examples/2]\n",
    "\n",
    "base_dev_data = features[num_examples/2 + 1:]\n",
    "base_dev_labels = labels[num_examples/2 + 1:]\n",
    "\n",
    "base_test_data = test_np[:, base_features]\n",
    "\n",
    "base_names = [train_names[i] for i in range(len(train_names)) if i in base_features]\n",
    "\n",
    "print \"Base Mini Train Data:\", base_mini_train_data.shape\n",
    "print \"Base Mini Train Labels:\", base_mini_train_labels.shape\n",
    "print \"Base Train Data:\", base_train_data.shape\n",
    "print \"Base Train Labels:\", base_train_labels.shape\n",
    "print \"Base Dev Data:\", base_dev_data.shape\n",
    "print \"Base Dev Labels:\", base_dev_labels.shape\n",
    "print \"Base Test Data:\", base_test_data.shape\n",
    "print \"Columns in use:\", base_names"
   ]
  },
  {
   "cell_type": "code",
   "execution_count": 17,
   "metadata": {
    "collapsed": false
   },
   "outputs": [],
   "source": [
    "def create_submission(preds):\n",
    "    labels = [\"Id\",\n",
    "                \"ARSON\",\n",
    "                \"ASSAULT\",\n",
    "                \"BAD CHECKS\",\n",
    "                \"BRIBERY\",\n",
    "                \"BURGLARY\",\n",
    "                \"DISORDERLY CONDUCT\",\n",
    "                \"DRIVING UNDER THE INFLUENCE\",\n",
    "                \"DRUG/NARCOTIC\",\n",
    "                \"DRUNKENNESS\",\n",
    "                \"EMBEZZLEMENT\",\n",
    "                \"EXTORTION\",\n",
    "                \"FAMILY OFFENSES\",\n",
    "                \"FORGERY/COUNTERFEITING\",\n",
    "                \"FRAUD\",\n",
    "                \"GAMBLING\",\n",
    "                \"KIDNAPPING\",\n",
    "                \"LARCENY/THEFT\",\n",
    "                \"LIQUOR LAWS\",\n",
    "                \"LOITERING\",\n",
    "                \"MISSING PERSON\",\n",
    "                \"NON-CRIMINAL\",\n",
    "                \"OTHER OFFENSES\",\n",
    "                \"PORNOGRAPHY/OBSCENE MAT\",\n",
    "                \"PROSTITUTION\",\n",
    "                \"RECOVERED VEHICLE\",\n",
    "                \"ROBBERY\",\n",
    "                \"RUNAWAY\",\n",
    "                \"SECONDARY CODES\",\n",
    "                \"SEX OFFENSES FORCIBLE\",\n",
    "                \"SEX OFFENSES NON FORCIBLE\",\n",
    "                \"STOLEN PROPERTY\",\n",
    "                \"SUICIDE\",\n",
    "                \"SUSPICIOUS OCC\",\n",
    "                \"TREA\",\n",
    "                \"TRESPASS\",\n",
    "                \"VANDALISM\",\n",
    "                \"VEHICLE THEFT\",\n",
    "                \"WARRANTS\",\n",
    "                \"WEAPON LAWS\"\n",
    "              ]\n",
    "\n",
    "    num_cats = len(labels)\n",
    "    results = np.arange(num_cats)\n",
    "    for i in range(len(preds)):\n",
    "        new_row = (preds[i] == np.array(labels[1:])) * 1\n",
    "        new_row = np.append(i, new_row)\n",
    "        results = np.vstack([results, new_row])\n",
    "\n",
    "    results = results[1:,]\n",
    "    print results\n",
    "\n",
    "    with open('sample.csv', 'wb') as f:\n",
    "        writer = csv.writer(f)\n",
    "        writer.writerow(labels)\n",
    "        writer.writerows(results)"
   ]
  },
  {
   "cell_type": "code",
   "execution_count": 22,
   "metadata": {
    "collapsed": false
   },
   "outputs": [
    {
     "name": "stdout",
     "output_type": "stream",
     "text": [
      "Baseline score on dev set: 9.64%\n"
     ]
    }
   ],
   "source": [
    "# Baseline features only using location of crime\n",
    "# Use k-nearest neighbors as baseline model\n",
    "\n",
    "knn = KNeighborsClassifier(n_neighbors = 1)\n",
    "knn.fit(base_train_data, base_train_labels)\n",
    "print \"Baseline score on dev set: {:.2%}\".format(knn.score(base_dev_data, base_dev_labels))\n"
   ]
  },
  {
   "cell_type": "code",
   "execution_count": null,
   "metadata": {
    "collapsed": false
   },
   "outputs": [],
   "source": [
    "predictions = knn.predict(base_test_data)\n",
    "create_submission(predictions)"
   ]
  }
 ],
 "metadata": {
  "kernelspec": {
   "display_name": "Python 2",
   "language": "python",
   "name": "python2"
  },
  "language_info": {
   "codemirror_mode": {
    "name": "ipython",
    "version": 2
   },
   "file_extension": ".py",
   "mimetype": "text/x-python",
   "name": "python",
   "nbconvert_exporter": "python",
   "pygments_lexer": "ipython2",
   "version": "2.7.9"
  }
 },
 "nbformat": 4,
 "nbformat_minor": 0
}
